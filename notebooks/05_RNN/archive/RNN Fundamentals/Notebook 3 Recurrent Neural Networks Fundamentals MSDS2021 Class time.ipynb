{
 "cells": [
  {
   "cell_type": "markdown",
   "metadata": {},
   "source": []
  },
  {
   "cell_type": "markdown",
   "metadata": {},
   "source": [
    "# Notebook 3. Recurrent Neural Networks (RNN) for Sequential Data\n",
    "\n",
    "Compiled by:\n",
    "Christopher Monterola\n",
    "\n",
    "Lecture is taken from:\n",
    "\n",
    "**1. Python Machine Learning, Second Edition, Sebastian Raschka and Vahid Mirjalili, Packt Publishing Ltd. Birmingham B3 2PB, UK Sept 2017.**\n",
    "\n",
    "**2. Hands-On Machine Learning with Scikit-Learn and TensorFlow, Aurélien Géron, O'Reilly 2017.**\n",
    "\n",
    "**3. Deep Learning with Python, Francois Chollet, Manning New York 2018.**\n",
    "\n",
    "In this notebook, we will explore Recurrent Neural Networks (RNNs) and see their application in modeling sequential data and a specific subset of sequential data—time-series data.  In particularwe will cover here the following topics:\n",
    "    \n",
    "    • Introducing sequential data   \n",
    "    • RNNs for modeling sequences   \n",
    "    • Long Short-Term Memory (LSTM)      \n",
    "    \n",
    "\n",
    "We demonstrate the result using **Sentiment analysis/prediction of the IMDb movie review dataset **   \n",
    "\n"
   ]
  },
  {
   "cell_type": "markdown",
   "metadata": {},
   "source": [
    "## 1. Introducing sequential data\n",
    "\n",
    "Let's begin our discussion of RNNs by looking at the nature of sequential data, more commonly known as sequences. We'll take a look at the unique properties of sequences that make them different from other kinds of data. We'll then see how we can represent sequential data, and explore the various categories of models for sequential data, which are based on the input and output of a model. This will help us explore the relationship between RNNs and sequences a little bit later on in the notebook.\n",
    "\n",
    "### 1.1 Modeling sequential data – order matters\n",
    "\n",
    "What makes sequences unique, from other data types, is that elements in a sequence appear in a certain order, and are not independent of each other --- in other words, order matters. We next need to find ways to leverage this valuable information in our machine learning model.\n",
    "\n",
    "Throughout this notebook, we will represent sequences as ($x^{(1)}$ , $x^{(2)}$ , ... , $x^{(T)}$). The  superscript indices indicate the order of the instances, and the length of the sequence is T. For a sensible example of sequences, consider time-series data, where each sample point $x^{(t)}$ belongs to a particular time t. \n",
    "\n",
    "The following figure shows an example of time-series data where both x's and y's naturally follow the order according to their time axis; therefore, both x's and y's are sequences:\n",
    "\n",
    "<img src=\"RNN_sequence.png\" width=\"500\">\n",
    "\n",
    "The standard neural network models that we have covered so far, such as MLPs and CNNs, are not desinged in handling the order of input samples. Intuitively, one can say that such models do not have a memory of the past seen samples. For instance, the samples are passed through the feedforward and backpropagation steps, and the\n",
    "weights are updated independent of the order in which the sample is processed.\n",
    "\n",
    "RNNs, by contrast, are designed for modeling sequences and are capable of remembering past information and processing new events accordingly.\n",
    "\n",
    "\n"
   ]
  },
  {
   "cell_type": "markdown",
   "metadata": {},
   "source": [
    "### 1.2 The different categories of sequence modeling\n",
    "\n",
    "Sequence modeling has many fascinating applications, such as language translation (perhaps from English to Filipino), image captioning, and text generation.\n",
    "\n",
    "However, we need to understand the different types of sequence modeling tasks to develop an appropriate model. The following figure, based on the explanations in the excellent article The Unreasonable Effectiveness of Recurrent Neural Networks by Andrej Karpathy (http://karpathy.github.io/2015/05/21/rnn-effectiveness/), shows several different relationship categories of input and output data:\n",
    "\n",
    "<img src=\"RNN_categories.png\" width=\"500\">\n",
    "\n",
    "So, let's consider the input and output data here. If neither the input or output data represents sequences, then we are dealing with standard data, and we can use any of the previous methods to model such data. But if either the input or output is a sequence, the data will form one of the following three different categories:\n",
    "\n",
    "• **Many-to-one:** The input data is a sequence, but the output is a fixed-size vector, not a sequence. For example, in sentiment analysis, the input is textbased and the output is a class label.\n",
    "\n",
    "• **One-to-many:** The input data is in standard format, not a sequence, but the output is a sequence. An example of this category is image captioning—the input is an image; the output is an English phrase.\n",
    "\n",
    "• **Many-to-many:** Both the input and output arrays are sequences. This category can be further divided based on whether the input and output are synchronized or not. An example of a synchronized many-to-many modeling task is video classification, where each frame in a video is labeled. An example of a delayed many-to-many would be translating a language into another. For instance, an entire English sentence must be read and processed by a machine before producing its translation into Filipino."
   ]
  },
  {
   "cell_type": "markdown",
   "metadata": {},
   "source": [
    "## 2 RNNs for modeling sequences\n",
    "\n",
    "We now look at the foundations of RNNs. We'll start by introducing the typical structure of an RNN, and we'll see how the data flows through it with one or more hidden layers. We'll then examine how the neuron activations are computed in a typical RNN. This will create a context for us to discuss the common challenges in training RNNs, and explore the modern solution to these challenges—LSTM.\n",
    "\n",
    "### 2.1 Understanding the structure and flow of an RNN\n",
    "\n",
    "Let's start by introducing the architecture of an RNN. The following figure shows a standard feedforward neural network and an RNN, in a side by side for comparison:\n",
    "\n",
    "\n",
    "<img src=\"RNNvsfeedforwardNN.png\" width=\"500\">\n",
    "\n",
    "Both of these networks have only one hidden layer. In this representation, the units are not displayed, but we assume that the input layer ($\\mathbf{x}$), hidden layer ($\\mathbf{h}$), and output layer ($\\mathbf{y}$) are vectors which contain many units.\n",
    "\n",
    "In a standard feedforward network, information flows from the input to the hidden layer, and then from the hidden layer to the output layer. On the other hand, in a recurrent network, the hidden layer gets its input from both the input layer and the hidden layer from the previous time step.\n",
    "\n",
    "The flow of information in adjacent time steps in the hidden layer allows the network to have a memory of past events. This flow of information is usually displayed as a loop, also known as a recurrent edge in graph notation, which is how this general architecture got its name.\n",
    "\n",
    "In the following figure, the single hidden layer network and the multilayer network illustrate two contrasting architectures:\n",
    "\n",
    "<img src=\"RNN_architectures.png\" width=\"700\">\n",
    "\n",
    "In order to examine the architecture of RNNs and the flow of information, a compact representation with a recurrent edge can be unfolded, which you can see in the preceding figure. As we know, each hidden unit in a standard neural network receives only one input—the net preactivation associated with the input layer. Now, in contrast, each hidden unit in an RNN receives two distinct sets of input—the preactivation from the input layer and the activation of the same hidden layer from the previous time step t-1.\n",
    "\n",
    "At the first time step t = 0, the hidden units are initialized to zeros or small random values. Then, at a time step where t > 0, the hidden units get their input from the data point at the current time $\\mathbf{x}^{(t)}$ and the previous values of hidden units at t - 1, indicated as $\\mathbf{h}^{(t-1)}$.\n",
    "\n",
    "Similarly, in the case of a multilayer RNN, we can summarize the information flow as follows:\n",
    "\n",
    "• *layer =1*: Here, the hidden layer is represented as $\\mathbf{h_1}^{(t)}$ and gets its input\n",
    "from the data point $\\mathbf{x}^{(t)}$ and the hidden values in the same layer, but the previous time step $\\mathbf{h_1}^{(t-1)}$\n",
    "\n",
    "• *layer = 2* : The second hidden layer, $\\mathbf{h_2}^{(t)}$ receives its inputs from the hidden units from the layer below at the current time step $\\mathbf{h_1}^{(t)}$ and its own hidden values from the previous time step $\\mathbf{h_2}^{(t-1)}$\n",
    "\n"
   ]
  },
  {
   "cell_type": "markdown",
   "metadata": {},
   "source": [
    "### 2.2 Computing activations in an RNN\n",
    "\n",
    "Now that we understand the structure and general flow of information in an RNN, let's get more specific and compute the actual activations of the hidden layers as well as the output layer. For simplicity, we'll consider just a single hidden layer; however, the same concept applies to multilayer RNNs.\n",
    "\n",
    "Each directed edge (the connections between boxes) in the representation of an RNN that we just looked at is associated with a weight matrix. Those weights do not depend on time t; therefore, they are shared across the time axis. The different weight matrices in a single layer RNN are as follows:\n",
    "\n",
    "• $\\mathbf{W}_{xh}$ : The weight matrix between the input $\\mathbf{x}^{(t)}$ and the hidden layer $\\mathbf{h}$   \n",
    "• $\\mathbf{W}_{hh}$ : The weight matrix associated with the recurrent edge   \n",
    "• $\\mathbf{W}_{hy}$: The weight matrix between the hidden layer and output layer   \n",
    "\n",
    "You can see these weight matrices in the following figure:\n",
    "\n",
    "<img src=\"RNN_weightmatrices.png\" width=\"700\">\n",
    "\n",
    "In certain implementations, you may observe that weight matrices $\\mathbf{W}_{xh}$ and $\\mathbf{W}_{hh}$ are concatenated to a combined matrix $\\mathbf{W}_{h}$ = [$\\mathbf{W}_{xh}$; $\\mathbf{W}_{hh}$]. Later on, we'll make use of this notation as well.\n",
    "\n",
    "\n",
    "Computing the activations is very similar to standard multilayer perceptrons and other types of feedforward neural networks. For the hidden layer, the net input $\\mathbf{z}_h$(preactivation) is computed through a linear combination. That is, we compute the sum of the multiplications of the weight matrices with the corresponding vectors and add the bias unit --- $\\mathbf{z}_h$=$\\mathbf{W}_{xh}$$\\mathbf{x}^{(t)}$ + $\\mathbf{W}_{hh}$$\\mathbf{h}^{(t-1)}$ + $\\mathbf{b}_{h}$. Then, the activations of the hidden units at the time step t are calculated as follows:\n",
    "\n",
    "\\begin{equation}\n",
    "\\mathbf{h}^{(t)}= \\phi_h(\\mathbf{z}_h) = \\phi_h(\\mathbf{W}_{xh} \\mathbf{x}^{(t)} + \\mathbf{W}_{hh} \\mathbf{h}^{(t-1)} + \\mathbf{b}_{h})\n",
    "\\end{equation}\n",
    "\n",
    "Here, $\\mathbf{b}_{h}$ is the bias vector for the hidden units and $\\phi_h( )$  is the activation function\n",
    "of the hidden layer.\n",
    "\n",
    "\n",
    "\n",
    "In case you want to use the concatenated weight matrix $\\mathbf{W}_{h}$ = [$\\mathbf{W}_{xh}$; $\\mathbf{W}_{hh}$], the formula for computing hidden units will change as follows:\n",
    "\n",
    "\\begin{equation}\n",
    "\\mathbf{h}^{(t)}= \\phi_h(\\mathbf{W}_{h}\\begin{bmatrix}\\mathbf{x}^{(t)}\\\\\n",
    "\\mathbf{h}^{(t-1)} \\\\\n",
    "\\end{bmatrix} + \\mathbf{b}_{h})\n",
    "\\end{equation}\n",
    "\n",
    "\n",
    "Once the activations of hidden units at the current time step are computed, then the activations of output units will be computed as follows:\n",
    "\n",
    "\\begin{equation}\n",
    "\\mathbf{y}^{(t)}= \\phi_y(\\mathbf{W}_{hy}\\mathbf{h}^{(t)} + \\mathbf{b}_{y})\n",
    "\\end{equation}\n",
    "\n",
    "To help clarify this further, the following figure shows the process of computing\n",
    "these activations with both formulations:\n",
    "\n",
    "<img src=\"RNN_forwardpropagation.png\" width=\"700\">\n",
    "\n",
    "Backpropagation now proceeds as usual as we have not a clear expresssion for weights and output of the RNN.\n"
   ]
  },
  {
   "cell_type": "markdown",
   "metadata": {},
   "source": [
    "### 2.3 The challenges of learning long-range interactions\n",
    "\n",
    "<img src=\"RNN_BPTT.png\" width=\"800\">\n",
    "\n",
    "\n",
    "Backpropagation through time, or BPTT, which we briefly mentioned in the previous\n",
    "information box, introduces some new challenges. Because of the multiplicative factor $\\frac{\\partial \\mathbf{h}^{(t)}}{\\partial \\mathbf{h}^{(k)}}$ in the computing gradients of a loss function, the so-called vanishing or exploding gradient problem arises. This problem is explained through the examples in the following figure, which shows an RNN with only one hidden unit for simplicity:\n",
    "\n",
    "<img src=\"RNN_gradients.png\" width=\"800\">\n",
    "\n",
    "Basically, $\\frac{\\partial \\mathbf{h}^{(t)}}{\\partial \\mathbf{h}^{(k)}}$ has t − k multiplications; therefore, multiplying the $w$ weight t − k times results in a factor — $w^{t−k}$. As a result, if $w$ <1, this factor becomes very small when t − k is large. On the other hand, if the weight of the recurrent edge is w >1,\n",
    "then $w^{t−k}$ becomes very large when t − k is large. Note that large t − k refers to longrange dependencies.\n",
    "\n",
    "Intuitively, we can see that a naive solution to avoid vanishing or exploding gradient can be accomplished by ensuring $|w|=1$. If you are interested and would like to investigate this in more detail, I encourage you to read *On the difficulty of training recurrent neural networks by R. Pascanu, T. Mikolov, and Y. Bengio, 2012 (https://\n",
    "arxiv.org/pdf/1211.5063.pdf).*\n",
    "\n",
    "In practice, there are two solutions to this problem:\n",
    "\n",
    "• Truncated backpropagation through time (TBPTT)  \n",
    "• Long short-term memory (LSTM)  \n",
    "\n",
    "TBPTT clips the gradients above a given threshold. While TBPTT can solve the exploding gradient problem, the truncation limits the number of steps that the gradient can effectively flow back and properly update the weights.\n",
    "\n",
    "On the other hand, LSTM, designed in 1997 by Hochreiter and Schmidhuber, has been more successful in modeling long-range sequences by overcoming the vanishing gradient problem. Let's discuss LSTM in more detail in the next section.\n",
    "\n",
    "Number of parameters: num_units* num_units + num_features* num_units + biases\n"
   ]
  },
  {
   "cell_type": "markdown",
   "metadata": {},
   "source": [
    "## 3. Long short-term memory (LSTM)\n",
    "\n",
    "First recall thatthe simple RNN is given by the schematics below:\n",
    "\n",
    "<img src=\"RNN_simple.png\" width=\"800\">\n",
    "\n",
    "LSTMs were first introduced to overcome the vanishing gradient problem (Long Short-Term Memory, S. Hochreiter and J. Schmidhuber, Neural Computation, 9(8): 1735-1780, 1997). The building block of an LSTM is a memory cell, which\n",
    "essentially represents the hidden layer.\n",
    "\n",
    "In each memory cell, there is a recurrent edge that has the desirable weight w =1, as we discussed previously, to overcome the vanishing and exploding gradient problems. The values associated with this recurrent edge is called cell state. The unfolded structure of a modern LSTM cell is shown in the following figure:\n",
    "\n",
    "<img src=\"RNN_LSTM.png\" width=\"800\">\n",
    "\n",
    "Notice that the cell state from the previous time step, $\\mathbf{C}^{(t−1)}$, is modified to get the cell\n",
    "state at the current time step,  $\\mathbf{C}^{(t)}$ , without being multiplied directly with any weight\n",
    "factor. For comparison, here is how the simple RNN is changed by LSTM:\n",
    "\n",
    "<img src=\"RNN_LSTM2.png\" width=\"800\">\n",
    "\n",
    "\n",
    "The flow of information in this memory cell is controlled by some units of computation that we'll describe here. In the previous figure, $\\odot$ refers to the element-wise product (element-wise multiplication) and means $\\oplus$ element-wise summation (element-wise addition). Furthermore, $\\mathbf{x}^{(t)}$ refers to the input data at time t, and $\\mathbf{h}^{(t−1)}$ indicates the hidden units at time t −1.\n",
    "\n",
    "\n",
    "Four boxes are indicated with an activation function, either the sigmoid function ($\\sigma$) or hyperbolic tangent ($\\tanh$), and a set of weights; these boxes apply linear combination by performing matrix-vector multiplications on their input. These units of computation with sigmoid activation functions, whose output units are passed through $\\odot$, are called **gates**.\n",
    "\n",
    "In an LSTM cell, there are three different types of gates, known as the forget gate, the\n",
    "input gate, and the output gate:\n",
    "\n",
    "• The **forget gate** ($\\mathbf{f}_t$) allows the memory cell to reset the cell state without growing indefinitely. In fact, the forget gate decides which information is allowed to go through and which information to suppress. Now, $\\mathbf{f}_t$ is computed as follows:\n",
    "\n",
    "\\begin{equation}\n",
    "\\mathbf{f}_{t}= \\sigma(\\mathbf{W}_{xf}\\mathbf{x}^{(t)} + \\mathbf{W}_{hf}\\mathbf{h}^{(t-1)} + \\mathbf{b}_{f})\n",
    "\\end{equation}\n",
    "\n",
    "Note that the forget gate was not part of the original LSTM cell; it was added a few years later to improve the original model (*Learning to Forget: Continual Prediction with LSTM, F. Gers, J. Schmidhuber, and F. Cummins, Neural Computation 12, 2451-2471, 2000*).\n",
    "\n",
    "• The **input gate** ($\\mathbf{i}_t$) and **input node** ( $\\mathbf{g}_t$ ) are responsible for updating the cell\n",
    "state. They are computed as follows:\n",
    "\n",
    "\\begin{equation}\n",
    "\\mathbf{i}_{t}= \\sigma(\\mathbf{W}_{xi}\\mathbf{x}^{(t)} + \\mathbf{W}_{hi}\\mathbf{h}^{(t-1)} + \\mathbf{b}_{i})\n",
    "\\end{equation}\n",
    "\n",
    "\\begin{equation}\n",
    "\\mathbf{g}_{t}= \\tanh(\\mathbf{W}_{xg}\\mathbf{x}^{(t)} + \\mathbf{W}_{hg}\\mathbf{h}^{(t-1)} + \\mathbf{b}_{g})\n",
    "\\end{equation}\n",
    "\n",
    "The cell state at time t is computed as follows:\n",
    "\n",
    "\\begin{equation}\n",
    "\\mathbf{C}^{t}= (\\mathbf{C}^{t-1} \\odot \\mathbf{f}_{t}) \\oplus (\\mathbf{i}_{t} \\odot \\mathbf{g}_{t})\n",
    "\\end{equation}\n",
    "\n",
    "The output gate ($\\mathbf{o}_t$ ) decides how to update the values of hidden units:\n",
    "\n",
    "\\begin{equation}\n",
    "\\mathbf{o}_{t}= \\sigma(\\mathbf{W}_{xo}\\mathbf{x}^{(t)} + \\mathbf{W}_{ho}\\mathbf{h}^{(t-1)} \\mathbf{b}_{o})\n",
    "\\end{equation}\n",
    "\n",
    "\n",
    "Given this, the hidden units at the current time step are computed as follows:\n",
    "\n",
    "\\begin{equation}\n",
    "\\mathbf{h}_{t}= \\mathbf{o}_{t} \\odot \\tanh(\\mathbf{C}^{t}) \n",
    "\\end{equation}\n",
    "\n",
    "The structure of an LSTM cell and its underlying computations might seem too complex. However, the good news is that TensorFlow has already implemented everything in wrapper functions that allows us to define our LSTM cells easily. We'll see the real application of LSTMs in action when we use TensorFlow later in this chapter.\n",
    "\n",
    "\n",
    "NOTE: The LSTM introduced here provides a basic approach for modeling long-range dependencies in sequences.\n",
    "Yet, it is important to note that there are many variations of LSTMs described in literature (An Empirical Exploration of Recurrent Network Architectures, Rafal Jozefowicz, Wojciech Zaremba, and Ilya Sutskever,\n",
    "Proceedings of ICML, 2342-2350, 2015). Also, worth noting is a more recent approach, called Gated Recurrent Unit (GRU), which was proposed in 2014. GRUs have a simpler architecture than LSTMs; therefore, they are computationally more efficient while their performance in some tasks, such as polyphonic music modeling, is comparable to LSTMs. If you are interested in learning more about these modern RNN architectures, refer to the paper, Empirical Evaluation of Gated Recurrent Neural Networks on Sequence Modeling by Junyoung Chung\n",
    "and others 2014 (https://arxiv.org/pdf/1412.3555v1.pdf). Implementation of such can be an individual project.\n",
    "\n",
    "\n",
    "*Intuitive idea from Chollet:  The Carry layer $C$ intends to add a way to carry information across many timesteps. Imagine a conveyor belt running parallel to the sequence you’re processing. Information from the sequence can jump onto the conveyor belt at any point, be transported to a later timestep, and jump off, intact, when you need it. This is essentially what LSTM does: it saves information for later, thus preventing older signals from gradually vanishing during processing.*\n",
    "\n",
    "If you want to get philosophical, you can interpret what each of these operations is meant to do. For instance, you can say that multiplying $\\mathbf{C}^{(t)}$ and $\\mathbf{f}_{(t)}$ is a way to deliberately forget irrelevant information in the carry dataflow. Meanwhile, $\\mathbf{i}_{(t)}$ and $\\mathbf{g}_{(t)}$ provide information about the present, updating the carry track with new information.\n",
    "\n",
    "But at the end of the day, these interpretations don’t mean much, because what these operations actually do is determined by the contents of the weights parameterizing them; and the weights are learned in an end-to-end fashion, starting over with each training round, making it impossible to credit this or that operation with a specific purpose. The specification of an RNN cell (as just described) determines your hypothesis\n",
    "space—the space in which you’ll search for a good model configuration during training—but it doesn’t determine what the cell does; that is up to the cell weights.\n",
    "\n",
    "The same cell with different weights can be doing very different things. So the combination of operations making up an RNN cell is better interpreted as a set of constraints on your search, not as a design in an engineering sense. \n",
    "\n",
    "To a researcher, it seems that the choice of such constraints—the question of how to implement RNN cells—is better left to optimization algorithms (like genetic algorithms or reinforcement learning processes) than to human engineers. And in the future, that’s how we’ll build networks. \n",
    "\n",
    "**Just keep in mind what the LSTM cell is meant to do: allow past information to be reinjected at a later time, thus fighting the vanishing-gradient problem.**\n",
    "\n"
   ]
  },
  {
   "cell_type": "code",
   "execution_count": null,
   "metadata": {},
   "outputs": [],
   "source": []
  },
  {
   "cell_type": "markdown",
   "metadata": {},
   "source": [
    "## Example 1. performing sentiment analysis of IMDb movie reviews using multilayer RNNs\n",
    "\n",
    "We will implement a multilayer RNN for sentiment analysis using a many-to-one architecture. \n",
    "\n",
    "Here is a typical IMDb review for Fantastic Beasts: The Crimes of Grindelwald (https://www.imdb.com/title/tt4123430/reviews?ref_=tt_urv)\n",
    "\n",
    "**Negative review**: Basically everything wrong with the movie can be summed up with its title. Fantastic Beasts. The Crimes of Grindelwald. These two things have nothing to do with each other. In my opinion the faults of this movie date back to the first film, where we had the compelling story of a young wizard named David Attenborough whose animals escaped in New York and he had to find them. Great. Sold. Unfortunately they had to make the film much worse by adding in unnecessary and convoluted subplots about a repressed boy named Credence who could change into a dangerous obscuris. Or something. The filmmakers obviously didn't learn from their mistakes.\n",
    "\n",
    "\n",
    "**Positive review**: As a huge fan of the first Fantastic Beasts film, I had been looking forward to this film for a while. I'm so glad that it didn't disappoint! I really enjoyed this movie, just as much as the first installment. Of course, it is a bit different, and it gets down to serious business, so the tone is a bit darker. Which of course makes sense. There was still enough humor though, and I love the characters. The storyline is great, the villain is interesting, the special effects were amazing, and the history and lore for the Harry Potter series is rich and enjoyable. Although this movie is pretty amazing, it did suffer from trying to feed us a lot of information and history. Yeah, there is a lot to take in, and a lot you find out. Perhaps this movie could've been a bit longer too as some extra scenes between some characters would've been appreciated. But with all of the information and history that was given, I found it all to be pretty exciting. I definitely feel as if this is a definite must see for any Harry Potter fan.\n",
    "\n"
   ]
  },
  {
   "cell_type": "markdown",
   "metadata": {},
   "source": [
    "#### Step 1. Preparing the IMDb data set \n",
    "Update data can be downloaded here: https://www.kaggle.com/utathya/imdb-review-dataset but for illustration let's use the one available in keras"
   ]
  },
  {
   "cell_type": "code",
   "execution_count": 28,
   "metadata": {
    "ExecuteTime": {
     "end_time": "2018-11-20T00:14:22.446910Z",
     "start_time": "2018-11-20T00:14:14.517639Z"
    }
   },
   "outputs": [
    {
     "name": "stdout",
     "output_type": "stream",
     "text": [
      "Loading data...\n",
      "25000 train sequences\n",
      "25000 test sequences\n",
      "Pad sequences (samples x time)\n",
      "input_train shape: (25000, 500)\n",
      "input_test shape: (25000, 500)\n"
     ]
    }
   ],
   "source": [
    "from keras.datasets import imdb\n",
    "from keras.preprocessing import sequence\n",
    "max_features = 10000 #Number of words to consider as features\n",
    "maxlen = 500 # Cuts off texts after this many words (among the max_features most common words)\n",
    "batch_size = 32\n",
    "print('Loading data...')\n",
    "(input_train, y_train), (input_test, y_test) = imdb.load_data(\n",
    "num_words=max_features) #Top max_features as dictionary\n",
    "print(len(input_train), 'train sequences')\n",
    "print(len(input_test), 'test sequences')\n",
    "print('Pad sequences (samples x time)')\n",
    "input_train = sequence.pad_sequences(input_train, maxlen=maxlen) #cut at max_len, use the representation based on max_features\n",
    "input_test = sequence.pad_sequences(input_test, maxlen=maxlen)\n",
    "print('input_train shape:', input_train.shape)\n",
    "print('input_test shape:', input_test.shape)"
   ]
  },
  {
   "cell_type": "code",
   "execution_count": 29,
   "metadata": {},
   "outputs": [
    {
     "data": {
      "text/plain": [
       "array([   0,    0,    0,    0,    0,    0,    0,    0,    0,    0,    0,\n",
       "          0,    0,    0,    0,    0,    0,    0,    0,    0,    0,    0,\n",
       "          0,    0,    0,    0,    0,    0,    0,    0,    0,    0,    0,\n",
       "          0,    0,    0,    0,    0,    0,    0,    0,    0,    0,    0,\n",
       "          0,    0,    0,    0,    0,    0,    0,    0,    0,    0,    0,\n",
       "          0,    0,    0,    0,    0,    0,    0,    0,    0,    0,    0,\n",
       "          0,    0,    0,    0,    0,    0,    0,    0,    0,    0,    0,\n",
       "          0,    0,    0,    0,    0,    0,    0,    0,    0,    0,    0,\n",
       "          0,    0,    0,    0,    0,    0,    0,    0,    0,    0,    0,\n",
       "          0,    0,    0,    0,    0,    0,    0,    0,    0,    0,    0,\n",
       "          0,    0,    0,    0,    0,    0,    0,    0,    0,    0,    0,\n",
       "          0,    0,    0,    0,    0,    0,    0,    0,    0,    0,    0,\n",
       "          0,    0,    0,    0,    0,    0,    0,    0,    0,    0,    0,\n",
       "          0,    0,    0,    0,    0,    0,    0,    0,    0,    0,    0,\n",
       "          0,    0,    0,    0,    0,    0,    0,    0,    0,    0,    0,\n",
       "          0,    0,    0,    0,    0,    0,    0,    0,    0,    0,    0,\n",
       "          0,    0,    0,    0,    0,    0,    0,    0,    0,    0,    0,\n",
       "          0,    0,    0,    0,    0,    0,    0,    0,    0,    0,    0,\n",
       "          0,    0,    0,    0,    0,    0,    0,    0,    0,    0,    0,\n",
       "          0,    0,    0,    0,    0,    0,    0,    0,    0,    0,    0,\n",
       "          0,    0,    0,    0,    0,    0,    0,    0,    0,    0,    0,\n",
       "          0,    0,    0,    0,    0,    0,    0,    0,    0,    0,    0,\n",
       "          0,    0,    0,    0,    0,    0,    0,    0,    0,    0,    0,\n",
       "          0,    0,    0,    0,    0,    0,    0,    0,    0,    0,    0,\n",
       "          0,    0,    0,    0,    0,    0,    0,    0,    0,    0,    0,\n",
       "          0,    0,    0,    0,    0,    0,    0,    0,    0,    0,    0,\n",
       "          0,    0,    0,    0,    0,    0,    0,    0,    0,    0,    0,\n",
       "          0,    0,    0,    0,    0,    0,    0,    0,    0,    0,    0,\n",
       "          0,    0,    0,    1,  194, 1153,  194, 8255,   78,  228,    5,\n",
       "          6, 1463, 4369, 5012,  134,   26,    4,  715,    8,  118, 1634,\n",
       "         14,  394,   20,   13,  119,  954,  189,  102,    5,  207,  110,\n",
       "       3103,   21,   14,   69,  188,    8,   30,   23,    7,    4,  249,\n",
       "        126,   93,    4,  114,    9, 2300, 1523,    5,  647,    4,  116,\n",
       "          9,   35, 8163,    4,  229,    9,  340, 1322,    4,  118,    9,\n",
       "          4,  130, 4901,   19,    4, 1002,    5,   89,   29,  952,   46,\n",
       "         37,    4,  455,    9,   45,   43,   38, 1543, 1905,  398,    4,\n",
       "       1649,   26, 6853,    5,  163,   11, 3215,    2,    4, 1153,    9,\n",
       "        194,  775,    7, 8255,    2,  349, 2637,  148,  605,    2, 8003,\n",
       "         15,  123,  125,   68,    2, 6853,   15,  349,  165, 4362,   98,\n",
       "          5,    4,  228,    9,   43,    2, 1157,   15,  299,  120,    5,\n",
       "        120,  174,   11,  220,  175,  136,   50,    9, 4373,  228, 8255,\n",
       "          5,    2,  656,  245, 2350,    5,    4, 9837,  131,  152,  491,\n",
       "         18,    2,   32, 7464, 1212,   14,    9,    6,  371,   78,   22,\n",
       "        625,   64, 1382,    9,    8,  168,  145,   23,    4, 1690,   15,\n",
       "         16,    4, 1355,    5,   28,    6,   52,  154,  462,   33,   89,\n",
       "         78,  285,   16,  145,   95], dtype=int32)"
      ]
     },
     "execution_count": 29,
     "metadata": {},
     "output_type": "execute_result"
    }
   ],
   "source": [
    "input_train[1]"
   ]
  },
  {
   "cell_type": "markdown",
   "metadata": {},
   "source": [
    "#### Step 2. Training the model with Embedding and SimpleRNN layers\n",
    "\n",
    "Let’s train a simple recurrent network using an Embedding layer and a SimpleRNN layer."
   ]
  },
  {
   "cell_type": "code",
   "execution_count": 30,
   "metadata": {},
   "outputs": [
    {
     "name": "stdout",
     "output_type": "stream",
     "text": [
      "Epoch 1/10\n",
      "157/157 [==============================] - 13s 86ms/step - loss: 0.6535 - acc: 0.5999 - val_loss: 0.7021 - val_acc: 0.5824\n",
      "Epoch 2/10\n",
      "157/157 [==============================] - 13s 83ms/step - loss: 0.4335 - acc: 0.8076 - val_loss: 0.4192 - val_acc: 0.8214\n",
      "Epoch 3/10\n",
      "157/157 [==============================] - 13s 83ms/step - loss: 0.3170 - acc: 0.8727 - val_loss: 0.4187 - val_acc: 0.8060\n",
      "Epoch 4/10\n",
      "157/157 [==============================] - 13s 83ms/step - loss: 0.2558 - acc: 0.8996 - val_loss: 0.3764 - val_acc: 0.8486\n",
      "Epoch 5/10\n",
      "157/157 [==============================] - 12s 76ms/step - loss: 0.1921 - acc: 0.9276 - val_loss: 0.4619 - val_acc: 0.8084\n",
      "Epoch 6/10\n",
      "157/157 [==============================] - 12s 76ms/step - loss: 0.1450 - acc: 0.9480 - val_loss: 0.4971 - val_acc: 0.7996\n",
      "Epoch 7/10\n",
      "157/157 [==============================] - 12s 77ms/step - loss: 0.0905 - acc: 0.9697 - val_loss: 0.5467 - val_acc: 0.7972\n",
      "Epoch 8/10\n",
      "157/157 [==============================] - 12s 78ms/step - loss: 0.0606 - acc: 0.9817 - val_loss: 0.5596 - val_acc: 0.8134\n",
      "Epoch 9/10\n",
      "157/157 [==============================] - 13s 80ms/step - loss: 0.0355 - acc: 0.9900 - val_loss: 0.8632 - val_acc: 0.7836\n",
      "Epoch 10/10\n",
      "157/157 [==============================] - 13s 80ms/step - loss: 0.0375 - acc: 0.9877 - val_loss: 0.6755 - val_acc: 0.8148\n"
     ]
    }
   ],
   "source": [
    "from keras import Sequential\n",
    "from keras.layers import Embedding, SimpleRNN\n",
    "from keras.layers import Dense\n",
    "\n",
    "model = Sequential()\n",
    "model.add(Embedding(max_features, 32))\n",
    "model.add(SimpleRNN(32))\n",
    "model.add(Dense(1, activation='sigmoid'))\n",
    "model.compile(optimizer='rmsprop', loss='binary_crossentropy', metrics=['acc'])\n",
    "history = model.fit(input_train, y_train,\n",
    "epochs=10,\n",
    "batch_size=128,\n",
    "validation_split=0.2)"
   ]
  },
  {
   "cell_type": "markdown",
   "metadata": {},
   "source": [
    "#### Step 3. Plotting results\n",
    "\n",
    "Now, let’s display the training and validation loss and accuracy"
   ]
  },
  {
   "cell_type": "code",
   "execution_count": 31,
   "metadata": {
    "ExecuteTime": {
     "end_time": "2018-11-20T00:21:42.006701Z",
     "start_time": "2018-11-20T00:21:40.049845Z"
    }
   },
   "outputs": [
    {
     "data": {
      "image/png": "[encoded data removed]",
      "text/plain": [
       "<Figure size 432x288 with 1 Axes>"
      ]
     },
     "metadata": {
      "needs_background": "light"
     },
     "output_type": "display_data"
    },
    {
     "data": {
      "image/png": "[encoded data removed]",
      "text/plain": [
       "<Figure size 432x288 with 1 Axes>"
      ]
     },
     "metadata": {
      "needs_background": "light"
     },
     "output_type": "display_data"
    }
   ],
   "source": [
    "import matplotlib.pyplot as plt\n",
    "%matplotlib inline\n",
    "\n",
    "acc = history.history['acc']\n",
    "val_acc = history.history['val_acc']\n",
    "loss = history.history['loss']\n",
    "val_loss = history.history['val_loss']\n",
    "\n",
    "epochs = range(1, len(acc) + 1)\n",
    "\n",
    "plt.plot(epochs, acc, 'bo', label='Training acc')\n",
    "plt.plot(epochs, val_acc, 'b', label='Validation acc')\n",
    "plt.title('Training and validation accuracy')\n",
    "plt.legend()\n",
    "\n",
    "plt.figure()\n",
    "\n",
    "plt.plot(epochs, loss, 'bo', label='Training loss')\n",
    "plt.plot(epochs, val_loss, 'b', label='Validation loss')\n",
    "plt.title('Training and validation loss')\n",
    "plt.legend()\n",
    "\n",
    "plt.show()"
   ]
  },
  {
   "cell_type": "markdown",
   "metadata": {},
   "source": [
    "Note that we have only considered the first 500 words, rather than full sequences and we obtain already an accuracy of $85\\%$. Now let's implement a more advanced RNN, say LSTM. \n",
    "\n",
    "#### Step 4.  Using LSTM"
   ]
  },
  {
   "cell_type": "code",
   "execution_count": 32,
   "metadata": {},
   "outputs": [
    {
     "name": "stdout",
     "output_type": "stream",
     "text": [
      "Epoch 1/10\n",
      "157/157 [==============================] - 25s 161ms/step - loss: 0.4984 - acc: 0.7688 - val_loss: 0.3363 - val_acc: 0.8690\n",
      "Epoch 2/10\n",
      "157/157 [==============================] - 23s 145ms/step - loss: 0.2899 - acc: 0.8850 - val_loss: 0.3831 - val_acc: 0.8552\n",
      "Epoch 3/10\n",
      "157/157 [==============================] - 23s 145ms/step - loss: 0.2370 - acc: 0.9101 - val_loss: 0.2814 - val_acc: 0.8860\n",
      "Epoch 4/10\n",
      "157/157 [==============================] - 23s 144ms/step - loss: 0.2009 - acc: 0.9251 - val_loss: 0.2949 - val_acc: 0.8780\n",
      "Epoch 5/10\n",
      "157/157 [==============================] - 23s 145ms/step - loss: 0.1812 - acc: 0.9349 - val_loss: 0.5313 - val_acc: 0.8278\n",
      "Epoch 6/10\n",
      "157/157 [==============================] - 23s 146ms/step - loss: 0.1616 - acc: 0.9419 - val_loss: 0.3039 - val_acc: 0.8912\n",
      "Epoch 7/10\n",
      "157/157 [==============================] - 23s 147ms/step - loss: 0.1450 - acc: 0.9499 - val_loss: 0.2971 - val_acc: 0.8818\n",
      "Epoch 8/10\n",
      "157/157 [==============================] - 23s 147ms/step - loss: 0.1331 - acc: 0.9531 - val_loss: 0.3065 - val_acc: 0.8816\n",
      "Epoch 9/10\n",
      "157/157 [==============================] - 22s 141ms/step - loss: 0.1194 - acc: 0.9588 - val_loss: 0.5160 - val_acc: 0.8402\n",
      "Epoch 10/10\n",
      "157/157 [==============================] - 22s 141ms/step - loss: 0.1149 - acc: 0.9592 - val_loss: 0.5321 - val_acc: 0.8578\n"
     ]
    }
   ],
   "source": [
    "from keras.layers import LSTM\n",
    "\n",
    "model = Sequential()\n",
    "model.add(Embedding(max_features, 32))\n",
    "model.add(LSTM(32))\n",
    "model.add(Dense(1, activation='sigmoid'))\n",
    "model.compile(optimizer='rmsprop',\n",
    "loss='binary_crossentropy',\n",
    "metrics=['acc'])\n",
    "\n",
    "history = model.fit(input_train, y_train,\n",
    "epochs=10,\n",
    "batch_size=128,\n",
    "validation_split=0.2)"
   ]
  },
  {
   "cell_type": "markdown",
   "metadata": {},
   "source": [
    "### Step 5. Plot again."
   ]
  },
  {
   "cell_type": "code",
   "execution_count": 34,
   "metadata": {
    "ExecuteTime": {
     "end_time": "2018-11-20T00:43:48.945019Z",
     "start_time": "2018-11-20T00:43:48.665886Z"
    }
   },
   "outputs": [
    {
     "data": {
      "image/png": "[encoded data removed]",
      "text/plain": [
       "<Figure size 432x288 with 1 Axes>"
      ]
     },
     "metadata": {
      "needs_background": "light"
     },
     "output_type": "display_data"
    },
    {
     "data": {
      "image/png": "[encoded data removed]",
      "text/plain": [
       "<Figure size 432x288 with 1 Axes>"
      ]
     },
     "metadata": {
      "needs_background": "light"
     },
     "output_type": "display_data"
    }
   ],
   "source": [
    "import matplotlib.pyplot as plt\n",
    "%matplotlib inline\n",
    "\n",
    "acc = history.history['acc']\n",
    "val_acc = history.history['val_acc']\n",
    "loss = history.history['loss']\n",
    "val_loss = history.history['val_loss']\n",
    "\n",
    "epochs = range(1, len(acc) + 1)\n",
    "\n",
    "plt.plot(epochs, acc, 'bo', label='Training acc')\n",
    "plt.plot(epochs, val_acc, 'b', label='Validation acc')\n",
    "plt.title('Training and validation accuracy')\n",
    "plt.legend()\n",
    "\n",
    "plt.figure()\n",
    "\n",
    "plt.plot(epochs, loss, 'bo', label='Training loss')\n",
    "plt.plot(epochs, val_loss, 'b', label='Validation loss')\n",
    "plt.title('Training and validation loss')\n",
    "plt.legend()\n",
    "plt.show()"
   ]
  },
  {
   "cell_type": "markdown",
   "metadata": {},
   "source": [
    "This time, you achieve up to 89% validation accuracy. Not bad: certainly much better than the SimpleRNN network—that’s largely because LSTM suffers much less from the vanishing-gradient problem.\n",
    "\n",
    "But this result isn’t groundbreaking for such a computationally intensive approach. Why isn’t LSTM performing better? One reason is that you made no effort to tune hyperparameters such as the embeddings dimensionality or the LSTM output dimensionality. Another may be lack of regularization. But honestly, the primary reasons that analyzing the global, long-term structure of the reviews (what LSTM is good at) isn’t helpful for a sentiment-analysis problem. Such a basic problem is well solved by looking at what words occur in each review, and at what frequency. That’s what the first fully connected approach looked at. But there are far more difficult natural language- processing problems out there, where the strength of LSTM will become apparent: in particular, **question-answering** and **machine translation.**"
   ]
  },
  {
   "cell_type": "markdown",
   "metadata": {},
   "source": [
    "#### Step 6. How about we simply increase the length of the features (cut off text) to 2000 and use RNN? Can we increase immediately the accuracy?"
   ]
  },
  {
   "cell_type": "code",
   "execution_count": 35,
   "metadata": {
    "ExecuteTime": {
     "end_time": "2018-11-20T00:43:54.872451Z",
     "start_time": "2018-11-20T00:43:48.949273Z"
    }
   },
   "outputs": [
    {
     "name": "stdout",
     "output_type": "stream",
     "text": [
      "Loading data...\n",
      "25000 train sequences\n",
      "25000 test sequences\n",
      "Pad sequences (samples x time)\n",
      "input_train shape: (25000, 2000)\n",
      "input_test shape: (25000, 2000)\n"
     ]
    }
   ],
   "source": [
    "from keras.datasets import imdb\n",
    "from keras.preprocessing import sequence\n",
    "max_features = 10000 #Number of words to consider as features\n",
    "maxlen = 2000 # Cuts off texts after this many words (among the max_features most common words)\n",
    "batch_size = 32\n",
    "print('Loading data...')\n",
    "(input_train, y_train), (input_test, y_test) = imdb.load_data(\n",
    "num_words=max_features)\n",
    "print(len(input_train), 'train sequences')\n",
    "print(len(input_test), 'test sequences')\n",
    "print('Pad sequences (samples x time)')\n",
    "input_train = sequence.pad_sequences(input_train, maxlen=maxlen)\n",
    "input_test = sequence.pad_sequences(input_test, maxlen=maxlen)\n",
    "print('input_train shape:', input_train.shape)\n",
    "print('input_test shape:', input_test.shape)"
   ]
  },
  {
   "cell_type": "code",
   "execution_count": 36,
   "metadata": {
    "ExecuteTime": {
     "end_time": "2018-11-20T01:04:22.785420Z",
     "start_time": "2018-11-20T00:43:54.874952Z"
    }
   },
   "outputs": [
    {
     "name": "stdout",
     "output_type": "stream",
     "text": [
      "Epoch 1/10\n",
      "157/157 [==============================] - 67s 427ms/step - loss: 0.6159 - acc: 0.6473 - val_loss: 0.4953 - val_acc: 0.7800\n",
      "Epoch 2/10\n",
      "157/157 [==============================] - 67s 429ms/step - loss: 0.3830 - acc: 0.8375 - val_loss: 0.3951 - val_acc: 0.8306\n",
      "Epoch 3/10\n",
      "157/157 [==============================] - 66s 421ms/step - loss: 0.2910 - acc: 0.8833 - val_loss: 0.3521 - val_acc: 0.8548\n",
      "Epoch 4/10\n",
      "157/157 [==============================] - 61s 388ms/step - loss: 0.2255 - acc: 0.9133 - val_loss: 0.3665 - val_acc: 0.8454\n",
      "Epoch 5/10\n",
      "157/157 [==============================] - 62s 395ms/step - loss: 0.1623 - acc: 0.9423 - val_loss: 0.3505 - val_acc: 0.8718\n",
      "Epoch 6/10\n",
      "157/157 [==============================] - 62s 395ms/step - loss: 0.1149 - acc: 0.9610 - val_loss: 0.5230 - val_acc: 0.7976\n",
      "Epoch 7/10\n",
      "157/157 [==============================] - 62s 392ms/step - loss: 0.0756 - acc: 0.9753 - val_loss: 0.5024 - val_acc: 0.8188\n",
      "Epoch 8/10\n",
      "157/157 [==============================] - 63s 402ms/step - loss: 0.0490 - acc: 0.9846 - val_loss: 0.5103 - val_acc: 0.8472\n",
      "Epoch 9/10\n",
      "157/157 [==============================] - 62s 398ms/step - loss: 0.0321 - acc: 0.9906 - val_loss: 0.6017 - val_acc: 0.8034\n",
      "Epoch 10/10\n",
      "157/157 [==============================] - 63s 400ms/step - loss: 0.0247 - acc: 0.9923 - val_loss: 0.5711 - val_acc: 0.8368\n"
     ]
    }
   ],
   "source": [
    "from keras import Sequential\n",
    "from keras.layers import Embedding, SimpleRNN\n",
    "from keras.layers import Dense\n",
    "\n",
    "model = Sequential()\n",
    "model.add(Embedding(max_features, 32))\n",
    "model.add(SimpleRNN(32))\n",
    "model.add(Dense(1, activation='sigmoid'))\n",
    "model.compile(optimizer='rmsprop', loss='binary_crossentropy', metrics=['acc'])\n",
    "history = model.fit(input_train, y_train,\n",
    "epochs=10,\n",
    "batch_size=128,\n",
    "validation_split=0.2)"
   ]
  },
  {
   "cell_type": "code",
   "execution_count": 37,
   "metadata": {
    "ExecuteTime": {
     "end_time": "2018-11-20T02:22:27.294695Z",
     "start_time": "2018-11-20T02:22:26.939955Z"
    }
   },
   "outputs": [],
   "source": [
    "model.save(\"simpleRNN2000.h5\")"
   ]
  },
  {
   "cell_type": "code",
   "execution_count": 38,
   "metadata": {
    "ExecuteTime": {
     "end_time": "2018-11-20T01:45:15.276492Z",
     "start_time": "2018-11-20T01:45:14.971752Z"
    }
   },
   "outputs": [
    {
     "data": {
      "image/png": "[encoded data removed]",
      "text/plain": [
       "<Figure size 432x288 with 1 Axes>"
      ]
     },
     "metadata": {
      "needs_background": "light"
     },
     "output_type": "display_data"
    },
    {
     "data": {
      "image/png": "[encoded data removed]",
      "text/plain": [
       "<Figure size 432x288 with 1 Axes>"
      ]
     },
     "metadata": {
      "needs_background": "light"
     },
     "output_type": "display_data"
    }
   ],
   "source": [
    "import matplotlib.pyplot as plt\n",
    "%matplotlib inline\n",
    "\n",
    "acc = history.history['acc']\n",
    "val_acc = history.history['val_acc']\n",
    "loss = history.history['loss']\n",
    "val_loss = history.history['val_loss']\n",
    "\n",
    "epochs = range(1, len(acc) + 1)\n",
    "\n",
    "plt.plot(epochs, acc, 'bo', label='Training acc')\n",
    "plt.plot(epochs, val_acc, 'b', label='Validation acc')\n",
    "plt.title('Training and validation accuracy')\n",
    "plt.legend()\n",
    "\n",
    "plt.figure()\n",
    "\n",
    "plt.plot(epochs, loss, 'bo', label='Training loss')\n",
    "plt.plot(epochs, val_loss, 'b', label='Validation loss')\n",
    "plt.title('Training and validation loss')\n",
    "plt.legend()\n",
    "plt.show()"
   ]
  },
  {
   "cell_type": "markdown",
   "metadata": {},
   "source": [
    "Again, the result did not increase as a result of the addition of more features. Again, the primary reason is that analyzing the global, long-term structure of the reviews isn’t helpful for a sentiment-analysis problem. Such a basic problem is well solved by looking at what words occur in each review, and at what frequency. "
   ]
  },
  {
   "cell_type": "code",
   "execution_count": null,
   "metadata": {},
   "outputs": [],
   "source": []
  },
  {
   "cell_type": "markdown",
   "metadata": {},
   "source": [
    "### Additional Notes:  Again, let's have some intuition on the system we have created (last example)"
   ]
  },
  {
   "cell_type": "code",
   "execution_count": 39,
   "metadata": {
    "ExecuteTime": {
     "end_time": "2018-11-20T01:27:46.892227Z",
     "start_time": "2018-11-20T01:27:46.886667Z"
    }
   },
   "outputs": [
    {
     "data": {
      "text/plain": [
       "(25000, 2000)"
      ]
     },
     "execution_count": 39,
     "metadata": {},
     "output_type": "execute_result"
    }
   ],
   "source": [
    "input_train.shape"
   ]
  },
  {
   "cell_type": "code",
   "execution_count": 40,
   "metadata": {
    "ExecuteTime": {
     "end_time": "2018-11-20T02:20:11.583776Z",
     "start_time": "2018-11-20T02:20:06.999285Z"
    }
   },
   "outputs": [],
   "source": [
    "import keras\n",
    "NUM_WORDS=1000 # only use top 1000 words\n",
    "INDEX_FROM=3   # word index offset\n",
    "\n",
    "train,test = keras.datasets.imdb.load_data(num_words=NUM_WORDS, index_from=INDEX_FROM)\n",
    "input_train,output_train = train\n",
    "input_test,output_test = test\n"
   ]
  },
  {
   "cell_type": "code",
   "execution_count": 41,
   "metadata": {
    "ExecuteTime": {
     "end_time": "2018-11-20T02:20:14.722067Z",
     "start_time": "2018-11-20T02:20:14.582342Z"
    },
    "scrolled": true
   },
   "outputs": [
    {
     "name": "stdout",
     "output_type": "stream",
     "text": [
      "Negative review \n",
      "\n",
      "<START> this has to be one of the worst films of the <UNK> when my friends i were watching this film being the <UNK> audience it was <UNK> at we just <UNK> watched the first half an hour with our <UNK> <UNK> the <UNK> at how bad it really was the rest of the time everyone else in the <UNK> just started talking to each other <UNK> or <UNK> <UNK> into their <UNK> that they actually <UNK> money they had <UNK> working to watch this <UNK> <UNK> for a film it must have looked like a great idea on <UNK> but on film it looks like no one in the film has a <UNK> what is going on crap acting crap <UNK> i can't get across how <UNK> this is to watch save yourself an hour a bit of your life\n",
      "\n",
      " Positive review \n",
      "\n",
      "<START> french horror cinema has seen something of a <UNK> over the last couple of years with great films such as <UNK> and <UNK> romance <UNK> on to the scene <UNK> <UNK> the <UNK> just <UNK> but <UNK> head and <UNK> over most modern horror <UNK> and is <UNK> one of the best french horror films ever made <UNK> was obviously shot on a low budget but this is made up for in far more ways than one by the <UNK> of the film and this in turn is <UNK> by the excellent writing and acting that <UNK> the film is a <UNK> the plot <UNK> on two main <UNK> <UNK> and black <UNK> the <UNK> character is a man named <UNK> <UNK> to <UNK> for <UNK> he is put in a <UNK> with three others the <UNK> <UNK> <UNK> body <UNK> <UNK> <UNK> and his <UNK> <UNK> <UNK> after a short while in the <UNK> together they <UNK> upon a <UNK> place in the <UNK> that <UNK> an old <UNK> after <UNK> part of it they soon <UNK> its <UNK> <UNK> and <UNK> they may be able to use it to break through the <UNK> <UNK> br br black <UNK> is a very interesting <UNK> and i'm actually quite surprised that there aren't more films based on it as there's so much <UNK> for things to do with it it's <UNK> to say that <UNK> makes the best of it's <UNK> as despite it's <UNK> the film never actually feels <UNK> and <UNK> to <UNK> well throughout director <UNK> <UNK> <UNK> a great atmosphere for the film the fact that most of it takes place <UNK> the <UNK> <UNK> <UNK> <UNK> that the film feels very <UNK> and this <UNK> <UNK> the <UNK> idea of the <UNK> <UNK> to use <UNK> to break out of the <UNK> it's very easy to get behind them it's often said that the <UNK> is the thing that really <UNK> people and this film <UNK> that as the director <UNK> that we can never really be sure of exactly what is <UNK> the <UNK> and this <UNK> to <UNK> that <UNK> actually does <UNK> to be quite <UNK> the film is memorable for a lot of <UNK> <UNK> the <UNK> plot the characters are all very interesting in their own way and the fact that the book itself almost takes on its own character is very well done anyone <UNK> that the film won't <UNK> by the end won't be disappointed either as the ending both makes sense and <UNK> to be quite <UNK> overall <UNK> is a truly great horror film and one of the best of the <UNK> highly <UNK> viewing\n"
     ]
    }
   ],
   "source": [
    "word_to_id = keras.datasets.imdb.get_word_index()\n",
    "word_to_id = {k:(v+INDEX_FROM) for k,v in word_to_id.items()}\n",
    "word_to_id[\"<PAD>\"] = 0\n",
    "word_to_id[\"<START>\"] = 1\n",
    "word_to_id[\"<UNK>\"] = 2\n",
    "id_to_word = {value:key for key,value in word_to_id.items()}\n",
    "print(\"Negative review \\n\")\n",
    "print(' '.join(id_to_word[id] for id in input_train[2] ))\n",
    "print(\"\\n Positive review \\n\")\n",
    "print(' '.join(id_to_word[id] for id in input_train[10] ))"
   ]
  },
  {
   "cell_type": "markdown",
   "metadata": {},
   "source": [
    "### Here is a summary of a code to use the saved model"
   ]
  },
  {
   "cell_type": "code",
   "execution_count": 42,
   "metadata": {},
   "outputs": [
    {
     "name": "stdout",
     "output_type": "stream",
     "text": [
      "WARNING:tensorflow:5 out of the last 13 calls to <function Model.make_predict_function.<locals>.predict_function at 0x7ff5e8693c10> triggered tf.function retracing. Tracing is expensive and the excessive number of tracings could be due to (1) creating @tf.function repeatedly in a loop, (2) passing tensors with different shapes, (3) passing Python objects instead of tensors. For (1), please define your @tf.function outside of the loop. For (2), @tf.function has experimental_relax_shapes=True option that relaxes argument shapes that can avoid unnecessary retracing. For (3), please refer to https://www.tensorflow.org/tutorials/customization/performance#python_or_tensor_args and https://www.tensorflow.org/api_docs/python/tf/function for  more details.\n",
      "this movie was bad and terrible i almost die. Sentiment: 0.025553912\n",
      "brilliant movie a masterpiece. Sentiment: 0.9845964\n",
      "it is really terrible and brilliant. Sentiment: 0.7591227\n"
     ]
    }
   ],
   "source": [
    "import keras\n",
    "\n",
    "from keras.datasets import imdb\n",
    "from keras.preprocessing import sequence\n",
    "\n",
    "\n",
    "NUM_WORDS=1000 # only use top 1000 words\n",
    "INDEX_FROM=3   # word index offset\n",
    "\n",
    "word_to_id = keras.datasets.imdb.get_word_index()\n",
    "word_to_id = {k:(v+INDEX_FROM) for k,v in word_to_id.items()}\n",
    "word_to_id[\"<PAD>\"] = 0\n",
    "word_to_id[\"<START>\"] = 1\n",
    "word_to_id[\"<UNK>\"] = 2\n",
    "id_to_word = {value:key for key,value in word_to_id.items()}\n",
    "\n",
    "\n",
    "max_features = 10000 #Number of words to consider as features\n",
    "maxlen = 2000 # Cuts off texts after this many words (among the max_features most common words)\n",
    "\n",
    "from keras import Sequential\n",
    "from keras.layers import Embedding, SimpleRNN\n",
    "from keras.layers import Dense\n",
    "\n",
    "model = Sequential()\n",
    "model.add(Embedding(max_features, 32))\n",
    "model.add(SimpleRNN(32))\n",
    "model.add(Dense(1, activation='sigmoid'))\n",
    "model.load_weights(\"simpleRNN2000.h5\")\n",
    "\n",
    "import numpy as np\n",
    "\n",
    "#predict sentiment from reviews\n",
    "max_review_length=1000\n",
    "bad = \"this movie was bad and terrible i almost die\"\n",
    "good = \"brilliant movie a masterpiece\"\n",
    "neutral = \"it is really terrible and brilliant\"\n",
    "\n",
    "for review in [bad,good,neutral]:\n",
    "    tmp = []\n",
    "    for word in review.split(\" \"):\n",
    "        tmp.append(word_to_id[word])\n",
    "    tmp_padded = sequence.pad_sequences([tmp], maxlen=max_review_length) \n",
    "    print(\"%s. Sentiment: %s\" % (review,model.predict(np.array([tmp_padded][0]))[0][0]))"
   ]
  },
  {
   "cell_type": "code",
   "execution_count": null,
   "metadata": {},
   "outputs": [],
   "source": []
  },
  {
   "cell_type": "markdown",
   "metadata": {},
   "source": [
    "### Let's do the LSTM again"
   ]
  },
  {
   "cell_type": "code",
   "execution_count": 43,
   "metadata": {
    "ExecuteTime": {
     "end_time": "2018-11-20T02:25:18.794352Z",
     "start_time": "2018-11-20T02:25:12.439524Z"
    }
   },
   "outputs": [
    {
     "name": "stdout",
     "output_type": "stream",
     "text": [
      "Loading data...\n",
      "25000 train sequences\n",
      "25000 test sequences\n",
      "Pad sequences (samples x time)\n",
      "input_train shape: (25000, 500)\n",
      "input_test shape: (25000, 500)\n"
     ]
    }
   ],
   "source": [
    "from keras.datasets import imdb\n",
    "from keras.preprocessing import sequence\n",
    "max_features = 10000 #Number of words to consider as features\n",
    "maxlen = 500 # Cuts off texts after this many words (among the max_features most common words)\n",
    "batch_size = 32\n",
    "print('Loading data...')\n",
    "(input_train, y_train), (input_test, y_test) = imdb.load_data(\n",
    "num_words=max_features)\n",
    "print(len(input_train), 'train sequences')\n",
    "print(len(input_test), 'test sequences')\n",
    "print('Pad sequences (samples x time)')\n",
    "input_train = sequence.pad_sequences(input_train, maxlen=maxlen)\n",
    "input_test = sequence.pad_sequences(input_test, maxlen=maxlen)\n",
    "print('input_train shape:', input_train.shape)\n",
    "print('input_test shape:', input_test.shape)"
   ]
  },
  {
   "cell_type": "code",
   "execution_count": 44,
   "metadata": {
    "ExecuteTime": {
     "end_time": "2018-11-20T02:30:21.417231Z",
     "start_time": "2018-11-20T02:25:56.680777Z"
    }
   },
   "outputs": [
    {
     "name": "stdout",
     "output_type": "stream",
     "text": [
      "Epoch 1/2\n",
      "157/157 [==============================] - 27s 170ms/step - loss: 0.5061 - acc: 0.7590 - val_loss: 0.3299 - val_acc: 0.8662\n",
      "Epoch 2/2\n",
      "157/157 [==============================] - 23s 148ms/step - loss: 0.2986 - acc: 0.8817 - val_loss: 0.3781 - val_acc: 0.8640\n"
     ]
    }
   ],
   "source": [
    "from keras.layers import LSTM\n",
    "\n",
    "model = Sequential()\n",
    "model.add(Embedding(max_features, 32))\n",
    "model.add(LSTM(32))\n",
    "model.add(Dense(1, activation='sigmoid'))\n",
    "model.compile(optimizer='rmsprop',\n",
    "loss='binary_crossentropy',\n",
    "metrics=['acc'])\n",
    "\n",
    "history = model.fit(input_train, y_train,\n",
    "epochs=2,\n",
    "batch_size=128,\n",
    "validation_split=0.2)"
   ]
  },
  {
   "cell_type": "code",
   "execution_count": 45,
   "metadata": {
    "ExecuteTime": {
     "end_time": "2018-11-20T02:30:38.578501Z",
     "start_time": "2018-11-20T02:30:38.571057Z"
    }
   },
   "outputs": [
    {
     "name": "stdout",
     "output_type": "stream",
     "text": [
      "Model: \"sequential_22\"\n",
      "_________________________________________________________________\n",
      "Layer (type)                 Output Shape              Param #   \n",
      "=================================================================\n",
      "embedding_22 (Embedding)     (None, None, 32)          320000    \n",
      "_________________________________________________________________\n",
      "lstm_2 (LSTM)                (None, 32)                8320      \n",
      "_________________________________________________________________\n",
      "dense_22 (Dense)             (None, 1)                 33        \n",
      "=================================================================\n",
      "Total params: 328,353\n",
      "Trainable params: 328,353\n",
      "Non-trainable params: 0\n",
      "_________________________________________________________________\n"
     ]
    }
   ],
   "source": [
    "model.summary()"
   ]
  },
  {
   "cell_type": "code",
   "execution_count": 46,
   "metadata": {
    "ExecuteTime": {
     "end_time": "2018-11-20T02:30:51.502954Z",
     "start_time": "2018-11-20T02:30:51.087718Z"
    }
   },
   "outputs": [],
   "source": [
    "model.save(\"LSTM500.h5\")"
   ]
  },
  {
   "cell_type": "code",
   "execution_count": 47,
   "metadata": {
    "ExecuteTime": {
     "end_time": "2018-11-20T02:30:53.529097Z",
     "start_time": "2018-11-20T02:30:53.296997Z"
    }
   },
   "outputs": [],
   "source": [
    "model.load_weights(\"LSTM500.h5\")"
   ]
  },
  {
   "cell_type": "code",
   "execution_count": 48,
   "metadata": {
    "ExecuteTime": {
     "end_time": "2018-11-20T02:30:56.396291Z",
     "start_time": "2018-11-20T02:30:55.367994Z"
    }
   },
   "outputs": [
    {
     "name": "stdout",
     "output_type": "stream",
     "text": [
      "WARNING:tensorflow:5 out of the last 13 calls to <function Model.make_predict_function.<locals>.predict_function at 0x7ff609dfb3a0> triggered tf.function retracing. Tracing is expensive and the excessive number of tracings could be due to (1) creating @tf.function repeatedly in a loop, (2) passing tensors with different shapes, (3) passing Python objects instead of tensors. For (1), please define your @tf.function outside of the loop. For (2), @tf.function has experimental_relax_shapes=True option that relaxes argument shapes that can avoid unnecessary retracing. For (3), please refer to https://www.tensorflow.org/tutorials/customization/performance#python_or_tensor_args and https://www.tensorflow.org/api_docs/python/tf/function for  more details.\n",
      "this movie was bad and terrible i almost die. Sentiment: 0.10692525\n",
      "brilliant movie a masterpiece. Sentiment: 0.5712433\n",
      "it is really terrible and brilliant. Sentiment: 0.38832715\n"
     ]
    }
   ],
   "source": [
    "import keras\n",
    "\n",
    "from keras.datasets import imdb\n",
    "from keras.preprocessing import sequence\n",
    "\n",
    "\n",
    "NUM_WORDS=1000 # only use top 1000 words\n",
    "INDEX_FROM=3   # word index offset\n",
    "\n",
    "word_to_id = keras.datasets.imdb.get_word_index()\n",
    "word_to_id = {k:(v+INDEX_FROM) for k,v in word_to_id.items()}\n",
    "word_to_id[\"<PAD>\"] = 0\n",
    "word_to_id[\"<START>\"] = 1\n",
    "word_to_id[\"<UNK>\"] = 2\n",
    "id_to_word = {value:key for key,value in word_to_id.items()}\n",
    "\n",
    "\n",
    "max_features = 10000 #Number of words to consider as features\n",
    "maxlen = 2000 # Cuts off texts after this many words (among the max_features most common words)\n",
    "\n",
    "from keras import Sequential\n",
    "from keras.layers import Dense\n",
    "from keras.layers import LSTM\n",
    "\n",
    "model = Sequential()\n",
    "model.add(Embedding(max_features, 32))\n",
    "model.add(LSTM(32))\n",
    "model.add(Dense(1, activation='sigmoid'))\n",
    "\n",
    "\n",
    "model.load_weights(\"LSTM500.h5\")\n",
    "\n",
    "import numpy as np\n",
    "\n",
    "#predict sentiment from reviews\n",
    "max_review_length=500\n",
    "bad = \"this movie was bad and terrible i almost die\"\n",
    "good = \"brilliant movie a masterpiece\"\n",
    "neutral = \"it is really terrible and brilliant\"\n",
    "\n",
    "for review in [bad,good,neutral]:\n",
    "    tmp = []\n",
    "    for word in review.split(\" \"):\n",
    "        tmp.append(word_to_id[word])\n",
    "    tmp_padded = sequence.pad_sequences([tmp], maxlen=max_review_length) \n",
    "    print(\"%s. Sentiment: %s\" % (review,model.predict(np.array([tmp_padded][0]))[0][0]))\n"
   ]
  },
  {
   "cell_type": "markdown",
   "metadata": {},
   "source": [
    "### Just try to understand the parameters"
   ]
  },
  {
   "cell_type": "code",
   "execution_count": 49,
   "metadata": {
    "ExecuteTime": {
     "end_time": "2018-11-20T02:33:44.485563Z",
     "start_time": "2018-11-20T02:33:38.262957Z"
    }
   },
   "outputs": [
    {
     "name": "stdout",
     "output_type": "stream",
     "text": [
      "Loading data...\n",
      "25000 train sequences\n",
      "25000 test sequences\n",
      "Pad sequences (samples x time)\n",
      "input_train shape: (25000, 500)\n",
      "input_test shape: (25000, 500)\n"
     ]
    }
   ],
   "source": [
    "from keras.datasets import imdb\n",
    "from keras.preprocessing import sequence\n",
    "max_features = 500 #Number of words to consider as features\n",
    "maxlen = 500 # Cuts off texts after this many words (among the max_features most common words)\n",
    "batch_size = 32\n",
    "print('Loading data...')\n",
    "(input_train, y_train), (input_test, y_test) = imdb.load_data(\n",
    "num_words=max_features)\n",
    "print(len(input_train), 'train sequences')\n",
    "print(len(input_test), 'test sequences')\n",
    "print('Pad sequences (samples x time)')\n",
    "input_train = sequence.pad_sequences(input_train, maxlen=maxlen)\n",
    "input_test = sequence.pad_sequences(input_test, maxlen=maxlen)\n",
    "print('input_train shape:', input_train.shape)\n",
    "print('input_test shape:', input_test.shape)"
   ]
  },
  {
   "cell_type": "code",
   "execution_count": 50,
   "metadata": {
    "ExecuteTime": {
     "end_time": "2018-11-20T02:38:28.319620Z",
     "start_time": "2018-11-20T02:34:13.083160Z"
    }
   },
   "outputs": [
    {
     "name": "stdout",
     "output_type": "stream",
     "text": [
      "Epoch 1/2\n",
      "157/157 [==============================] - 26s 169ms/step - loss: 0.5872 - acc: 0.6918 - val_loss: 0.4677 - val_acc: 0.7888\n",
      "Epoch 2/2\n",
      "157/157 [==============================] - 23s 145ms/step - loss: 0.4515 - acc: 0.7972 - val_loss: 0.4097 - val_acc: 0.8216\n"
     ]
    }
   ],
   "source": [
    "from keras.layers import LSTM\n",
    "\n",
    "model = Sequential()\n",
    "model.add(Embedding(max_features, 32))\n",
    "model.add(LSTM(32))\n",
    "model.add(Dense(1, activation='sigmoid'))\n",
    "model.compile(optimizer='rmsprop',\n",
    "loss='binary_crossentropy',\n",
    "metrics=['acc'])\n",
    "\n",
    "history = model.fit(input_train, y_train,\n",
    "epochs=2,\n",
    "batch_size=128,\n",
    "validation_split=0.2)"
   ]
  },
  {
   "cell_type": "code",
   "execution_count": 51,
   "metadata": {
    "ExecuteTime": {
     "end_time": "2018-11-20T02:38:28.330574Z",
     "start_time": "2018-11-20T02:38:28.323396Z"
    }
   },
   "outputs": [
    {
     "name": "stdout",
     "output_type": "stream",
     "text": [
      "Model: \"sequential_24\"\n",
      "_________________________________________________________________\n",
      "Layer (type)                 Output Shape              Param #   \n",
      "=================================================================\n",
      "embedding_24 (Embedding)     (None, None, 32)          16000     \n",
      "_________________________________________________________________\n",
      "lstm_4 (LSTM)                (None, 32)                8320      \n",
      "_________________________________________________________________\n",
      "dense_24 (Dense)             (None, 1)                 33        \n",
      "=================================================================\n",
      "Total params: 24,353\n",
      "Trainable params: 24,353\n",
      "Non-trainable params: 0\n",
      "_________________________________________________________________\n"
     ]
    }
   ],
   "source": [
    "model.summary()"
   ]
  },
  {
   "cell_type": "markdown",
   "metadata": {},
   "source": [
    "## Appendix A: Link for step by step understanding of the process\n",
    "\n",
    "https://www.liip.ch/en/blog/sentiment-detection-with-keras-word-embeddings-and-lstm-deep-learning-networks\n",
    "\n",
    "### Step 1: Get the data"
   ]
  },
  {
   "cell_type": "code",
   "execution_count": 52,
   "metadata": {
    "ExecuteTime": {
     "end_time": "2018-11-20T02:38:37.767245Z",
     "start_time": "2018-11-20T02:38:33.210282Z"
    }
   },
   "outputs": [],
   "source": [
    "#download the data\n",
    "from keras.datasets import imdb \n",
    "top_words = 500 \n",
    "(input_train, output_train), (input_test, output_test) = imdb.load_data(num_words=top_words)"
   ]
  },
  {
   "cell_type": "markdown",
   "metadata": {},
   "source": [
    "The code above does a couple of things at once:\n",
    "\n",
    "1. It downloads the data   \n",
    "2. It downloads the first 5000 top words for each review   \n",
    "3. It splits the data into a test and a training set.  "
   ]
  },
  {
   "cell_type": "code",
   "execution_count": 53,
   "metadata": {
    "ExecuteTime": {
     "end_time": "2018-11-20T02:39:35.258509Z",
     "start_time": "2018-11-20T02:39:35.251451Z"
    }
   },
   "outputs": [
    {
     "data": {
      "text/plain": [
       "array([list([1, 14, 22, 16, 43, 2, 2, 2, 2, 65, 458, 2, 66, 2, 4, 173, 36, 256, 5, 25, 100, 43, 2, 112, 50, 2, 2, 9, 35, 480, 284, 5, 150, 4, 172, 112, 167, 2, 336, 385, 39, 4, 172, 2, 2, 17, 2, 38, 13, 447, 4, 192, 50, 16, 6, 147, 2, 19, 14, 22, 4, 2, 2, 469, 4, 22, 71, 87, 12, 16, 43, 2, 38, 76, 15, 13, 2, 4, 22, 17, 2, 17, 12, 16, 2, 18, 2, 5, 62, 386, 12, 8, 316, 8, 106, 5, 4, 2, 2, 16, 480, 66, 2, 33, 4, 130, 12, 16, 38, 2, 5, 25, 124, 51, 36, 135, 48, 25, 2, 33, 6, 22, 12, 215, 28, 77, 52, 5, 14, 407, 16, 82, 2, 8, 4, 107, 117, 2, 15, 256, 4, 2, 7, 2, 5, 2, 36, 71, 43, 2, 476, 26, 400, 317, 46, 7, 4, 2, 2, 13, 104, 88, 4, 381, 15, 297, 98, 32, 2, 56, 26, 141, 6, 194, 2, 18, 4, 226, 22, 21, 134, 476, 26, 480, 5, 144, 30, 2, 18, 51, 36, 28, 224, 92, 25, 104, 4, 226, 65, 16, 38, 2, 88, 12, 16, 283, 5, 16, 2, 113, 103, 32, 15, 16, 2, 19, 178, 32]),\n",
       "       list([1, 194, 2, 194, 2, 78, 228, 5, 6, 2, 2, 2, 134, 26, 4, 2, 8, 118, 2, 14, 394, 20, 13, 119, 2, 189, 102, 5, 207, 110, 2, 21, 14, 69, 188, 8, 30, 23, 7, 4, 249, 126, 93, 4, 114, 9, 2, 2, 5, 2, 4, 116, 9, 35, 2, 4, 229, 9, 340, 2, 4, 118, 9, 4, 130, 2, 19, 4, 2, 5, 89, 29, 2, 46, 37, 4, 455, 9, 45, 43, 38, 2, 2, 398, 4, 2, 26, 2, 5, 163, 11, 2, 2, 4, 2, 9, 194, 2, 7, 2, 2, 349, 2, 148, 2, 2, 2, 15, 123, 125, 68, 2, 2, 15, 349, 165, 2, 98, 5, 4, 228, 9, 43, 2, 2, 15, 299, 120, 5, 120, 174, 11, 220, 175, 136, 50, 9, 2, 228, 2, 5, 2, 2, 245, 2, 5, 4, 2, 131, 152, 491, 18, 2, 32, 2, 2, 14, 9, 6, 371, 78, 22, 2, 64, 2, 9, 8, 168, 145, 23, 4, 2, 15, 16, 4, 2, 5, 28, 6, 52, 154, 462, 33, 89, 78, 285, 16, 145, 95]),\n",
       "       list([1, 14, 47, 8, 30, 31, 7, 4, 249, 108, 7, 4, 2, 54, 61, 369, 13, 71, 149, 14, 22, 112, 4, 2, 311, 12, 16, 2, 33, 75, 43, 2, 296, 4, 86, 320, 35, 2, 19, 263, 2, 2, 4, 2, 33, 89, 78, 12, 66, 16, 4, 360, 7, 4, 58, 316, 334, 11, 4, 2, 43, 2, 2, 8, 257, 85, 2, 42, 2, 2, 83, 68, 2, 15, 36, 165, 2, 278, 36, 69, 2, 2, 8, 106, 14, 2, 2, 18, 6, 22, 12, 215, 28, 2, 40, 6, 87, 326, 23, 2, 21, 23, 22, 12, 272, 40, 57, 31, 11, 4, 22, 47, 6, 2, 51, 9, 170, 23, 2, 116, 2, 2, 13, 191, 79, 2, 89, 2, 14, 9, 8, 106, 2, 2, 35, 2, 6, 227, 7, 129, 113]),\n",
       "       ...,\n",
       "       list([1, 11, 6, 230, 245, 2, 9, 6, 2, 446, 2, 45, 2, 84, 2, 2, 21, 4, 2, 84, 2, 325, 2, 134, 2, 2, 84, 5, 36, 28, 57, 2, 21, 8, 140, 8, 2, 5, 2, 84, 56, 18, 2, 14, 9, 31, 7, 4, 2, 2, 2, 2, 2, 18, 6, 20, 207, 110, 2, 12, 8, 2, 2, 8, 97, 6, 20, 53, 2, 74, 4, 460, 364, 2, 29, 270, 11, 2, 108, 45, 40, 29, 2, 395, 11, 6, 2, 2, 7, 2, 89, 364, 70, 29, 140, 4, 64, 2, 11, 4, 2, 26, 178, 4, 2, 443, 2, 5, 27, 2, 117, 2, 2, 165, 47, 84, 37, 131, 2, 14, 2, 10, 10, 61, 2, 2, 10, 10, 288, 2, 2, 34, 2, 2, 4, 65, 496, 4, 231, 7, 2, 5, 6, 320, 234, 2, 234, 2, 2, 7, 496, 4, 139, 2, 2, 2, 2, 5, 2, 18, 4, 2, 2, 250, 11, 2, 2, 4, 2, 2, 2, 2, 372, 2, 2, 2, 2, 7, 4, 59, 2, 4, 2, 2]),\n",
       "       list([1, 2, 2, 69, 72, 2, 13, 2, 2, 8, 12, 2, 23, 5, 16, 484, 2, 54, 349, 11, 2, 2, 45, 58, 2, 13, 197, 12, 16, 43, 23, 2, 5, 62, 30, 145, 402, 11, 2, 51, 2, 32, 61, 369, 71, 66, 2, 12, 2, 75, 100, 2, 8, 4, 105, 37, 69, 147, 2, 75, 2, 44, 257, 390, 5, 69, 263, 2, 105, 50, 286, 2, 23, 4, 123, 13, 161, 40, 5, 421, 4, 116, 16, 2, 13, 2, 40, 319, 2, 112, 2, 11, 2, 121, 25, 70, 2, 4, 2, 2, 13, 18, 31, 62, 40, 8, 2, 4, 2, 7, 14, 123, 5, 2, 25, 8, 2, 12, 145, 5, 202, 12, 160, 2, 202, 12, 6, 52, 58, 2, 92, 401, 2, 12, 39, 14, 251, 8, 15, 251, 5, 2, 12, 38, 84, 80, 124, 12, 9, 23]),\n",
       "       list([1, 17, 6, 194, 337, 7, 4, 204, 22, 45, 254, 8, 106, 14, 123, 4, 2, 270, 2, 5, 2, 2, 2, 2, 101, 405, 39, 14, 2, 4, 2, 9, 115, 50, 305, 12, 47, 4, 168, 5, 235, 7, 38, 111, 2, 102, 7, 4, 2, 2, 9, 24, 6, 78, 2, 17, 2, 2, 21, 27, 2, 2, 5, 2, 2, 92, 2, 4, 2, 7, 4, 204, 42, 97, 90, 35, 221, 109, 29, 127, 27, 118, 8, 97, 12, 157, 21, 2, 2, 9, 6, 66, 78, 2, 4, 2, 2, 5, 2, 272, 191, 2, 6, 2, 8, 2, 2, 2, 2, 5, 383, 2, 2, 2, 2, 497, 2, 8, 2, 2, 2, 21, 60, 27, 239, 9, 43, 2, 209, 405, 10, 10, 12, 2, 40, 4, 248, 20, 12, 16, 5, 174, 2, 72, 7, 51, 6, 2, 22, 4, 204, 131, 9])],\n",
       "      dtype=object)"
      ]
     },
     "execution_count": 53,
     "metadata": {},
     "output_type": "execute_result"
    }
   ],
   "source": [
    "input_train"
   ]
  },
  {
   "cell_type": "markdown",
   "metadata": {},
   "source": [
    "If you look at the data you will realize it has been already pre-processed. All words have been mapped to integers and the integers represent the words sorted by their frequency. This is very common in text analysis to represent a dataset like this. So 4 represents the 4th most used word, 5 the 5th most used word and so on... The integer 1 is reserved reserved for the start marker, the integer 2 for an unknown word and 0 for padding.\n",
    "\n",
    "If you want to peek at the reviews yourself and see what people have actually written, you can reverse the process too:"
   ]
  },
  {
   "cell_type": "code",
   "execution_count": 54,
   "metadata": {
    "ExecuteTime": {
     "end_time": "2018-11-20T02:40:18.602130Z",
     "start_time": "2018-11-20T02:40:18.458016Z"
    }
   },
   "outputs": [
    {
     "name": "stdout",
     "output_type": "stream",
     "text": [
      "<START> big <UNK> big <UNK> bad music and a <UNK> <UNK> <UNK> these are the <UNK> to best <UNK> this terrible movie i love <UNK> horror movies and i've seen <UNK> but this had got to be on of the worst ever made the plot is <UNK> <UNK> and <UNK> the acting is an <UNK> the script is completely <UNK> the best is the end <UNK> with the <UNK> and how he <UNK> out who the killer is it's just so <UNK> <UNK> written the <UNK> are <UNK> and funny in <UNK> <UNK> the <UNK> is big <UNK> of <UNK> <UNK> men <UNK> those <UNK> <UNK> <UNK> that show off their <UNK> <UNK> that men actually <UNK> them and the music is just <UNK> <UNK> that plays over and over again in almost every scene there is <UNK> music <UNK> and <UNK> <UNK> away <UNK> and the <UNK> still doesn't close for <UNK> all <UNK> <UNK> this is a truly bad film <UNK> only <UNK> is to look back on the <UNK> that was the <UNK> and have a good old laugh at how bad everything was back then\n"
     ]
    }
   ],
   "source": [
    "#reverse lookup\n",
    "word_to_id = keras.datasets.imdb.get_word_index()\n",
    "word_to_id = {k:(v+INDEX_FROM) for k,v in word_to_id.items()}\n",
    "word_to_id[\"<PAD>\"] = 0\n",
    "word_to_id[\"<START>\"] = 1\n",
    "word_to_id[\"<UNK>\"] = 2\n",
    "id_to_word = {value:key for key,value in word_to_id.items()}\n",
    "print(' '.join(id_to_word[id] for id in input_train[1] ))"
   ]
  },
  {
   "cell_type": "markdown",
   "metadata": {},
   "source": [
    "### Step 2: Preprocess the data\n",
    "\n",
    "Since the reviews differ heavily in terms of lengths we want to trim each review to its first 500 words. We need to have text samples of the same length in order to feed them into our neural network. If reviews are shorter than 500 words we will pad them with zeros. Keras being super nice, offers a set of preprocessing routines that can do this for us easily."
   ]
  },
  {
   "cell_type": "code",
   "execution_count": 55,
   "metadata": {
    "ExecuteTime": {
     "end_time": "2018-11-20T02:42:07.995167Z",
     "start_time": "2018-11-20T02:42:06.564970Z"
    }
   },
   "outputs": [],
   "source": [
    "# Truncate and pad the review sequences \n",
    "from keras.preprocessing import sequence \n",
    "max_review_length = 500 \n",
    "input_train = sequence.pad_sequences(input_train, maxlen=max_review_length) \n",
    "input_test = sequence.pad_sequences(input_test, maxlen=max_review_length) "
   ]
  },
  {
   "cell_type": "markdown",
   "metadata": {},
   "source": [
    "### Step 3: Build the model\n",
    "\n",
    "Surprisingly we are already done with the data preparation and can already start to build our model."
   ]
  },
  {
   "cell_type": "code",
   "execution_count": 56,
   "metadata": {
    "ExecuteTime": {
     "end_time": "2018-11-20T02:44:39.186571Z",
     "start_time": "2018-11-20T02:44:38.544624Z"
    }
   },
   "outputs": [
    {
     "name": "stdout",
     "output_type": "stream",
     "text": [
      "Model: \"sequential_25\"\n",
      "_________________________________________________________________\n",
      "Layer (type)                 Output Shape              Param #   \n",
      "=================================================================\n",
      "embedding_25 (Embedding)     (None, 500, 32)           16000     \n",
      "_________________________________________________________________\n",
      "lstm_5 (LSTM)                (None, 100)               53200     \n",
      "_________________________________________________________________\n",
      "dense_25 (Dense)             (None, 1)                 101       \n",
      "=================================================================\n",
      "Total params: 69,301\n",
      "Trainable params: 69,301\n",
      "Non-trainable params: 0\n",
      "_________________________________________________________________\n",
      "None\n"
     ]
    }
   ],
   "source": [
    "# Build the model \n",
    "embedding_vector_length = 32 \n",
    "model = Sequential() \n",
    "model.add(Embedding(top_words, embedding_vector_length, input_length=max_review_length)) \n",
    "model.add(LSTM(100)) \n",
    "model.add(Dense(1, activation='sigmoid')) \n",
    "model.compile(loss='binary_crossentropy',optimizer='adam', metrics=['accuracy']) \n",
    "print(model.summary()) "
   ]
  },
  {
   "cell_type": "markdown",
   "metadata": {},
   "source": [
    "The two most important things in our code are the following:\n",
    "\n",
    "The Embedding layer and\n",
    "The LSTM Layer."
   ]
  },
  {
   "cell_type": "markdown",
   "metadata": {},
   "source": [
    "### Word embeddings\n",
    "\n",
    "The embedding layer will learn a word embedding for all the words in the dataset. It has three arguments the input_dimension in our case the 500 words. The output dimension aka the vector space in which words will be embedded. In our case we have chosen 32 dimensions so a vector of the length of 32 to hold our word coordinates.\n",
    "\n",
    "There are already pre-trained word embeddings (e.g. GloVE or Word2Vec) that you can download so that you don't have to train your embeddings all by yourself. Generally, these word embeddings are also based on specialized algorithms that do the embedding always a bit different, but we won't cover it here.\n",
    "\n",
    "How can you imagine what an embedding actually is? Well generally words that have a similar meaning in the context should be embedded next to each other. Below is an example of word embeddings in a two-dimensional space:\n",
    "\n",
    "<img src=\"RNN_embeddings.png\" width=\"700\">"
   ]
  },
  {
   "cell_type": "markdown",
   "metadata": {},
   "source": [
    "Why should we even care about word embeddings? Because it is a really useful trick. If we were to feed our reviews into a neural network and just one-hot encode them we would have very sparse representations of our texts. Why? Let us have a look at the sentence \"I do my job\" in \"bag of words\" representation with a vocabulary of 1000: So a matrix that holds 1000 words (each column is one word), has four ones in it (one for I, one for do one for my and one for job) and 996 zeros. So it would be very sparse. This means that learning from it would be difficult, because we would need 1000 input neurons each representing the occurrence of a word in our sentence.\n",
    "\n",
    "In contrast if we do a word embedding we can fold these 1000 words in just as many dimensions as we want, in our case 32. This means that we just have an input vector of 32 values instead of 1000. So the word \"I\" would be some vector with values (0.4,0.5,0.2,...) and the same would happen with the other words. With word embedding like this, we just need 32 input neurons.\n",
    "\n",
    "Note that Keras utilizes Glove or Global Vectors developed by Pennington et al 2015. Here is a good blog on word embeddings, that among others, discusses how Glove is different from word2vec created by Mikalov et al in 2014: https://medium.com/@ppasumarthi_69210/word-embeddings-in-keras-be6bb3092831"
   ]
  },
  {
   "cell_type": "markdown",
   "metadata": {},
   "source": [
    "### LSTMs\n",
    "\n",
    "Recurrent neural networks are networks that are used for \"things\" that happen recurrently so one thing after the other (e.g. time series, but also words). Long Short-Term Memory networks (LSTM) are a specific type of Recurrent Neural Network (RNN) that are capable of learning the relationships between elements in an input sequence. In our case the elements are words. So our next layer is an LSTM layer with 100 memory units.\n",
    "\n",
    "LSTM networks maintain a state, and so overcome the problem of a vanishing gradient problem in recurrent neural networks (basically the problem that when you make a network deep enough the information for learning will \"vanish\" at some point). I do not want to go into detail how they actually work, but here delivers a great visual explanation. Below is a schematic overview over the building blocks of LSTMs.\n",
    "\n",
    "So our output of the embedding layer is a 500 times 32 matrix. Each word is represented through its position in those 32 dimensions. And the sequence is the 500 words that we feed into the LSTM network.\n",
    "\n",
    "Finally at the end we have a dense layer with one node with a sigmoid activation as the output.\n",
    "\n",
    "Since we are going to have only the decision when the review is positive or negative we will use binary_crossentropy for the loss function. The optimizer is the standard one (adam) and the metrics are also the standard accuracy metric.\n",
    "\n"
   ]
  },
  {
   "cell_type": "code",
   "execution_count": 57,
   "metadata": {
    "ExecuteTime": {
     "end_time": "2018-11-20T02:54:33.164295Z",
     "start_time": "2018-11-20T02:54:32.801400Z"
    }
   },
   "outputs": [],
   "source": [
    "from keras.layers import LSTM\n",
    "\n",
    "model = Sequential()\n",
    "model.add(Embedding(max_features, 32))\n",
    "model.add(LSTM(100))\n",
    "model.add(Dense(1, activation='sigmoid'))\n",
    "model.compile(optimizer='rmsprop',\n",
    "loss='binary_crossentropy',\n",
    "metrics=['acc'])\n"
   ]
  },
  {
   "cell_type": "code",
   "execution_count": 58,
   "metadata": {
    "ExecuteTime": {
     "end_time": "2018-11-20T02:54:38.637459Z",
     "start_time": "2018-11-20T02:54:38.631209Z"
    }
   },
   "outputs": [
    {
     "name": "stdout",
     "output_type": "stream",
     "text": [
      "Model: \"sequential_26\"\n",
      "_________________________________________________________________\n",
      "Layer (type)                 Output Shape              Param #   \n",
      "=================================================================\n",
      "embedding_26 (Embedding)     (None, None, 32)          16000     \n",
      "_________________________________________________________________\n",
      "lstm_6 (LSTM)                (None, 100)               53200     \n",
      "_________________________________________________________________\n",
      "dense_26 (Dense)             (None, 1)                 101       \n",
      "=================================================================\n",
      "Total params: 69,301\n",
      "Trainable params: 69,301\n",
      "Non-trainable params: 0\n",
      "_________________________________________________________________\n"
     ]
    }
   ],
   "source": [
    "model.summary()"
   ]
  },
  {
   "cell_type": "code",
   "execution_count": 59,
   "metadata": {
    "ExecuteTime": {
     "end_time": "2018-11-20T03:25:42.743567Z",
     "start_time": "2018-11-20T03:04:35.694235Z"
    }
   },
   "outputs": [
    {
     "name": "stdout",
     "output_type": "stream",
     "text": [
      "Epoch 1/10\n",
      "157/157 [==============================] - 46s 291ms/step - loss: 0.6064 - acc: 0.6760 - val_loss: 0.5963 - val_acc: 0.7096\n",
      "Epoch 2/10\n",
      "157/157 [==============================] - 49s 310ms/step - loss: 0.4684 - acc: 0.7873 - val_loss: 0.6152 - val_acc: 0.7050\n",
      "Epoch 3/10\n",
      "157/157 [==============================] - 49s 310ms/step - loss: 0.4433 - acc: 0.8043 - val_loss: 0.5508 - val_acc: 0.7592\n",
      "Epoch 4/10\n",
      "157/157 [==============================] - 49s 311ms/step - loss: 0.4225 - acc: 0.8146 - val_loss: 0.4978 - val_acc: 0.7456\n",
      "Epoch 5/10\n",
      "157/157 [==============================] - 48s 308ms/step - loss: 0.4156 - acc: 0.8173 - val_loss: 0.4024 - val_acc: 0.8286\n",
      "Epoch 6/10\n",
      "157/157 [==============================] - 48s 309ms/step - loss: 0.4009 - acc: 0.8268 - val_loss: 0.3928 - val_acc: 0.8302\n",
      "Epoch 7/10\n",
      "157/157 [==============================] - 49s 312ms/step - loss: 0.3894 - acc: 0.8288 - val_loss: 0.5045 - val_acc: 0.7646\n",
      "Epoch 8/10\n",
      "157/157 [==============================] - 49s 310ms/step - loss: 0.3874 - acc: 0.8334 - val_loss: 0.3993 - val_acc: 0.8192\n",
      "Epoch 9/10\n",
      "157/157 [==============================] - 49s 310ms/step - loss: 0.3755 - acc: 0.8398 - val_loss: 0.4976 - val_acc: 0.7962\n",
      "Epoch 10/10\n",
      "157/157 [==============================] - 49s 310ms/step - loss: 0.3719 - acc: 0.8393 - val_loss: 0.3758 - val_acc: 0.8414\n"
     ]
    }
   ],
   "source": [
    "history = model.fit(input_train, output_train,\n",
    "epochs=10,\n",
    "batch_size=128,\n",
    "validation_split=0.2)"
   ]
  },
  {
   "cell_type": "markdown",
   "metadata": {},
   "source": [
    "### LSTM Number of Parameters\n",
    "\n",
    "The LSTM has a set of 2 matrices: U and W for each of the (3) gates. The $\\odot$ in the diagram indicates multiplication of these matrices with the input and output.\n",
    "\n",
    "U has dimensions n×mn×m  \n",
    "W has dimensions n×nn×n  \n",
    "\n",
    "there is a different set of these matrices for each of the three gates(like UforgetUforget for the forget gate etc.)\n",
    "there is another set of these matrices for updating the cell state S\n",
    "on top of the mentioned matrices, you need to count the biases (not in the picture)\n",
    "Hence total # parameters = 4(nm+$n^2$+n)"
   ]
  },
  {
   "cell_type": "code",
   "execution_count": null,
   "metadata": {},
   "outputs": [],
   "source": []
  },
  {
   "cell_type": "markdown",
   "metadata": {
    "ExecuteTime": {
     "end_time": "2018-11-29T00:04:53.179432Z",
     "start_time": "2018-11-29T00:04:53.165461Z"
    }
   },
   "source": [
    "## Appendix B. Checkpoint for validation\n",
    "\n",
    "https://machinelearningmastery.com/check-point-deep-learning-models-keras/\n",
    "\n",
    "A good use of checkpointing is to output the model weights each time an improvement is observed during training.\n",
    "\n",
    "The example below creates a small neural network for the Pima Indians onset of diabetes binary classification problem. The example assume that the pima-indians-diabetes.csv file is in your working directory. You can download this dataset from the UCI machine learning repository (update: download from here). The example uses 33% of the data for validation.\n",
    "\n",
    "Checkpointing is setup to save the network weights only when there is an improvement in classification accuracy on the validation dataset (monitor=’val_acc’ and mode=’max’). \n",
    "\n",
    "**The weights are stored in a file that includes the score in the filename (weights-improvement-{val_acc=.2f}.hdf5).**"
   ]
  },
  {
   "cell_type": "code",
   "execution_count": 74,
   "metadata": {
    "ExecuteTime": {
     "end_time": "2018-11-28T23:13:35.700049Z",
     "start_time": "2018-11-28T23:12:52.195282Z"
    }
   },
   "outputs": [
    {
     "name": "stdout",
     "output_type": "stream",
     "text": [
      "\n",
      "Epoch 00001: val_accuracy improved from -inf to 0.67323, saving model to weights-improvement-01-0.67.hdf5\n",
      "\n",
      "Epoch 00002: val_accuracy did not improve from 0.67323\n",
      "\n",
      "Epoch 00003: val_accuracy did not improve from 0.67323\n",
      "\n",
      "Epoch 00004: val_accuracy did not improve from 0.67323\n",
      "\n",
      "Epoch 00005: val_accuracy did not improve from 0.67323\n",
      "\n",
      "Epoch 00006: val_accuracy did not improve from 0.67323\n",
      "\n",
      "Epoch 00007: val_accuracy did not improve from 0.67323\n",
      "\n",
      "Epoch 00008: val_accuracy did not improve from 0.67323\n",
      "\n",
      "Epoch 00009: val_accuracy did not improve from 0.67323\n",
      "\n",
      "Epoch 00010: val_accuracy improved from 0.67323 to 0.68504, saving model to weights-improvement-10-0.69.hdf5\n",
      "\n",
      "Epoch 00011: val_accuracy did not improve from 0.68504\n",
      "\n",
      "Epoch 00012: val_accuracy did not improve from 0.68504\n",
      "\n",
      "Epoch 00013: val_accuracy did not improve from 0.68504\n",
      "\n",
      "Epoch 00014: val_accuracy did not improve from 0.68504\n",
      "\n",
      "Epoch 00015: val_accuracy did not improve from 0.68504\n",
      "\n",
      "Epoch 00016: val_accuracy did not improve from 0.68504\n",
      "\n",
      "Epoch 00017: val_accuracy did not improve from 0.68504\n",
      "\n",
      "Epoch 00018: val_accuracy did not improve from 0.68504\n",
      "\n",
      "Epoch 00019: val_accuracy did not improve from 0.68504\n",
      "\n",
      "Epoch 00020: val_accuracy did not improve from 0.68504\n",
      "\n",
      "Epoch 00021: val_accuracy did not improve from 0.68504\n",
      "\n",
      "Epoch 00022: val_accuracy did not improve from 0.68504\n",
      "\n",
      "Epoch 00023: val_accuracy did not improve from 0.68504\n",
      "\n",
      "Epoch 00024: val_accuracy did not improve from 0.68504\n",
      "\n",
      "Epoch 00025: val_accuracy did not improve from 0.68504\n",
      "\n",
      "Epoch 00026: val_accuracy did not improve from 0.68504\n",
      "\n",
      "Epoch 00027: val_accuracy improved from 0.68504 to 0.68898, saving model to weights-improvement-27-0.69.hdf5\n",
      "\n",
      "Epoch 00028: val_accuracy did not improve from 0.68898\n",
      "\n",
      "Epoch 00029: val_accuracy did not improve from 0.68898\n",
      "\n",
      "Epoch 00030: val_accuracy did not improve from 0.68898\n",
      "\n",
      "Epoch 00031: val_accuracy did not improve from 0.68898\n",
      "\n",
      "Epoch 00032: val_accuracy did not improve from 0.68898\n",
      "\n",
      "Epoch 00033: val_accuracy did not improve from 0.68898\n",
      "\n",
      "Epoch 00034: val_accuracy did not improve from 0.68898\n",
      "\n",
      "Epoch 00035: val_accuracy did not improve from 0.68898\n",
      "\n",
      "Epoch 00036: val_accuracy did not improve from 0.68898\n",
      "\n",
      "Epoch 00037: val_accuracy did not improve from 0.68898\n",
      "\n",
      "Epoch 00038: val_accuracy did not improve from 0.68898\n",
      "\n",
      "Epoch 00039: val_accuracy improved from 0.68898 to 0.69291, saving model to weights-improvement-39-0.69.hdf5\n",
      "\n",
      "Epoch 00040: val_accuracy did not improve from 0.69291\n",
      "\n",
      "Epoch 00041: val_accuracy did not improve from 0.69291\n",
      "\n",
      "Epoch 00042: val_accuracy did not improve from 0.69291\n",
      "\n",
      "Epoch 00043: val_accuracy did not improve from 0.69291\n",
      "\n",
      "Epoch 00044: val_accuracy did not improve from 0.69291\n",
      "\n",
      "Epoch 00045: val_accuracy did not improve from 0.69291\n",
      "\n",
      "Epoch 00046: val_accuracy did not improve from 0.69291\n",
      "\n",
      "Epoch 00047: val_accuracy did not improve from 0.69291\n",
      "\n",
      "Epoch 00048: val_accuracy did not improve from 0.69291\n",
      "\n",
      "Epoch 00049: val_accuracy did not improve from 0.69291\n",
      "\n",
      "Epoch 00050: val_accuracy did not improve from 0.69291\n",
      "\n",
      "Epoch 00051: val_accuracy did not improve from 0.69291\n",
      "\n",
      "Epoch 00052: val_accuracy did not improve from 0.69291\n",
      "\n",
      "Epoch 00053: val_accuracy did not improve from 0.69291\n",
      "\n",
      "Epoch 00054: val_accuracy did not improve from 0.69291\n",
      "\n",
      "Epoch 00055: val_accuracy did not improve from 0.69291\n",
      "\n",
      "Epoch 00056: val_accuracy did not improve from 0.69291\n",
      "\n",
      "Epoch 00057: val_accuracy did not improve from 0.69291\n",
      "\n",
      "Epoch 00058: val_accuracy improved from 0.69291 to 0.70472, saving model to weights-improvement-58-0.70.hdf5\n",
      "\n",
      "Epoch 00059: val_accuracy did not improve from 0.70472\n",
      "\n",
      "Epoch 00060: val_accuracy did not improve from 0.70472\n",
      "\n",
      "Epoch 00061: val_accuracy did not improve from 0.70472\n",
      "\n",
      "Epoch 00062: val_accuracy did not improve from 0.70472\n",
      "\n",
      "Epoch 00063: val_accuracy did not improve from 0.70472\n",
      "\n",
      "Epoch 00064: val_accuracy did not improve from 0.70472\n",
      "\n",
      "Epoch 00065: val_accuracy did not improve from 0.70472\n",
      "\n",
      "Epoch 00066: val_accuracy improved from 0.70472 to 0.70866, saving model to weights-improvement-66-0.71.hdf5\n",
      "\n",
      "Epoch 00067: val_accuracy did not improve from 0.70866\n",
      "\n",
      "Epoch 00068: val_accuracy did not improve from 0.70866\n",
      "\n",
      "Epoch 00069: val_accuracy did not improve from 0.70866\n",
      "\n",
      "Epoch 00070: val_accuracy did not improve from 0.70866\n",
      "\n",
      "Epoch 00071: val_accuracy did not improve from 0.70866\n",
      "\n",
      "Epoch 00072: val_accuracy did not improve from 0.70866\n",
      "\n",
      "Epoch 00073: val_accuracy did not improve from 0.70866\n",
      "\n",
      "Epoch 00074: val_accuracy did not improve from 0.70866\n",
      "\n",
      "Epoch 00075: val_accuracy did not improve from 0.70866\n",
      "\n",
      "Epoch 00076: val_accuracy improved from 0.70866 to 0.72047, saving model to weights-improvement-76-0.72.hdf5\n",
      "\n",
      "Epoch 00077: val_accuracy did not improve from 0.72047\n",
      "\n",
      "Epoch 00078: val_accuracy did not improve from 0.72047\n",
      "\n",
      "Epoch 00079: val_accuracy did not improve from 0.72047\n",
      "\n",
      "Epoch 00080: val_accuracy did not improve from 0.72047\n",
      "\n",
      "Epoch 00081: val_accuracy did not improve from 0.72047\n",
      "\n",
      "Epoch 00082: val_accuracy improved from 0.72047 to 0.72441, saving model to weights-improvement-82-0.72.hdf5\n",
      "\n",
      "Epoch 00083: val_accuracy did not improve from 0.72441\n",
      "\n",
      "Epoch 00084: val_accuracy did not improve from 0.72441\n",
      "\n",
      "Epoch 00085: val_accuracy did not improve from 0.72441\n",
      "\n",
      "Epoch 00086: val_accuracy did not improve from 0.72441\n",
      "\n",
      "Epoch 00087: val_accuracy did not improve from 0.72441\n",
      "\n",
      "Epoch 00088: val_accuracy did not improve from 0.72441\n",
      "\n",
      "Epoch 00089: val_accuracy did not improve from 0.72441\n",
      "\n",
      "Epoch 00090: val_accuracy did not improve from 0.72441\n",
      "\n",
      "Epoch 00091: val_accuracy did not improve from 0.72441\n",
      "\n",
      "Epoch 00092: val_accuracy did not improve from 0.72441\n",
      "\n",
      "Epoch 00093: val_accuracy did not improve from 0.72441\n",
      "\n",
      "Epoch 00094: val_accuracy did not improve from 0.72441\n",
      "\n",
      "Epoch 00095: val_accuracy did not improve from 0.72441\n",
      "\n",
      "Epoch 00096: val_accuracy did not improve from 0.72441\n",
      "\n",
      "Epoch 00097: val_accuracy did not improve from 0.72441\n",
      "\n",
      "Epoch 00098: val_accuracy did not improve from 0.72441\n",
      "\n",
      "Epoch 00099: val_accuracy improved from 0.72441 to 0.73228, saving model to weights-improvement-99-0.73.hdf5\n",
      "\n",
      "Epoch 00100: val_accuracy did not improve from 0.73228\n",
      "\n",
      "Epoch 00101: val_accuracy did not improve from 0.73228\n",
      "\n",
      "Epoch 00102: val_accuracy did not improve from 0.73228\n",
      "\n",
      "Epoch 00103: val_accuracy did not improve from 0.73228\n",
      "\n",
      "Epoch 00104: val_accuracy did not improve from 0.73228\n",
      "\n",
      "Epoch 00105: val_accuracy did not improve from 0.73228\n",
      "\n",
      "Epoch 00106: val_accuracy did not improve from 0.73228\n",
      "\n",
      "Epoch 00107: val_accuracy did not improve from 0.73228\n",
      "\n",
      "Epoch 00108: val_accuracy did not improve from 0.73228\n",
      "\n",
      "Epoch 00109: val_accuracy did not improve from 0.73228\n",
      "\n",
      "Epoch 00110: val_accuracy did not improve from 0.73228\n",
      "\n",
      "Epoch 00111: val_accuracy did not improve from 0.73228\n",
      "\n",
      "Epoch 00112: val_accuracy did not improve from 0.73228\n",
      "\n",
      "Epoch 00113: val_accuracy did not improve from 0.73228\n",
      "\n",
      "Epoch 00114: val_accuracy did not improve from 0.73228\n",
      "\n",
      "Epoch 00115: val_accuracy did not improve from 0.73228\n",
      "\n",
      "Epoch 00116: val_accuracy did not improve from 0.73228\n",
      "\n",
      "Epoch 00117: val_accuracy did not improve from 0.73228\n",
      "\n",
      "Epoch 00118: val_accuracy did not improve from 0.73228\n",
      "\n",
      "Epoch 00119: val_accuracy did not improve from 0.73228\n",
      "\n",
      "Epoch 00120: val_accuracy did not improve from 0.73228\n",
      "\n",
      "Epoch 00121: val_accuracy did not improve from 0.73228\n",
      "\n",
      "Epoch 00122: val_accuracy did not improve from 0.73228\n",
      "\n",
      "Epoch 00123: val_accuracy did not improve from 0.73228\n",
      "\n",
      "Epoch 00124: val_accuracy did not improve from 0.73228\n",
      "\n",
      "Epoch 00125: val_accuracy did not improve from 0.73228\n",
      "\n",
      "Epoch 00126: val_accuracy did not improve from 0.73228\n",
      "\n",
      "Epoch 00127: val_accuracy did not improve from 0.73228\n",
      "\n",
      "Epoch 00128: val_accuracy improved from 0.73228 to 0.74409, saving model to weights-improvement-128-0.74.hdf5\n",
      "\n",
      "Epoch 00129: val_accuracy did not improve from 0.74409\n",
      "\n",
      "Epoch 00130: val_accuracy did not improve from 0.74409\n",
      "\n",
      "Epoch 00131: val_accuracy did not improve from 0.74409\n",
      "\n",
      "Epoch 00132: val_accuracy improved from 0.74409 to 0.74803, saving model to weights-improvement-132-0.75.hdf5\n",
      "\n",
      "Epoch 00133: val_accuracy did not improve from 0.74803\n",
      "\n",
      "Epoch 00134: val_accuracy did not improve from 0.74803\n",
      "\n",
      "Epoch 00135: val_accuracy did not improve from 0.74803\n",
      "\n",
      "Epoch 00136: val_accuracy did not improve from 0.74803\n",
      "\n",
      "Epoch 00137: val_accuracy did not improve from 0.74803\n",
      "\n",
      "Epoch 00138: val_accuracy did not improve from 0.74803\n",
      "\n",
      "Epoch 00139: val_accuracy did not improve from 0.74803\n",
      "\n",
      "Epoch 00140: val_accuracy did not improve from 0.74803\n"
     ]
    },
    {
     "name": "stdout",
     "output_type": "stream",
     "text": [
      "\n",
      "Epoch 00141: val_accuracy did not improve from 0.74803\n",
      "\n",
      "Epoch 00142: val_accuracy did not improve from 0.74803\n",
      "\n",
      "Epoch 00143: val_accuracy did not improve from 0.74803\n",
      "\n",
      "Epoch 00144: val_accuracy did not improve from 0.74803\n",
      "\n",
      "Epoch 00145: val_accuracy did not improve from 0.74803\n",
      "\n",
      "Epoch 00146: val_accuracy did not improve from 0.74803\n",
      "\n",
      "Epoch 00147: val_accuracy did not improve from 0.74803\n",
      "\n",
      "Epoch 00148: val_accuracy did not improve from 0.74803\n",
      "\n",
      "Epoch 00149: val_accuracy did not improve from 0.74803\n",
      "\n",
      "Epoch 00150: val_accuracy did not improve from 0.74803\n"
     ]
    },
    {
     "data": {
      "text/plain": [
       "<tensorflow.python.keras.callbacks.History at 0x7ff5786a4460>"
      ]
     },
     "execution_count": 74,
     "metadata": {},
     "output_type": "execute_result"
    }
   ],
   "source": [
    "# Checkpoint the weights when validation accuracy improves\n",
    "from keras.models import Sequential\n",
    "from keras.layers import Dense\n",
    "from keras.callbacks import ModelCheckpoint\n",
    "import matplotlib.pyplot as plt\n",
    "import numpy\n",
    "\n",
    "# fix random seed for reproducibility\n",
    "seed = 7\n",
    "numpy.random.seed(seed)\n",
    "\n",
    "# load pima indians dataset\n",
    "dataset = numpy.loadtxt(\"pima-indians-diabetes.data.csv\", delimiter=\",\")\n",
    "\n",
    "# split into input (X) and output (Y) variables\n",
    "X = dataset[:,0:8]\n",
    "Y = dataset[:,8]\n",
    "\n",
    "# create model\n",
    "model = Sequential()\n",
    "model.add(Dense(12, input_dim=8, kernel_initializer='uniform', activation='relu'))\n",
    "model.add(Dense(8, kernel_initializer='uniform', activation='relu'))\n",
    "model.add(Dense(1, kernel_initializer='uniform', activation='sigmoid'))\n",
    "# Compile model\n",
    "model.compile(loss='binary_crossentropy', optimizer='adam', metrics=['accuracy'])\n",
    "# checkpoint\n",
    "\n",
    "filepath=\"weights-improvement-{epoch:02d}-{val_accuracy:.2f}.hdf5\" #Save the Improve model here\n",
    "checkpoint = ModelCheckpoint(filepath, monitor='val_accuracy', verbose=1, save_best_only=True, mode='max')\n",
    "callbacks_list = [checkpoint]\n",
    "\n",
    "# Fit the model\n",
    "model.fit(X, Y, validation_split=0.33, epochs=150, batch_size=10, callbacks=callbacks_list, verbose=0)"
   ]
  },
  {
   "cell_type": "code",
   "execution_count": null,
   "metadata": {},
   "outputs": [],
   "source": []
  },
  {
   "cell_type": "markdown",
   "metadata": {},
   "source": [
    "### Checkpoint Best Neural Network Model Only\n",
    "\n",
    "A simpler check-point strategy is to save the model weights to the same file, if and only if the validation accuracy improves. This can be done easily using the same code from above and changing the output filename to be fixed (not include score or epoch information).\n",
    "\n",
    "In this case, model weights are written to the file “weights.best.hdf5” only if the classification accuracy of the model on the validation dataset improves over the best seen so far."
   ]
  },
  {
   "cell_type": "markdown",
   "metadata": {},
   "source": [
    "You should see the weight file in your local directory: \"weights.best.hdf5\""
   ]
  },
  {
   "cell_type": "code",
   "execution_count": 75,
   "metadata": {
    "ExecuteTime": {
     "end_time": "2018-11-28T23:19:05.940105Z",
     "start_time": "2018-11-28T23:18:21.759063Z"
    },
    "scrolled": false
   },
   "outputs": [
    {
     "name": "stdout",
     "output_type": "stream",
     "text": [
      "\n",
      "Epoch 00001: val_accuracy improved from -inf to 0.67323, saving model to weights.best.hdf5\n",
      "\n",
      "Epoch 00002: val_accuracy did not improve from 0.67323\n",
      "\n",
      "Epoch 00003: val_accuracy did not improve from 0.67323\n",
      "\n",
      "Epoch 00004: val_accuracy improved from 0.67323 to 0.68504, saving model to weights.best.hdf5\n",
      "\n",
      "Epoch 00005: val_accuracy did not improve from 0.68504\n",
      "\n",
      "Epoch 00006: val_accuracy did not improve from 0.68504\n",
      "\n",
      "Epoch 00007: val_accuracy did not improve from 0.68504\n",
      "\n",
      "Epoch 00008: val_accuracy did not improve from 0.68504\n",
      "\n",
      "Epoch 00009: val_accuracy did not improve from 0.68504\n",
      "\n",
      "Epoch 00010: val_accuracy improved from 0.68504 to 0.69291, saving model to weights.best.hdf5\n",
      "\n",
      "Epoch 00011: val_accuracy did not improve from 0.69291\n",
      "\n",
      "Epoch 00012: val_accuracy did not improve from 0.69291\n",
      "\n",
      "Epoch 00013: val_accuracy improved from 0.69291 to 0.74409, saving model to weights.best.hdf5\n",
      "\n",
      "Epoch 00014: val_accuracy did not improve from 0.74409\n",
      "\n",
      "Epoch 00015: val_accuracy did not improve from 0.74409\n",
      "\n",
      "Epoch 00016: val_accuracy did not improve from 0.74409\n",
      "\n",
      "Epoch 00017: val_accuracy did not improve from 0.74409\n",
      "\n",
      "Epoch 00018: val_accuracy did not improve from 0.74409\n",
      "\n",
      "Epoch 00019: val_accuracy did not improve from 0.74409\n",
      "\n",
      "Epoch 00020: val_accuracy did not improve from 0.74409\n",
      "\n",
      "Epoch 00021: val_accuracy did not improve from 0.74409\n",
      "\n",
      "Epoch 00022: val_accuracy did not improve from 0.74409\n",
      "\n",
      "Epoch 00023: val_accuracy did not improve from 0.74409\n",
      "\n",
      "Epoch 00024: val_accuracy did not improve from 0.74409\n",
      "\n",
      "Epoch 00025: val_accuracy did not improve from 0.74409\n",
      "\n",
      "Epoch 00026: val_accuracy did not improve from 0.74409\n",
      "\n",
      "Epoch 00027: val_accuracy did not improve from 0.74409\n",
      "\n",
      "Epoch 00028: val_accuracy did not improve from 0.74409\n",
      "\n",
      "Epoch 00029: val_accuracy did not improve from 0.74409\n",
      "\n",
      "Epoch 00030: val_accuracy did not improve from 0.74409\n",
      "\n",
      "Epoch 00031: val_accuracy did not improve from 0.74409\n",
      "\n",
      "Epoch 00032: val_accuracy did not improve from 0.74409\n",
      "\n",
      "Epoch 00033: val_accuracy did not improve from 0.74409\n",
      "\n",
      "Epoch 00034: val_accuracy did not improve from 0.74409\n",
      "\n",
      "Epoch 00035: val_accuracy did not improve from 0.74409\n",
      "\n",
      "Epoch 00036: val_accuracy did not improve from 0.74409\n",
      "\n",
      "Epoch 00037: val_accuracy did not improve from 0.74409\n",
      "\n",
      "Epoch 00038: val_accuracy did not improve from 0.74409\n",
      "\n",
      "Epoch 00039: val_accuracy did not improve from 0.74409\n",
      "\n",
      "Epoch 00040: val_accuracy did not improve from 0.74409\n",
      "\n",
      "Epoch 00041: val_accuracy did not improve from 0.74409\n",
      "\n",
      "Epoch 00042: val_accuracy did not improve from 0.74409\n",
      "\n",
      "Epoch 00043: val_accuracy did not improve from 0.74409\n",
      "\n",
      "Epoch 00044: val_accuracy did not improve from 0.74409\n",
      "\n",
      "Epoch 00045: val_accuracy did not improve from 0.74409\n",
      "\n",
      "Epoch 00046: val_accuracy did not improve from 0.74409\n",
      "\n",
      "Epoch 00047: val_accuracy did not improve from 0.74409\n",
      "\n",
      "Epoch 00048: val_accuracy did not improve from 0.74409\n",
      "\n",
      "Epoch 00049: val_accuracy did not improve from 0.74409\n",
      "\n",
      "Epoch 00050: val_accuracy did not improve from 0.74409\n",
      "\n",
      "Epoch 00051: val_accuracy did not improve from 0.74409\n",
      "\n",
      "Epoch 00052: val_accuracy did not improve from 0.74409\n",
      "\n",
      "Epoch 00053: val_accuracy did not improve from 0.74409\n",
      "\n",
      "Epoch 00054: val_accuracy did not improve from 0.74409\n",
      "\n",
      "Epoch 00055: val_accuracy did not improve from 0.74409\n",
      "\n",
      "Epoch 00056: val_accuracy did not improve from 0.74409\n",
      "\n",
      "Epoch 00057: val_accuracy did not improve from 0.74409\n",
      "\n",
      "Epoch 00058: val_accuracy did not improve from 0.74409\n",
      "\n",
      "Epoch 00059: val_accuracy did not improve from 0.74409\n",
      "\n",
      "Epoch 00060: val_accuracy did not improve from 0.74409\n",
      "\n",
      "Epoch 00061: val_accuracy did not improve from 0.74409\n",
      "\n",
      "Epoch 00062: val_accuracy did not improve from 0.74409\n",
      "\n",
      "Epoch 00063: val_accuracy did not improve from 0.74409\n",
      "\n",
      "Epoch 00064: val_accuracy did not improve from 0.74409\n",
      "\n",
      "Epoch 00065: val_accuracy did not improve from 0.74409\n",
      "\n",
      "Epoch 00066: val_accuracy did not improve from 0.74409\n",
      "\n",
      "Epoch 00067: val_accuracy did not improve from 0.74409\n",
      "\n",
      "Epoch 00068: val_accuracy did not improve from 0.74409\n",
      "\n",
      "Epoch 00069: val_accuracy did not improve from 0.74409\n",
      "\n",
      "Epoch 00070: val_accuracy did not improve from 0.74409\n",
      "\n",
      "Epoch 00071: val_accuracy did not improve from 0.74409\n",
      "\n",
      "Epoch 00072: val_accuracy did not improve from 0.74409\n",
      "\n",
      "Epoch 00073: val_accuracy improved from 0.74409 to 0.74803, saving model to weights.best.hdf5\n",
      "\n",
      "Epoch 00074: val_accuracy improved from 0.74803 to 0.75591, saving model to weights.best.hdf5\n",
      "\n",
      "Epoch 00075: val_accuracy did not improve from 0.75591\n",
      "\n",
      "Epoch 00076: val_accuracy did not improve from 0.75591\n",
      "\n",
      "Epoch 00077: val_accuracy did not improve from 0.75591\n",
      "\n",
      "Epoch 00078: val_accuracy did not improve from 0.75591\n",
      "\n",
      "Epoch 00079: val_accuracy did not improve from 0.75591\n",
      "\n",
      "Epoch 00080: val_accuracy did not improve from 0.75591\n",
      "\n",
      "Epoch 00081: val_accuracy did not improve from 0.75591\n",
      "\n",
      "Epoch 00082: val_accuracy did not improve from 0.75591\n",
      "\n",
      "Epoch 00083: val_accuracy did not improve from 0.75591\n",
      "\n",
      "Epoch 00084: val_accuracy did not improve from 0.75591\n",
      "\n",
      "Epoch 00085: val_accuracy did not improve from 0.75591\n",
      "\n",
      "Epoch 00086: val_accuracy did not improve from 0.75591\n",
      "\n",
      "Epoch 00087: val_accuracy did not improve from 0.75591\n",
      "\n",
      "Epoch 00088: val_accuracy did not improve from 0.75591\n",
      "\n",
      "Epoch 00089: val_accuracy did not improve from 0.75591\n",
      "\n",
      "Epoch 00090: val_accuracy did not improve from 0.75591\n",
      "\n",
      "Epoch 00091: val_accuracy did not improve from 0.75591\n",
      "\n",
      "Epoch 00092: val_accuracy did not improve from 0.75591\n",
      "\n",
      "Epoch 00093: val_accuracy did not improve from 0.75591\n",
      "\n",
      "Epoch 00094: val_accuracy did not improve from 0.75591\n",
      "\n",
      "Epoch 00095: val_accuracy did not improve from 0.75591\n",
      "\n",
      "Epoch 00096: val_accuracy improved from 0.75591 to 0.76772, saving model to weights.best.hdf5\n",
      "\n",
      "Epoch 00097: val_accuracy did not improve from 0.76772\n",
      "\n",
      "Epoch 00098: val_accuracy did not improve from 0.76772\n",
      "\n",
      "Epoch 00099: val_accuracy did not improve from 0.76772\n",
      "\n",
      "Epoch 00100: val_accuracy did not improve from 0.76772\n",
      "\n",
      "Epoch 00101: val_accuracy did not improve from 0.76772\n",
      "\n",
      "Epoch 00102: val_accuracy did not improve from 0.76772\n",
      "\n",
      "Epoch 00103: val_accuracy did not improve from 0.76772\n",
      "\n",
      "Epoch 00104: val_accuracy did not improve from 0.76772\n",
      "\n",
      "Epoch 00105: val_accuracy did not improve from 0.76772\n",
      "\n",
      "Epoch 00106: val_accuracy did not improve from 0.76772\n",
      "\n",
      "Epoch 00107: val_accuracy did not improve from 0.76772\n",
      "\n",
      "Epoch 00108: val_accuracy did not improve from 0.76772\n",
      "\n",
      "Epoch 00109: val_accuracy improved from 0.76772 to 0.77559, saving model to weights.best.hdf5\n",
      "\n",
      "Epoch 00110: val_accuracy did not improve from 0.77559\n",
      "\n",
      "Epoch 00111: val_accuracy did not improve from 0.77559\n",
      "\n",
      "Epoch 00112: val_accuracy did not improve from 0.77559\n",
      "\n",
      "Epoch 00113: val_accuracy did not improve from 0.77559\n",
      "\n",
      "Epoch 00114: val_accuracy did not improve from 0.77559\n",
      "\n",
      "Epoch 00115: val_accuracy did not improve from 0.77559\n",
      "\n",
      "Epoch 00116: val_accuracy did not improve from 0.77559\n",
      "\n",
      "Epoch 00117: val_accuracy did not improve from 0.77559\n",
      "\n",
      "Epoch 00118: val_accuracy improved from 0.77559 to 0.77953, saving model to weights.best.hdf5\n",
      "\n",
      "Epoch 00119: val_accuracy did not improve from 0.77953\n",
      "\n",
      "Epoch 00120: val_accuracy did not improve from 0.77953\n",
      "\n",
      "Epoch 00121: val_accuracy did not improve from 0.77953\n",
      "\n",
      "Epoch 00122: val_accuracy improved from 0.77953 to 0.79134, saving model to weights.best.hdf5\n",
      "\n",
      "Epoch 00123: val_accuracy did not improve from 0.79134\n",
      "\n",
      "Epoch 00124: val_accuracy did not improve from 0.79134\n",
      "\n",
      "Epoch 00125: val_accuracy did not improve from 0.79134\n",
      "\n",
      "Epoch 00126: val_accuracy did not improve from 0.79134\n",
      "\n",
      "Epoch 00127: val_accuracy did not improve from 0.79134\n",
      "\n",
      "Epoch 00128: val_accuracy did not improve from 0.79134\n",
      "\n",
      "Epoch 00129: val_accuracy did not improve from 0.79134\n",
      "\n",
      "Epoch 00130: val_accuracy did not improve from 0.79134\n",
      "\n",
      "Epoch 00131: val_accuracy did not improve from 0.79134\n",
      "\n",
      "Epoch 00132: val_accuracy did not improve from 0.79134\n",
      "\n",
      "Epoch 00133: val_accuracy did not improve from 0.79134\n",
      "\n",
      "Epoch 00134: val_accuracy did not improve from 0.79134\n",
      "\n",
      "Epoch 00135: val_accuracy did not improve from 0.79134\n",
      "\n",
      "Epoch 00136: val_accuracy did not improve from 0.79134\n",
      "\n",
      "Epoch 00137: val_accuracy did not improve from 0.79134\n",
      "\n",
      "Epoch 00138: val_accuracy did not improve from 0.79134\n",
      "\n",
      "Epoch 00139: val_accuracy did not improve from 0.79134\n",
      "\n",
      "Epoch 00140: val_accuracy did not improve from 0.79134\n",
      "\n",
      "Epoch 00141: val_accuracy did not improve from 0.79134\n",
      "\n",
      "Epoch 00142: val_accuracy did not improve from 0.79134\n",
      "\n",
      "Epoch 00143: val_accuracy did not improve from 0.79134\n"
     ]
    },
    {
     "name": "stdout",
     "output_type": "stream",
     "text": [
      "\n",
      "Epoch 00144: val_accuracy did not improve from 0.79134\n",
      "\n",
      "Epoch 00145: val_accuracy did not improve from 0.79134\n",
      "\n",
      "Epoch 00146: val_accuracy did not improve from 0.79134\n",
      "\n",
      "Epoch 00147: val_accuracy did not improve from 0.79134\n",
      "\n",
      "Epoch 00148: val_accuracy did not improve from 0.79134\n",
      "\n",
      "Epoch 00149: val_accuracy did not improve from 0.79134\n",
      "\n",
      "Epoch 00150: val_accuracy did not improve from 0.79134\n"
     ]
    },
    {
     "data": {
      "text/plain": [
       "<tensorflow.python.keras.callbacks.History at 0x7ff578bf3f10>"
      ]
     },
     "execution_count": 75,
     "metadata": {},
     "output_type": "execute_result"
    }
   ],
   "source": [
    "# Checkpoint the weights for best model on validation accuracy\n",
    "from keras.models import Sequential\n",
    "from keras.layers import Dense\n",
    "from keras.callbacks import ModelCheckpoint\n",
    "import matplotlib.pyplot as plt\n",
    "import numpy\n",
    "\n",
    "# fix random seed for reproducibility\n",
    "seed = 7\n",
    "numpy.random.seed(seed)\n",
    "\n",
    "# load pima indians dataset\n",
    "dataset = numpy.loadtxt(\"pima-indians-diabetes.data.csv\", delimiter=\",\")\n",
    "# split into input (X) and output (Y) variables\n",
    "X = dataset[:,0:8]\n",
    "Y = dataset[:,8]\n",
    "\n",
    "# create model\n",
    "model = Sequential()\n",
    "model.add(Dense(12, input_dim=8, kernel_initializer='uniform', activation='relu'))\n",
    "model.add(Dense(8, kernel_initializer='uniform', activation='relu'))\n",
    "model.add(Dense(1, kernel_initializer='uniform', activation='sigmoid'))\n",
    "\n",
    "# Compile model\n",
    "model.compile(loss='binary_crossentropy', optimizer='adam', metrics=['accuracy'])\n",
    "\n",
    "# checkpoint\n",
    "filepath=\"weights.best.hdf5\"\n",
    "checkpoint = ModelCheckpoint(filepath, monitor='val_accuracy', verbose=1, save_best_only=True, mode='max')\n",
    "callbacks_list = [checkpoint]\n",
    "# Fit the model\n",
    "model.fit(X, Y, validation_split=0.33, epochs=150, batch_size=10, callbacks=callbacks_list, verbose=0)"
   ]
  },
  {
   "cell_type": "code",
   "execution_count": null,
   "metadata": {},
   "outputs": [],
   "source": []
  },
  {
   "cell_type": "markdown",
   "metadata": {},
   "source": [
    "### Loading a Check-Pointed Neural Network Model\n",
    "\n",
    "Now that you have seen how to checkpoint your deep learning models during training, you need to review how to load and use a checkpointed model.The checkpoint only includes the model weights. It assumes you know the network structure. \n",
    "\n",
    "In the example below, the model structure is known and the best weights are loaded from the previous experiment, stored in the working directory in the weights.best.hdf5 file.\n",
    "\n",
    "The model is then used to make predictions on the entire dataset."
   ]
  },
  {
   "cell_type": "code",
   "execution_count": 76,
   "metadata": {},
   "outputs": [
    {
     "name": "stdout",
     "output_type": "stream",
     "text": [
      "Created model and loaded weights from file\n",
      "accuracy: 76.95%\n"
     ]
    }
   ],
   "source": [
    "# How to load and use weights from a checkpoint\n",
    "\n",
    "from keras.models import Sequential\n",
    "from keras.layers import Dense\n",
    "from keras.callbacks import ModelCheckpoint\n",
    "import matplotlib.pyplot as plt\n",
    "import numpy\n",
    "\n",
    "# fix random seed for reproducibility\n",
    "seed = 7\n",
    "numpy.random.seed(seed)\n",
    "\n",
    "# create model\n",
    "model = Sequential()\n",
    "model.add(Dense(12, input_dim=8, kernel_initializer='uniform', activation='relu'))\n",
    "model.add(Dense(8, kernel_initializer='uniform', activation='relu'))\n",
    "model.add(Dense(1, kernel_initializer='uniform', activation='sigmoid'))\n",
    "\n",
    "# load weights\n",
    "model.load_weights(\"weights.best.hdf5\")\n",
    "# Compile model (required to make predictions)\n",
    "model.compile(loss='binary_crossentropy', optimizer='adam', metrics=['accuracy'])\n",
    "print(\"Created model and loaded weights from file\")\n",
    "\n",
    "# load pima indians dataset\n",
    "dataset = numpy.loadtxt(\"pima-indians-diabetes.data.csv\", delimiter=\",\")\n",
    "\n",
    "# split into input (X) and output (Y) variables\n",
    "X = dataset[:,0:8]\n",
    "Y = dataset[:,8]\n",
    "\n",
    "# estimate accuracy on whole dataset using loaded weights\n",
    "scores = model.evaluate(X, Y, verbose=0)\n",
    "print(\"%s: %.2f%%\" % (model.metrics_names[1], scores[1]*100))"
   ]
  },
  {
   "cell_type": "code",
   "execution_count": null,
   "metadata": {},
   "outputs": [],
   "source": []
  },
  {
   "cell_type": "markdown",
   "metadata": {},
   "source": [
    "### Let's use the IMdB data set"
   ]
  },
  {
   "cell_type": "code",
   "execution_count": 80,
   "metadata": {
    "ExecuteTime": {
     "end_time": "2018-11-29T00:39:43.589777Z",
     "start_time": "2018-11-29T00:39:37.158007Z"
    }
   },
   "outputs": [
    {
     "name": "stdout",
     "output_type": "stream",
     "text": [
      "Loading data...\n",
      "25000 train sequences\n",
      "25000 test sequences\n",
      "Pad sequences (samples x time)\n",
      "input_train shape: (25000, 500)\n",
      "input_test shape: (25000, 500)\n"
     ]
    }
   ],
   "source": [
    "from keras.datasets import imdb\n",
    "from keras.preprocessing import sequence\n",
    "max_features = 10000 #Number of words to consider as features\n",
    "maxlen = 500 # Cuts off texts after this many words (among the max_features most common words)\n",
    "#batch_size = 32\n",
    "print('Loading data...')\n",
    "(input_train, y_train), (input_test, y_test) = imdb.load_data(\n",
    "num_words=max_features)\n",
    "print(len(input_train), 'train sequences')\n",
    "print(len(input_test), 'test sequences')\n",
    "print('Pad sequences (samples x time)')\n",
    "input_train = sequence.pad_sequences(input_train, maxlen=maxlen)\n",
    "input_test = sequence.pad_sequences(input_test, maxlen=maxlen)\n",
    "print('input_train shape:', input_train.shape)\n",
    "print('input_test shape:', input_test.shape)"
   ]
  },
  {
   "cell_type": "code",
   "execution_count": 81,
   "metadata": {},
   "outputs": [
    {
     "name": "stdout",
     "output_type": "stream",
     "text": [
      "\n",
      "Epoch 00001: val_acc improved from -inf to 0.79940, saving model to weights_best_IMDB2.hdf5\n",
      "\n",
      "Epoch 00002: val_acc improved from 0.79940 to 0.83980, saving model to weights_best_IMDB2.hdf5\n",
      "\n",
      "Epoch 00003: val_acc improved from 0.83980 to 0.85100, saving model to weights_best_IMDB2.hdf5\n",
      "\n",
      "Epoch 00004: val_acc did not improve from 0.85100\n",
      "\n",
      "Epoch 00005: val_acc did not improve from 0.85100\n",
      "\n",
      "Epoch 00006: val_acc improved from 0.85100 to 0.85760, saving model to weights_best_IMDB2.hdf5\n",
      "\n",
      "Epoch 00007: val_acc did not improve from 0.85760\n",
      "\n",
      "Epoch 00008: val_acc did not improve from 0.85760\n",
      "\n",
      "Epoch 00009: val_acc did not improve from 0.85760\n",
      "\n",
      "Epoch 00010: val_acc did not improve from 0.85760\n"
     ]
    }
   ],
   "source": [
    "from keras import Sequential\n",
    "from keras.layers import Embedding, SimpleRNN\n",
    "from keras.layers import Dense\n",
    "from keras.callbacks import ModelCheckpoint\n",
    "\n",
    "model = Sequential()\n",
    "model.add(Embedding(max_features, 32))\n",
    "model.add(SimpleRNN(32))\n",
    "model.add(Dense(1, activation='sigmoid'))\n",
    "model.compile(optimizer='rmsprop', loss='binary_crossentropy', metrics=['acc'])\n",
    "\n",
    "# checkpoint\n",
    "filepath=\"weights_best_IMDB2.hdf5\"\n",
    "checkpoint = ModelCheckpoint(filepath, monitor='val_acc', verbose=1, save_best_only=True, mode='max')\n",
    "callbacks_list = [checkpoint]\n",
    "\n",
    "history = model.fit(input_train, y_train,\n",
    "                    epochs=10,\n",
    "                    batch_size=128,\n",
    "                    validation_split=0.2,\n",
    "                    callbacks=callbacks_list, verbose=0)\n"
   ]
  },
  {
   "cell_type": "code",
   "execution_count": null,
   "metadata": {},
   "outputs": [],
   "source": []
  }
 ],
 "metadata": {
  "kernelspec": {
   "display_name": "Python 3",
   "language": "python",
   "name": "python3"
  },
  "language_info": {
   "codemirror_mode": {
    "name": "ipython",
    "version": 3
   },
   "file_extension": ".py",
   "mimetype": "text/x-python",
   "name": "python",
   "nbconvert_exporter": "python",
   "pygments_lexer": "ipython3",
   "version": "3.8.3"
  }
 },
 "nbformat": 4,
 "nbformat_minor": 2
}
