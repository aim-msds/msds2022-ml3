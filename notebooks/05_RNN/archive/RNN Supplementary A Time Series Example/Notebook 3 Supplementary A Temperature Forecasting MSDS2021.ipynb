{
 "cells": [
  {
   "cell_type": "markdown",
   "metadata": {},
   "source": [
    "### Notebook 3. Supplementary: Temperature Forecasting using RNN\n",
    "\n",
    "Compiled by:\n",
    "Christopher Monterola\n",
    "\n",
    "Lecture is taken from:\n",
    "\n",
    "**1. Python Machine Learning, Second Edition, Sebastian Raschka and Vahid Mirjalili, Packt Publishing Ltd. Birmingham B3 2PB, UK Sept 2017.**\n",
    "\n",
    "**2. Hands-On Machine Learning with Scikit-Learn and TensorFlow, Aurélien Géron, O'Reilly 2017.**\n",
    "\n",
    "**3. Deep Learning with Python, Francois Chollet, Manning New York 2018.**\n",
    "\n",
    "In this notebook, we will continue in illustrating RNN by using it to  work on the following: **Temperature forecasting problem [reference 3]**    \n"
   ]
  },
  {
   "cell_type": "markdown",
   "metadata": {},
   "source": [
    " In the next example, we’ll review three advanced techniques for improving the performance and generalization power of recurrent neural networks.  We’ll demonstrate all three concepts on a temperature-forecasting problem, where you have access to a timeseries of data points coming from sensors installed on the roof of a building, such as temperature, air pressure, and humidity, which you use to predict what the temperature will be 24 hours after the last data point. \n",
    "\n",
    "This is a fairly challenging problem that exemplifies many common difficulties encountered when working with timeseries. We’ll cover the following techniques:\n",
    "\n",
    " GRU based architecture in contrast with simple RNN and LSTM \n",
    " Recurrent dropout—This is a specific, built-in way to use dropout to fight overfitting in recurrent layers.    \n",
    " Stacking recurrent layers—This increases the representational power of the network (at the cost of higher computational loads).    \n"
   ]
  },
  {
   "cell_type": "markdown",
   "metadata": {},
   "source": [
    "### Example 2:  Temperature forecasting problem\n",
    "\n",
    "Sequence data is found in diverse problems other than just language processing. In all the examples in this section, you’ll play with a weather timeseries dataset recorded at the Weather Station at the Max Planck Institute for Biogeochemistry in Jena, Germany. In this dataset, 14 different quantities (such air temperature, atmospheric pressure, humidity, wind direction, and so on) were recorded every 10 minutes, over several years. The original data goes back to 2003, but this example is limited to data from 2009–2016. This dataset is perfect for learning to work with numerical timeseries. You’ll use it to build a model that takes as input some data from the recent past (a few days’ worth of data points) and predicts the air temperature 24 hours in the future.\n",
    "\n",
    "Here are the actual variables in the data:\n",
    "\n",
    "Date Time   \n",
    "p (mbar) atmospheric pressure  \n",
    "T (degC) temperature  \n",
    "Tpot (K) potential temperature  \n",
    "Tdew (degC) dew point temperature  \n",
    "rh (%) relative humidity  \n",
    "VPmax (mbar) saturation water vapor pressure  \n",
    "VPact (mbar) actual water vapor pressure  \n",
    "VPdef (mbar) water vapor pressure deficit  \n",
    "sh (g/kg) specific humidity  \n",
    "H2OC (mmol/mol) water vapor concentration  \n",
    "rho (g/$m^3$) air density  \n",
    "wv (m/s) wind velocity  \n",
    "max. wv (m/s) maximum wind velocity  \n",
    "wd (deg) wind direction  \n"
   ]
  },
  {
   "cell_type": "markdown",
   "metadata": {},
   "source": [
    "### Step 1: Get the data\n",
    "\n",
    "Download and uncompress the data as follows:"
   ]
  },
  {
   "cell_type": "markdown",
   "metadata": {},
   "source": [
    "Let’s look at the data."
   ]
  },
  {
   "cell_type": "markdown",
   "metadata": {},
   "source": [
    "### Inspecting the data of the Jena weather dataset"
   ]
  },
  {
   "cell_type": "code",
   "execution_count": 94,
   "metadata": {
    "ExecuteTime": {
     "end_time": "2018-11-28T15:42:57.875835Z",
     "start_time": "2018-11-28T15:42:57.684467Z"
    },
    "scrolled": true
   },
   "outputs": [
    {
     "name": "stdout",
     "output_type": "stream",
     "text": [
      "['\"Date Time\"', '\"p (mbar)\"', '\"T (degC)\"', '\"Tpot (K)\"', '\"Tdew (degC)\"', '\"rh (%)\"', '\"VPmax (mbar)\"', '\"VPact (mbar)\"', '\"VPdef (mbar)\"', '\"sh (g/kg)\"', '\"H2OC (mmol/mol)\"', '\"rho (g/m**3)\"', '\"wv (m/s)\"', '\"max. wv (m/s)\"', '\"wd (deg)\"']\n",
      "420551\n"
     ]
    }
   ],
   "source": [
    "import os\n",
    "#data_dir = '/home/cmonterola/Desktop/JourneyBack/DeepLearning/'\n",
    "fname = 'jena_climate_2009_2016.csv'\n",
    "f = open(fname)\n",
    "data = f.read()\n",
    "f.close()\n",
    "lines = data.split('\\n')\n",
    "header = lines[0].split(',')\n",
    "lines = lines[1:]\n",
    "print(header)\n",
    "print(len(lines))"
   ]
  },
  {
   "cell_type": "code",
   "execution_count": 95,
   "metadata": {
    "ExecuteTime": {
     "end_time": "2018-11-28T11:59:57.249917Z",
     "start_time": "2018-11-28T11:59:56.011131Z"
    }
   },
   "outputs": [
    {
     "data": {
      "text/html": [
       "<div>\n",
       "<style scoped>\n",
       "    .dataframe tbody tr th:only-of-type {\n",
       "        vertical-align: middle;\n",
       "    }\n",
       "\n",
       "    .dataframe tbody tr th {\n",
       "        vertical-align: top;\n",
       "    }\n",
       "\n",
       "    .dataframe thead th {\n",
       "        text-align: right;\n",
       "    }\n",
       "</style>\n",
       "<table border=\"1\" class=\"dataframe\">\n",
       "  <thead>\n",
       "    <tr style=\"text-align: right;\">\n",
       "      <th></th>\n",
       "      <th>Date Time</th>\n",
       "      <th>p (mbar)</th>\n",
       "      <th>T (degC)</th>\n",
       "      <th>Tpot (K)</th>\n",
       "      <th>Tdew (degC)</th>\n",
       "      <th>rh (%)</th>\n",
       "      <th>VPmax (mbar)</th>\n",
       "      <th>VPact (mbar)</th>\n",
       "      <th>VPdef (mbar)</th>\n",
       "      <th>sh (g/kg)</th>\n",
       "      <th>H2OC (mmol/mol)</th>\n",
       "      <th>rho (g/m**3)</th>\n",
       "      <th>wv (m/s)</th>\n",
       "      <th>max. wv (m/s)</th>\n",
       "      <th>wd (deg)</th>\n",
       "    </tr>\n",
       "  </thead>\n",
       "  <tbody>\n",
       "    <tr>\n",
       "      <th>0</th>\n",
       "      <td>01.01.2009 00:10:00</td>\n",
       "      <td>996.52</td>\n",
       "      <td>-8.02</td>\n",
       "      <td>265.40</td>\n",
       "      <td>-8.90</td>\n",
       "      <td>93.3</td>\n",
       "      <td>3.33</td>\n",
       "      <td>3.11</td>\n",
       "      <td>0.22</td>\n",
       "      <td>1.94</td>\n",
       "      <td>3.12</td>\n",
       "      <td>1307.75</td>\n",
       "      <td>1.03</td>\n",
       "      <td>1.75</td>\n",
       "      <td>152.3</td>\n",
       "    </tr>\n",
       "    <tr>\n",
       "      <th>1</th>\n",
       "      <td>01.01.2009 00:20:00</td>\n",
       "      <td>996.57</td>\n",
       "      <td>-8.41</td>\n",
       "      <td>265.01</td>\n",
       "      <td>-9.28</td>\n",
       "      <td>93.4</td>\n",
       "      <td>3.23</td>\n",
       "      <td>3.02</td>\n",
       "      <td>0.21</td>\n",
       "      <td>1.89</td>\n",
       "      <td>3.03</td>\n",
       "      <td>1309.80</td>\n",
       "      <td>0.72</td>\n",
       "      <td>1.50</td>\n",
       "      <td>136.1</td>\n",
       "    </tr>\n",
       "    <tr>\n",
       "      <th>2</th>\n",
       "      <td>01.01.2009 00:30:00</td>\n",
       "      <td>996.53</td>\n",
       "      <td>-8.51</td>\n",
       "      <td>264.91</td>\n",
       "      <td>-9.31</td>\n",
       "      <td>93.9</td>\n",
       "      <td>3.21</td>\n",
       "      <td>3.01</td>\n",
       "      <td>0.20</td>\n",
       "      <td>1.88</td>\n",
       "      <td>3.02</td>\n",
       "      <td>1310.24</td>\n",
       "      <td>0.19</td>\n",
       "      <td>0.63</td>\n",
       "      <td>171.6</td>\n",
       "    </tr>\n",
       "    <tr>\n",
       "      <th>3</th>\n",
       "      <td>01.01.2009 00:40:00</td>\n",
       "      <td>996.51</td>\n",
       "      <td>-8.31</td>\n",
       "      <td>265.12</td>\n",
       "      <td>-9.07</td>\n",
       "      <td>94.2</td>\n",
       "      <td>3.26</td>\n",
       "      <td>3.07</td>\n",
       "      <td>0.19</td>\n",
       "      <td>1.92</td>\n",
       "      <td>3.08</td>\n",
       "      <td>1309.19</td>\n",
       "      <td>0.34</td>\n",
       "      <td>0.50</td>\n",
       "      <td>198.0</td>\n",
       "    </tr>\n",
       "    <tr>\n",
       "      <th>4</th>\n",
       "      <td>01.01.2009 00:50:00</td>\n",
       "      <td>996.51</td>\n",
       "      <td>-8.27</td>\n",
       "      <td>265.15</td>\n",
       "      <td>-9.04</td>\n",
       "      <td>94.1</td>\n",
       "      <td>3.27</td>\n",
       "      <td>3.08</td>\n",
       "      <td>0.19</td>\n",
       "      <td>1.92</td>\n",
       "      <td>3.09</td>\n",
       "      <td>1309.00</td>\n",
       "      <td>0.32</td>\n",
       "      <td>0.63</td>\n",
       "      <td>214.3</td>\n",
       "    </tr>\n",
       "  </tbody>\n",
       "</table>\n",
       "</div>"
      ],
      "text/plain": [
       "             Date Time  p (mbar)  T (degC)  Tpot (K)  Tdew (degC)  rh (%)  \\\n",
       "0  01.01.2009 00:10:00    996.52     -8.02    265.40        -8.90    93.3   \n",
       "1  01.01.2009 00:20:00    996.57     -8.41    265.01        -9.28    93.4   \n",
       "2  01.01.2009 00:30:00    996.53     -8.51    264.91        -9.31    93.9   \n",
       "3  01.01.2009 00:40:00    996.51     -8.31    265.12        -9.07    94.2   \n",
       "4  01.01.2009 00:50:00    996.51     -8.27    265.15        -9.04    94.1   \n",
       "\n",
       "   VPmax (mbar)  VPact (mbar)  VPdef (mbar)  sh (g/kg)  H2OC (mmol/mol)  \\\n",
       "0          3.33          3.11          0.22       1.94             3.12   \n",
       "1          3.23          3.02          0.21       1.89             3.03   \n",
       "2          3.21          3.01          0.20       1.88             3.02   \n",
       "3          3.26          3.07          0.19       1.92             3.08   \n",
       "4          3.27          3.08          0.19       1.92             3.09   \n",
       "\n",
       "   rho (g/m**3)  wv (m/s)  max. wv (m/s)  wd (deg)  \n",
       "0       1307.75      1.03           1.75     152.3  \n",
       "1       1309.80      0.72           1.50     136.1  \n",
       "2       1310.24      0.19           0.63     171.6  \n",
       "3       1309.19      0.34           0.50     198.0  \n",
       "4       1309.00      0.32           0.63     214.3  "
      ]
     },
     "execution_count": 95,
     "metadata": {},
     "output_type": "execute_result"
    }
   ],
   "source": [
    "import pandas as pd\n",
    "\n",
    "data2 = pd.read_csv('jena_climate_2009_2016.csv')\n",
    "dummy=data2\n",
    "dummy.head()"
   ]
  },
  {
   "cell_type": "markdown",
   "metadata": {},
   "source": [
    "Now, convert all 420,551 lines of data into a Numpy array."
   ]
  },
  {
   "cell_type": "code",
   "execution_count": 96,
   "metadata": {
    "ExecuteTime": {
     "end_time": "2018-11-28T15:43:06.303407Z",
     "start_time": "2018-11-28T15:43:04.267256Z"
    }
   },
   "outputs": [],
   "source": [
    "import numpy as np\n",
    "\n",
    "float_data = np.zeros((len(lines), len(header) - 1))\n",
    "for i, line in enumerate(lines):\n",
    "    values = [float(x) for x in line.split(',')[1:]]\n",
    "    float_data[i, :] = values"
   ]
  },
  {
   "cell_type": "code",
   "execution_count": 32,
   "metadata": {},
   "outputs": [
    {
     "data": {
      "text/plain": [
       "(420551, 14)"
      ]
     },
     "execution_count": 32,
     "metadata": {},
     "output_type": "execute_result"
    }
   ],
   "source": [
    "float_data.shape"
   ]
  },
  {
   "cell_type": "markdown",
   "metadata": {},
   "source": [
    "### Step 2: Visualize by plotting the temperature timeseries"
   ]
  },
  {
   "cell_type": "markdown",
   "metadata": {},
   "source": [
    "You can clearly see the yearly periodicity of temperature."
   ]
  },
  {
   "cell_type": "code",
   "execution_count": 33,
   "metadata": {
    "ExecuteTime": {
     "end_time": "2018-11-28T15:43:08.897895Z",
     "start_time": "2018-11-28T15:43:08.526173Z"
    }
   },
   "outputs": [
    {
     "data": {
      "text/plain": [
       "[<matplotlib.lines.Line2D at 0x7fd1a5991c70>]"
      ]
     },
     "execution_count": 33,
     "metadata": {},
     "output_type": "execute_result"
    },
    {
     "data": {
      "image/png": "[encoded data removed]",
      "text/plain": [
       "<Figure size 432x288 with 1 Axes>"
      ]
     },
     "metadata": {
      "needs_background": "light"
     },
     "output_type": "display_data"
    }
   ],
   "source": [
    "from matplotlib import pyplot as plt\n",
    "%matplotlib inline\n",
    "\n",
    "temp = float_data[:, 1]  #temperature (in degrees Celsius)\n",
    "plt.plot(range(len(temp)), temp)"
   ]
  },
  {
   "cell_type": "markdown",
   "metadata": {},
   "source": [
    "Below is a more narrow plot of the first 10 days of temperature data. Because the data is recorded every 10 minutes, you get 144 data points per day."
   ]
  },
  {
   "cell_type": "code",
   "execution_count": 34,
   "metadata": {
    "ExecuteTime": {
     "end_time": "2018-11-28T15:43:14.520485Z",
     "start_time": "2018-11-28T15:43:14.416130Z"
    }
   },
   "outputs": [
    {
     "data": {
      "text/plain": [
       "[<matplotlib.lines.Line2D at 0x7fd17c443f10>]"
      ]
     },
     "execution_count": 34,
     "metadata": {},
     "output_type": "execute_result"
    },
    {
     "data": {
      "image/png": "[encoded data removed]",
      "text/plain": [
       "<Figure size 432x288 with 1 Axes>"
      ]
     },
     "metadata": {
      "needs_background": "light"
     },
     "output_type": "display_data"
    }
   ],
   "source": [
    "plt.plot(range(1440), temp[:1440])"
   ]
  },
  {
   "cell_type": "code",
   "execution_count": 35,
   "metadata": {
    "ExecuteTime": {
     "end_time": "2018-11-28T15:43:17.749601Z",
     "start_time": "2018-11-28T15:43:17.641050Z"
    },
    "scrolled": false
   },
   "outputs": [
    {
     "data": {
      "text/plain": [
       "[<matplotlib.lines.Line2D at 0x7fd17c45caf0>]"
      ]
     },
     "execution_count": 35,
     "metadata": {},
     "output_type": "execute_result"
    },
    {
     "data": {
      "image/png": "[encoded data removed]",
      "text/plain": [
       "<Figure size 432x288 with 1 Axes>"
      ]
     },
     "metadata": {
      "needs_background": "light"
     },
     "output_type": "display_data"
    }
   ],
   "source": [
    "plt.plot(range(2880), temp[:2880])"
   ]
  },
  {
   "cell_type": "markdown",
   "metadata": {},
   "source": [
    "On this plot, you can see daily periodicity, especially evident for the last 4 days. Also note that this 10-day period must be coming from a fairly cold winter month. If you were trying to predict average temperature for the next month given a few months of past data, the problem would be easy, due to the reliable year-scale periodicity\n",
    "of the data. \n",
    "\n",
    "But looking at the data over a scale of days, the temperature looks a lot more chaotic. Is this timeseries predictable at a daily scale? Let’s find out. Shown below are plots for 100 days ($2880*5$) and 200 days ($2880*10$)"
   ]
  },
  {
   "cell_type": "code",
   "execution_count": 36,
   "metadata": {
    "ExecuteTime": {
     "end_time": "2018-11-29T01:08:25.559224Z",
     "start_time": "2018-11-29T01:08:25.443281Z"
    }
   },
   "outputs": [
    {
     "data": {
      "text/plain": [
       "[<matplotlib.lines.Line2D at 0x7fd17438e760>]"
      ]
     },
     "execution_count": 36,
     "metadata": {},
     "output_type": "execute_result"
    },
    {
     "data": {
      "image/png": "[encoded data removed]",
      "text/plain": [
       "<Figure size 432x288 with 1 Axes>"
      ]
     },
     "metadata": {
      "needs_background": "light"
     },
     "output_type": "display_data"
    }
   ],
   "source": [
    "plt.plot(range(2880*5), temp[:2880*5])"
   ]
  },
  {
   "cell_type": "code",
   "execution_count": 37,
   "metadata": {
    "ExecuteTime": {
     "end_time": "2018-11-28T15:48:06.248969Z",
     "start_time": "2018-11-28T15:48:06.122103Z"
    }
   },
   "outputs": [
    {
     "data": {
      "text/plain": [
       "[<matplotlib.lines.Line2D at 0x7fd191707340>]"
      ]
     },
     "execution_count": 37,
     "metadata": {},
     "output_type": "execute_result"
    },
    {
     "data": {
      "image/png": "[encoded data removed]",
      "text/plain": [
       "<Figure size 432x288 with 1 Axes>"
      ]
     },
     "metadata": {
      "needs_background": "light"
     },
     "output_type": "display_data"
    }
   ],
   "source": [
    "plt.plot(range(2880*10), temp[:2880*10])"
   ]
  },
  {
   "cell_type": "markdown",
   "metadata": {},
   "source": []
  },
  {
   "cell_type": "markdown",
   "metadata": {},
   "source": [
    "### Step 3. Preparing the data\n",
    "\n",
    "The exact formulation of the problem will be as follows: given data going as far back as lookback timesteps (a timestep is 10 minutes) and sampled every steps timesteps, can you predict the temperature in delay timesteps? \n",
    "\n",
    "You’ll use the following parameter values:\n",
    "\n",
    " lookback = 1440—Observations will go back 10 days (10 days $\\times$ 144 timesteps/day).   \n",
    " steps = 6—Observations will be sampled at one data point per hour.   \n",
    " delay = 144—Targets will be 24 hours in the future.   \n",
    "\n",
    "Meaning the total number of inputs is 720/6 = 120 and the forecast every hour is for 24 data points. Hence, this is a many to many forecasting.\n",
    "\n",
    "<img src=\"FeedforwardNN_timeseries.png\" width=\"800\">\n",
    "<img src=\"RNNGRULSTM_timeseries.png\" width=\"800\">\n",
    "\n",
    "To get started, you need to do two things:\n",
    "\n",
    " **A. Normalization**: Preprocess the data to a format a neural network can ingest. This is easy: the data is already numerical, so you don’t need to do any vectorization. But each time series in the data is on a different scale (for example, temperature is typically between -20 and +30 celsius, but atmospheric pressure, measured in mbar, is around 1,000). You’ll normalize each timeseries independently so that they all take small values on a similar scale.    \n",
    "\n",
    " **B. Sampling**: Write a Python generator that takes the current array of float data and yields batches of data from the recent past, along with a target temperature in the future. Because the samples in the dataset are highly redundant (sample N and sample N + 1 will have most of their timesteps in common), it would be wasteful to explicitly allocate every sample. Instead, you’ll generate the samples on the fly using the original data.   \n",
    "\n",
    "You’ll preprocess the data by subtracting the mean of each timeseries and dividing by the standard deviation. You’re going to use the first 200,000 timesteps as training data, so compute the mean and standard deviation only on this fraction of the data.\n",
    "\n"
   ]
  },
  {
   "cell_type": "markdown",
   "metadata": {},
   "source": [
    "### Step 3A. Normalize the data:"
   ]
  },
  {
   "cell_type": "code",
   "execution_count": 97,
   "metadata": {
    "ExecuteTime": {
     "end_time": "2018-11-28T12:00:01.415039Z",
     "start_time": "2018-11-28T12:00:01.312520Z"
    }
   },
   "outputs": [],
   "source": [
    "mean = float_data[:200000].mean(axis=0)\n",
    "float_data -= mean\n",
    "std = float_data[:200000].std(axis=0)\n",
    "float_data /= std"
   ]
  },
  {
   "cell_type": "markdown",
   "metadata": {},
   "source": [
    "Listed in the code below are the data generator function you’ll use. It yields a tuple (samples, targets), where samples is one batch of input data and targets is the corresponding array of target temperatures. It takes the following arguments:\n",
    "    \n",
    " data—The original array of floating-point data, which you normalized above.  \n",
    " lookback—How many timesteps back the input data should go.  \n",
    " delay—How many timesteps in the future the target should be.  \n",
    " min_index and max_index—Indices in the data array that delimit which timesteps to draw from. This is useful for keeping a segment of the data for validation and another for testing.  \n",
    " shuffle—Whether to shuffle the samples or draw them in chronological order.  \n",
    " batch_size—The number of samples per batch.  \n",
    " step—The period, in timesteps, at which you sample data. You’ll set it to 6 in order to draw one data point every hour. note that the number of inputs = lookback/step  "
   ]
  },
  {
   "cell_type": "markdown",
   "metadata": {},
   "source": [
    "### Step 3B. Sampling the data: Generator yielding timeseries samples and their targets"
   ]
  },
  {
   "cell_type": "code",
   "execution_count": 98,
   "metadata": {
    "ExecuteTime": {
     "end_time": "2018-11-28T12:00:01.423045Z",
     "start_time": "2018-11-28T12:00:01.417409Z"
    }
   },
   "outputs": [],
   "source": [
    "def generator(data, lookback, delay, min_index, max_index, shuffle=False, batch_size=128, step=6):\n",
    "    if max_index is None:\n",
    "        max_index = len(data) - delay - 1\n",
    "    i = min_index + lookback\n",
    "    while 1:\n",
    "        if shuffle:\n",
    "            rows = np.random.randint(min_index + lookback, max_index, size=batch_size)\n",
    "        else:\n",
    "            if i + batch_size >= max_index:\n",
    "                i = min_index + lookback\n",
    "            rows = np.arange(i, min(i + batch_size, max_index))\n",
    "            i += len(rows)\n",
    "\n",
    "        samples = np.zeros((len(rows), lookback // step, data.shape[-1]))\n",
    "        targets = np.zeros((len(rows),))\n",
    "        for j, row in enumerate(rows):\n",
    "            indices = range(rows[j] - lookback, rows[j], step)\n",
    "            samples[j] = data[indices]\n",
    "            targets[j] = data[rows[j] + delay][1]\n",
    "        yield samples, targets"
   ]
  },
  {
   "cell_type": "markdown",
   "metadata": {},
   "source": [
    "### Step 3B. Sampling the data: Preparing the training, validation, and test generation"
   ]
  },
  {
   "cell_type": "code",
   "execution_count": 99,
   "metadata": {
    "ExecuteTime": {
     "end_time": "2018-11-28T15:38:55.080705Z",
     "start_time": "2018-11-28T15:38:55.075147Z"
    }
   },
   "outputs": [],
   "source": [
    "lookback = 1440\n",
    "step = 6\n",
    "delay = 144\n",
    "batch_size = 128 #Each of the batch will have inputs = lookback/step (240 hours in this example) +  delay/step (24 hours)  \n",
    "\n",
    "train_gen = generator(float_data,\n",
    "    lookback=lookback,\n",
    "    delay=delay,\n",
    "    min_index=0,\n",
    "    max_index=200000,\n",
    "    shuffle=True,\n",
    "    step=step,\n",
    "    batch_size=batch_size)\n",
    "\n",
    "val_gen = generator(float_data,\n",
    "    lookback=lookback,\n",
    "    delay=delay,\n",
    "    min_index=200001,\n",
    "    max_index=300000,\n",
    "    step=step,\n",
    "    batch_size=batch_size)\n",
    "\n",
    "test_gen = generator(float_data,\n",
    "    lookback=lookback,\n",
    "    delay=delay,\n",
    "    min_index=300001,\n",
    "    max_index=None,\n",
    "    step=step,\n",
    "    batch_size=batch_size)\n",
    "\n",
    "val_steps = (300000 - 200001 - lookback)  #How many steps to draw from val_gen in order to see the entire \n",
    "                                          #validation set --- \n",
    "                                         #This is normally a problem in keras so let's manually set this to just 1000\n",
    "test_steps = (len(float_data) - 300001 - lookback)  #How many steps to draw from test_gen in order to see the \n",
    "                                          #entire test set "
   ]
  },
  {
   "cell_type": "markdown",
   "metadata": {},
   "source": [
    "### Step 4. Understand the baseline\n",
    "\n",
    "### Baseline Error\n",
    "\n",
    "Before you start using black-box deep-learning models to solve the temperatureprediction problem, let’s try a simple, common-sense approach. It will serve as a sanity check, and it will establish a baseline that you’ll have to beat in order to demonstrate the usefulness of more-advanced machine-learning models. Such common-sense baselines can be useful when you’re approaching a new problem for which there is no known solution (yet). A classic example is that of unbalanced classification tasks, where some classes are much more common than others. If your dataset contains 90% instances of class A and 10% instances of class B, then a common-sense approach to\n",
    "the classification task is to always predict “A” when presented with a new sample. Such a classifier is 90% accurate overall, and any learning-based approach should therefore beat this 90% score in order to demonstrate usefulness. \n",
    "\n",
    "Sometimes, such elementary baselines can prove surprisingly hard to beat.   \n",
    "\n",
    "In this case, the temperature timeseries can safely be assumed to be continuous (the temperatures tomorrow are likely to be close to the temperatures today) as well as periodical with a daily period. Thus a common-sense approach is to always predict that the temperature 24 hours from now will be equal to the temperature right now.\n",
    "\n",
    "*Today essentially is the same as yesterday.*\n",
    "\n",
    "Let’s evaluate this approach, using the mean absolute error (MAE = $\\sum_{i=1}^{N} \\frac{|Theoretical_i - Actual_i|}{N} = \\sum_{i=1}^{N} \\frac{|error_i|}{N}$) metric: *np.mean(np.abs(preds - targets))*"
   ]
  },
  {
   "cell_type": "code",
   "execution_count": 41,
   "metadata": {
    "ExecuteTime": {
     "end_time": "2018-11-28T12:11:33.302753Z",
     "start_time": "2018-11-28T12:02:58.990544Z"
    }
   },
   "outputs": [
    {
     "name": "stdout",
     "output_type": "stream",
     "text": [
      "0.28969941979609765\n"
     ]
    }
   ],
   "source": [
    "def evaluate_naive_method():\n",
    "    batch_maes = []\n",
    "    for step in range(val_steps):\n",
    "        samples, targets = next(val_gen)\n",
    "        preds = samples[:, -1, 1]\n",
    "        mae = np.mean(np.abs(preds - targets))\n",
    "        batch_maes.append(mae)\n",
    "    print(np.mean(batch_maes))\n",
    "\n",
    "evaluate_naive_method()"
   ]
  },
  {
   "cell_type": "code",
   "execution_count": 42,
   "metadata": {
    "ExecuteTime": {
     "end_time": "2018-11-28T15:43:59.954152Z",
     "start_time": "2018-11-28T15:43:59.948551Z"
    }
   },
   "outputs": [
    {
     "data": {
      "text/plain": [
       "8.85249908220462"
      ]
     },
     "execution_count": 42,
     "metadata": {},
     "output_type": "execute_result"
    }
   ],
   "source": [
    "std[1]"
   ]
  },
  {
   "cell_type": "markdown",
   "metadata": {},
   "source": [
    "This yields an MAE of 0.29. Because the temperature data has been normalized to be centered on 0 and have a standard deviation of 1, this number isn’t immediately interpretable. It translates to an average absolute error of 0.29 × temperature_std degrees Celsius: 2.57°C."
   ]
  },
  {
   "cell_type": "code",
   "execution_count": 43,
   "metadata": {
    "ExecuteTime": {
     "end_time": "2018-11-28T12:11:33.310869Z",
     "start_time": "2018-11-28T12:11:33.305777Z"
    }
   },
   "outputs": [
    {
     "data": {
      "text/plain": [
       "2.5672247338393395"
      ]
     },
     "execution_count": 43,
     "metadata": {},
     "output_type": "execute_result"
    }
   ],
   "source": [
    "celsius_mae = 0.29 * std[1]\n",
    "celsius_mae"
   ]
  },
  {
   "cell_type": "markdown",
   "metadata": {},
   "source": [
    "That’s a fairly large average absolute error. Now the game is to use your knowledge of\n",
    "deep learning to do better."
   ]
  },
  {
   "cell_type": "markdown",
   "metadata": {},
   "source": [
    "### Baseline model: Simple Neural Networks\n",
    "\n",
    "In the same way that it’s useful to establish a common-sense baseline before trying machine-learning approaches, it’s useful to try simple, cheap machine-learning models (such as small, densely connected networks) before looking into complicated and computationally expensive models such as RNNs. This is the best way to make sure any\n",
    "further complexity you throw at the problem is legitimate and delivers real benefits. The following listing shows a fully connected model that starts by flattening the data and then runs it through two Dense layers. Note the lack of activation function on the last Dense layer, which is typical for a regression problem. You use MAE as the loss.\n",
    "\n",
    "Because you evaluate on the exact same data and with the exact same metric you did with the common-sense approach, the results will be directly comparable."
   ]
  },
  {
   "cell_type": "code",
   "execution_count": 47,
   "metadata": {
    "ExecuteTime": {
     "end_time": "2018-11-28T12:21:30.417246Z",
     "start_time": "2018-11-28T12:21:30.411326Z"
    }
   },
   "outputs": [
    {
     "data": {
      "text/plain": [
       "98559"
      ]
     },
     "execution_count": 47,
     "metadata": {},
     "output_type": "execute_result"
    }
   ],
   "source": [
    "val_steps"
   ]
  },
  {
   "cell_type": "code",
   "execution_count": 48,
   "metadata": {},
   "outputs": [],
   "source": [
    "from keras.models import Sequential\n",
    "from keras import layers\n",
    "from keras.optimizers import RMSprop\n",
    "\n",
    "model = Sequential()\n",
    "model.add(layers.Flatten(input_shape=(lookback // step, float_data.shape[-1])))\n",
    "model.add(layers.Dense(32, activation='relu'))\n",
    "model.add(layers.Dense(1))"
   ]
  },
  {
   "cell_type": "code",
   "execution_count": 49,
   "metadata": {},
   "outputs": [
    {
     "name": "stdout",
     "output_type": "stream",
     "text": [
      "Model: \"sequential_1\"\n",
      "_________________________________________________________________\n",
      "Layer (type)                 Output Shape              Param #   \n",
      "=================================================================\n",
      "flatten_1 (Flatten)          (None, 3360)              0         \n",
      "_________________________________________________________________\n",
      "dense_2 (Dense)              (None, 32)                107552    \n",
      "_________________________________________________________________\n",
      "dense_3 (Dense)              (None, 1)                 33        \n",
      "=================================================================\n",
      "Total params: 107,585\n",
      "Trainable params: 107,585\n",
      "Non-trainable params: 0\n",
      "_________________________________________________________________\n"
     ]
    }
   ],
   "source": [
    "model.summary()"
   ]
  },
  {
   "cell_type": "code",
   "execution_count": 50,
   "metadata": {
    "ExecuteTime": {
     "end_time": "2018-11-28T12:27:47.752735Z",
     "start_time": "2018-11-28T12:23:39.656970Z"
    }
   },
   "outputs": [
    {
     "name": "stdout",
     "output_type": "stream",
     "text": [
      "WARNING:tensorflow:From <ipython-input-50-709ffd236ce0>:2: Model.fit_generator (from tensorflow.python.keras.engine.training) is deprecated and will be removed in a future version.\n",
      "Instructions for updating:\n",
      "Please use Model.fit, which supports generators.\n",
      "Epoch 1/20\n",
      "500/500 [==============================] - 9s 19ms/step - loss: 1.3114 - val_loss: 0.7576\n",
      "Epoch 2/20\n",
      "500/500 [==============================] - 9s 18ms/step - loss: 0.4414 - val_loss: 0.3404\n",
      "Epoch 3/20\n",
      "500/500 [==============================] - 9s 18ms/step - loss: 0.2924 - val_loss: 0.3262\n",
      "Epoch 4/20\n",
      "500/500 [==============================] - 9s 18ms/step - loss: 0.2658 - val_loss: 0.3140\n",
      "Epoch 5/20\n",
      "500/500 [==============================] - 9s 19ms/step - loss: 0.2523 - val_loss: 0.3085\n",
      "Epoch 6/20\n",
      "500/500 [==============================] - 9s 19ms/step - loss: 0.2458 - val_loss: 0.3189\n",
      "Epoch 7/20\n",
      "500/500 [==============================] - 9s 18ms/step - loss: 0.2387 - val_loss: 0.3327\n",
      "Epoch 8/20\n",
      "500/500 [==============================] - 9s 19ms/step - loss: 0.2337 - val_loss: 0.3105\n",
      "Epoch 9/20\n",
      "500/500 [==============================] - 9s 19ms/step - loss: 0.2263 - val_loss: 0.3286\n",
      "Epoch 10/20\n",
      "500/500 [==============================] - 9s 18ms/step - loss: 0.2232 - val_loss: 0.3160\n",
      "Epoch 11/20\n",
      "500/500 [==============================] - 9s 19ms/step - loss: 0.2192 - val_loss: 0.3354\n",
      "Epoch 12/20\n",
      "500/500 [==============================] - 10s 19ms/step - loss: 0.2159 - val_loss: 0.3266\n",
      "Epoch 13/20\n",
      "500/500 [==============================] - 9s 18ms/step - loss: 0.2145 - val_loss: 0.3752\n",
      "Epoch 14/20\n",
      "500/500 [==============================] - 10s 19ms/step - loss: 0.2111 - val_loss: 0.3416\n",
      "Epoch 15/20\n",
      "500/500 [==============================] - 10s 19ms/step - loss: 0.2097 - val_loss: 0.3347\n",
      "Epoch 16/20\n",
      "500/500 [==============================] - 9s 19ms/step - loss: 0.2074 - val_loss: 0.3307\n",
      "Epoch 17/20\n",
      "500/500 [==============================] - 9s 18ms/step - loss: 0.2052 - val_loss: 0.3430\n",
      "Epoch 18/20\n",
      "500/500 [==============================] - 9s 18ms/step - loss: 0.2022 - val_loss: 0.3359\n",
      "Epoch 19/20\n",
      "500/500 [==============================] - 9s 18ms/step - loss: 0.2029 - val_loss: 0.3465\n",
      "Epoch 20/20\n",
      "500/500 [==============================] - 9s 18ms/step - loss: 0.2010 - val_loss: 0.3558\n"
     ]
    }
   ],
   "source": [
    "model.compile(optimizer=RMSprop(), loss='mae')\n",
    "history = model.fit_generator(train_gen,\n",
    "                              steps_per_epoch=500, #ideally steps_per_epoch = TotalTrainingSamples / TrainingBatchSize\n",
    "                              epochs=20,\n",
    "                              validation_data=val_gen, \n",
    "                              validation_steps=1000) #ideally validation_steps = TotalvalidationSamples / ValidationBatchSize"
   ]
  },
  {
   "cell_type": "markdown",
   "metadata": {},
   "source": [
    "Let’s display the loss curves for validation and training."
   ]
  },
  {
   "cell_type": "code",
   "execution_count": 51,
   "metadata": {
    "ExecuteTime": {
     "end_time": "2018-11-28T12:27:47.875246Z",
     "start_time": "2018-11-28T12:27:47.756660Z"
    }
   },
   "outputs": [
    {
     "data": {
      "image/png": "[encoded data removed]",
      "text/plain": [
       "<Figure size 432x288 with 1 Axes>"
      ]
     },
     "metadata": {
      "needs_background": "light"
     },
     "output_type": "display_data"
    }
   ],
   "source": [
    "import matplotlib.pyplot as plt\n",
    "\n",
    "loss = history.history['loss']\n",
    "val_loss = history.history['val_loss']\n",
    "\n",
    "epochs = range(1, len(loss) + 1)\n",
    "\n",
    "plt.figure()\n",
    "\n",
    "plt.plot(epochs, loss, 'bo', label='Training loss')\n",
    "plt.plot(epochs, val_loss, 'b', label='Validation loss')\n",
    "plt.title('Training and validation loss')\n",
    "plt.legend()\n",
    "\n",
    "plt.show()"
   ]
  },
  {
   "cell_type": "markdown",
   "metadata": {},
   "source": [
    "Some of the validation losses are close to the no-learning baseline, but not reliably. This goes to show the merit of having this baseline in the first place: it turns out to be not easy to outperform. Your common sense contains a lot of valuable information that a machine-learning model doesn’t have access to.\n",
    "\n",
    "You may wonder, if a simple, well-performing model exists to go from the data to the targets (the common-sense baseline), why doesn’t the model you’re training find it and improve on it? Because this simple solution isn’t what your training setup is looking for. The space of models in which you’re searching for a solution—that is, your hypothesis space—is the space of all possible two-layer networks with the configuration\n",
    "you defined. These networks are already fairly complicated. When you’re looking for a solution with a space of complicated models, the simple, well-performing baseline may be unlearnable, even if it’s technically part of the hypothesis space. That is a pretty significant limitation of machine learning in general: unless the learning algorithm is hardcoded to look for a specific kind of simple model, parameter learning can sometimes\n",
    "fail to find a simple solution to a simple problem."
   ]
  },
  {
   "cell_type": "markdown",
   "metadata": {},
   "source": [
    "### STEP 5. RNN network with Gated Recurrent Unit (GRU) "
   ]
  },
  {
   "cell_type": "markdown",
   "metadata": {},
   "source": [
    "The first fully connected approach didn’t do well, but that doesn’t mean machine learning isn’t applicable to this problem. The previous approach first flattened the timeseries, which removed the notion of time from the input data. Let’s instead look at the data as what it is: a sequence, where causality and order matter. You’ll try a\n",
    "recurrent-sequence processing model—it should be the perfect fit for such sequence data, precisely because it exploits the temporal ordering of data points, unlike the first approach.\n",
    "\n",
    "Instead of the LSTM layer introduced in the previous section, you’ll use the GRU layer, developed by Chung et al. in 2014 (comparison using the figure below). 5 Gated recurrent unit (GRU) layers work using the same principle as LSTM, but they’re somewhat streamlined and thus cheaper to run (although they may not have as much representational power as\n",
    "LSTM). This trade-off between computational expensiveness and representational power is seen everywhere in machine learning.  Note the dot in our previous figure is the $\\times$ here.\n",
    "\n",
    "\n",
    "\n",
    "<img src=\"RNN_LSTMvsGRU.jpeg\" width=\"700\">"
   ]
  },
  {
   "cell_type": "markdown",
   "metadata": {},
   "source": [
    "### Training and Evaluating a GRU based model"
   ]
  },
  {
   "cell_type": "code",
   "execution_count": null,
   "metadata": {},
   "outputs": [],
   "source": [
    "float_data.shape\n"
   ]
  },
  {
   "cell_type": "code",
   "execution_count": 56,
   "metadata": {},
   "outputs": [
    {
     "name": "stdout",
     "output_type": "stream",
     "text": [
      "Model: \"sequential_4\"\n",
      "_________________________________________________________________\n",
      "Layer (type)                 Output Shape              Param #   \n",
      "=================================================================\n",
      "lstm_1 (LSTM)                (None, 32)                6016      \n",
      "_________________________________________________________________\n",
      "dense_6 (Dense)              (None, 1)                 33        \n",
      "=================================================================\n",
      "Total params: 6,049\n",
      "Trainable params: 6,049\n",
      "Non-trainable params: 0\n",
      "_________________________________________________________________\n"
     ]
    }
   ],
   "source": [
    "from keras.models import Sequential\n",
    "from keras import layers\n",
    "from keras.optimizers import RMSprop\n",
    "model = Sequential()\n",
    "model.add(layers.LSTM(32, input_shape=(None, float_data.shape[-1])))\n",
    "model.add(layers.Dense(1))\n",
    "model.summary()"
   ]
  },
  {
   "cell_type": "code",
   "execution_count": 60,
   "metadata": {
    "scrolled": true
   },
   "outputs": [
    {
     "name": "stdout",
     "output_type": "stream",
     "text": [
      "Epoch 1/10\n",
      "500/500 [==============================] - 49s 99ms/step - loss: 0.2639 - val_loss: 0.2727\n",
      "Epoch 2/10\n",
      "500/500 [==============================] - 48s 96ms/step - loss: 0.2553 - val_loss: 0.2764\n",
      "Epoch 3/10\n",
      "500/500 [==============================] - 49s 99ms/step - loss: 0.2470 - val_loss: 0.2884\n",
      "Epoch 4/10\n",
      "500/500 [==============================] - 49s 98ms/step - loss: 0.2383 - val_loss: 0.2859\n",
      "Epoch 5/10\n",
      "500/500 [==============================] - 50s 99ms/step - loss: 0.2309 - val_loss: 0.2924\n",
      "Epoch 6/10\n",
      "500/500 [==============================] - 49s 98ms/step - loss: 0.2254 - val_loss: 0.2947\n",
      "Epoch 7/10\n",
      "500/500 [==============================] - 49s 98ms/step - loss: 0.2198 - val_loss: 0.3023\n",
      "Epoch 8/10\n",
      "500/500 [==============================] - 48s 97ms/step - loss: 0.2151 - val_loss: 0.2987\n",
      "Epoch 9/10\n",
      "500/500 [==============================] - 49s 98ms/step - loss: 0.2100 - val_loss: 0.3009\n",
      "Epoch 10/10\n",
      "500/500 [==============================] - 51s 101ms/step - loss: 0.2043 - val_loss: 0.3132\n"
     ]
    }
   ],
   "source": [
    "model.compile(optimizer=RMSprop(), loss='mae')\n",
    "history = model.fit_generator(train_gen,\n",
    "                                steps_per_epoch=500,\n",
    "                                epochs=10,\n",
    "                                validation_data=val_gen,\n",
    "                                validation_steps=1000)"
   ]
  },
  {
   "cell_type": "markdown",
   "metadata": {},
   "source": [
    "### Here is now a GRU implementation"
   ]
  },
  {
   "cell_type": "code",
   "execution_count": 61,
   "metadata": {},
   "outputs": [],
   "source": [
    "from keras.models import Sequential\n",
    "from keras import layers\n",
    "from keras.optimizers import RMSprop\n",
    "model = Sequential()\n",
    "model.add(layers.GRU(32, input_shape=(None, float_data.shape[-1])))\n",
    "model.add(layers.Dense(1))"
   ]
  },
  {
   "cell_type": "code",
   "execution_count": 62,
   "metadata": {},
   "outputs": [
    {
     "name": "stdout",
     "output_type": "stream",
     "text": [
      "Model: \"sequential_5\"\n",
      "_________________________________________________________________\n",
      "Layer (type)                 Output Shape              Param #   \n",
      "=================================================================\n",
      "gru_1 (GRU)                  (None, 32)                4608      \n",
      "_________________________________________________________________\n",
      "dense_7 (Dense)              (None, 1)                 33        \n",
      "=================================================================\n",
      "Total params: 4,641\n",
      "Trainable params: 4,641\n",
      "Non-trainable params: 0\n",
      "_________________________________________________________________\n"
     ]
    }
   ],
   "source": [
    "model.summary()"
   ]
  },
  {
   "cell_type": "code",
   "execution_count": 63,
   "metadata": {
    "ExecuteTime": {
     "end_time": "2018-11-28T13:26:33.999877Z",
     "start_time": "2018-11-28T12:29:45.119140Z"
    }
   },
   "outputs": [
    {
     "name": "stdout",
     "output_type": "stream",
     "text": [
      "Epoch 1/10\n",
      "500/500 [==============================] - 48s 97ms/step - loss: 0.2997 - val_loss: 0.2686\n",
      "Epoch 2/10\n",
      "500/500 [==============================] - 48s 96ms/step - loss: 0.2849 - val_loss: 0.2743\n",
      "Epoch 3/10\n",
      "500/500 [==============================] - 48s 96ms/step - loss: 0.2763 - val_loss: 0.2641\n",
      "Epoch 4/10\n",
      "500/500 [==============================] - 48s 96ms/step - loss: 0.2705 - val_loss: 0.2677\n",
      "Epoch 5/10\n",
      "500/500 [==============================] - 47s 95ms/step - loss: 0.2650 - val_loss: 0.2627\n",
      "Epoch 6/10\n",
      "500/500 [==============================] - 47s 94ms/step - loss: 0.2606 - val_loss: 0.2641\n",
      "Epoch 7/10\n",
      "500/500 [==============================] - 47s 93ms/step - loss: 0.2573 - val_loss: 0.2683\n",
      "Epoch 8/10\n",
      "500/500 [==============================] - 47s 94ms/step - loss: 0.2515 - val_loss: 0.2583\n",
      "Epoch 9/10\n",
      "500/500 [==============================] - 47s 93ms/step - loss: 0.2471 - val_loss: 0.2735\n",
      "Epoch 10/10\n",
      "500/500 [==============================] - 46s 93ms/step - loss: 0.2436 - val_loss: 0.2766\n"
     ]
    }
   ],
   "source": [
    "model.compile(optimizer=RMSprop(), loss='mae')\n",
    "history = model.fit_generator(train_gen,\n",
    "                                steps_per_epoch=500,\n",
    "                                epochs=10,\n",
    "                                validation_data=val_gen,\n",
    "                                validation_steps=1000)"
   ]
  },
  {
   "cell_type": "code",
   "execution_count": 64,
   "metadata": {},
   "outputs": [
    {
     "name": "stdout",
     "output_type": "stream",
     "text": [
      "Model: \"sequential_5\"\n",
      "_________________________________________________________________\n",
      "Layer (type)                 Output Shape              Param #   \n",
      "=================================================================\n",
      "gru_1 (GRU)                  (None, 32)                4608      \n",
      "_________________________________________________________________\n",
      "dense_7 (Dense)              (None, 1)                 33        \n",
      "=================================================================\n",
      "Total params: 4,641\n",
      "Trainable params: 4,641\n",
      "Non-trainable params: 0\n",
      "_________________________________________________________________\n"
     ]
    }
   ],
   "source": [
    "model.summary()"
   ]
  },
  {
   "cell_type": "markdown",
   "metadata": {},
   "source": [
    "Plot below shows the results. Much better! The new validation MAE of ~0.258 (before you start significantly overfitting) translates to a mean absolute error of 2.35°C after denormalization. That’s a solid gain on the initial error of 2.57°C. You can significantly beat the commonsense baseline, demonstrating the value of machine learning as well as the superiority of recurrent networks compared to sequence-flattening dense networks on this type of task.\n",
    "\n",
    "BUT you probably still have a bit of a margin for improvement."
   ]
  },
  {
   "cell_type": "code",
   "execution_count": 65,
   "metadata": {
    "ExecuteTime": {
     "end_time": "2018-11-28T13:26:34.109656Z",
     "start_time": "2018-11-28T13:26:34.003805Z"
    }
   },
   "outputs": [
    {
     "data": {
      "image/png": "[encoded data removed]",
      "text/plain": [
       "<Figure size 432x288 with 1 Axes>"
      ]
     },
     "metadata": {
      "needs_background": "light"
     },
     "output_type": "display_data"
    }
   ],
   "source": [
    "import matplotlib.pyplot as plt\n",
    "\n",
    "loss = history.history['loss']\n",
    "val_loss = history.history['val_loss']\n",
    "\n",
    "epochs = range(1, len(loss) + 1)\n",
    "\n",
    "plt.figure()\n",
    "\n",
    "plt.plot(epochs, loss, 'bo', label='Training loss')\n",
    "plt.plot(epochs, val_loss, 'b', label='Validation loss')\n",
    "plt.title('Training and validation loss')\n",
    "plt.legend()\n",
    "\n",
    "plt.show()"
   ]
  },
  {
   "cell_type": "markdown",
   "metadata": {},
   "source": [
    "### STEP 6. Using recurrent dropout to fight overfitting\n",
    "\n",
    "It’s evident from the training and validation curves that the model is overfitting: the training and validation losses start to diverge considerably after a few epochs. You’re already familiar with a classic technique for fighting this phenomenon: dropout, which randomly zeros out input units of a layer in order to break incidental correlations in the training data that the layer is exposed to. But how to correctly apply dropout in recurrent networks isn’t a trivial question. It has long been known that applying dropout before a recurrent layer hinders learning rather than helping with regularization. In 2015, Yarin Gal, as part of his PhD thesis on Bayesian deep learning, determined the proper way to use dropout with a recurrent network: the same dropout mask (the same pattern of dropped units) should be applied at every timestep, instead of a dropout mask that varies randomly from timestep to timestep.\n",
    "\n",
    "What’s more, in order to regularize the representations formed by the recurrent gates of layers such as GRU and LSTM, a temporally constant dropout mask should be applied to the inner recurrent activations of the layer (a recurrent dropout mask). Using the same dropout mask at every timestep allows the network to properly propagate its learning error through time; a temporally random dropout mask would disrupt this error signal and be harmful to the learning process.\n",
    "\n",
    "Yarin Gal did his research using Keras and helped build this mechanism directly into Keras recurrent layers (see Figure 1 below from https://becominghuman.ai/learning-note-dropout-in-recurrent-networks-part-1-57a9c19a2307). Every recurrent layer in Keras has two dropout-related arguments: dropout, a float specifying the dropout rate for input units of the layer, and recurrent_dropout, specifying the dropout rate of the recurrent units. Let’s add\n",
    "dropout and recurrent dropout to the GRU layer and see how doing so impacts overfitting. Because networks being regularized with dropout always take longer to fully converge, you’ll train the network for twice as many epochs.\n",
    "\n",
    "\n",
    "<img src=\"dropouts.png\" width=\"700\">"
   ]
  },
  {
   "cell_type": "code",
   "execution_count": 66,
   "metadata": {},
   "outputs": [],
   "source": [
    "from keras.models import Sequential\n",
    "from keras import layers\n",
    "from keras.optimizers import RMSprop\n",
    "\n",
    "model = Sequential()\n",
    "model.add(layers.GRU(32,\n",
    "                    dropout=0.2,\n",
    "                    recurrent_dropout=0.2,\n",
    "                    input_shape=(None, float_data.shape[-1])))\n",
    "model.add(layers.Dense(1))"
   ]
  },
  {
   "cell_type": "code",
   "execution_count": 67,
   "metadata": {},
   "outputs": [
    {
     "name": "stdout",
     "output_type": "stream",
     "text": [
      "Model: \"sequential_6\"\n",
      "_________________________________________________________________\n",
      "Layer (type)                 Output Shape              Param #   \n",
      "=================================================================\n",
      "gru_2 (GRU)                  (None, 32)                4608      \n",
      "_________________________________________________________________\n",
      "dense_8 (Dense)              (None, 1)                 33        \n",
      "=================================================================\n",
      "Total params: 4,641\n",
      "Trainable params: 4,641\n",
      "Non-trainable params: 0\n",
      "_________________________________________________________________\n"
     ]
    }
   ],
   "source": [
    "model.summary()"
   ]
  },
  {
   "cell_type": "code",
   "execution_count": 101,
   "metadata": {
    "ExecuteTime": {
     "end_time": "2018-11-28T15:38:54.955832Z",
     "start_time": "2018-11-28T13:26:34.111553Z"
    }
   },
   "outputs": [
    {
     "name": "stdout",
     "output_type": "stream",
     "text": [
      "Epoch 1/40\n",
      "500/500 [==============================] - 81s 161ms/step - loss: 0.3280 - val_loss: 0.2798\n",
      "Epoch 2/40\n",
      "500/500 [==============================] - 80s 161ms/step - loss: 0.3067 - val_loss: 0.2802\n",
      "Epoch 3/40\n",
      "500/500 [==============================] - 80s 160ms/step - loss: 0.2996 - val_loss: 0.2960\n",
      "Epoch 4/40\n",
      "500/500 [==============================] - 80s 160ms/step - loss: 0.2941 - val_loss: 0.2684\n",
      "Epoch 5/40\n",
      "500/500 [==============================] - 80s 160ms/step - loss: 0.2903 - val_loss: 0.2694\n",
      "Epoch 6/40\n",
      "500/500 [==============================] - 80s 160ms/step - loss: 0.2878 - val_loss: 0.2708\n",
      "Epoch 7/40\n",
      "500/500 [==============================] - 80s 159ms/step - loss: 0.2813 - val_loss: 0.2697\n",
      "Epoch 8/40\n",
      "500/500 [==============================] - 80s 159ms/step - loss: 0.2779 - val_loss: 0.2666\n",
      "Epoch 9/40\n",
      "500/500 [==============================] - 80s 159ms/step - loss: 0.2736 - val_loss: 0.2712\n",
      "Epoch 10/40\n",
      "500/500 [==============================] - 80s 160ms/step - loss: 0.2706 - val_loss: 0.2781\n",
      "Epoch 11/40\n",
      "500/500 [==============================] - 80s 160ms/step - loss: 0.2675 - val_loss: 0.2635\n",
      "Epoch 12/40\n",
      "500/500 [==============================] - 80s 161ms/step - loss: 0.2646 - val_loss: 0.2718\n",
      "Epoch 13/40\n",
      "500/500 [==============================] - 81s 161ms/step - loss: 0.2618 - val_loss: 0.2781\n",
      "Epoch 14/40\n",
      "500/500 [==============================] - 81s 162ms/step - loss: 0.2597 - val_loss: 0.2737\n",
      "Epoch 15/40\n",
      "500/500 [==============================] - 81s 162ms/step - loss: 0.2578 - val_loss: 0.2767\n",
      "Epoch 16/40\n",
      "500/500 [==============================] - 81s 162ms/step - loss: 0.2567 - val_loss: 0.2813\n",
      "Epoch 17/40\n",
      "500/500 [==============================] - 81s 163ms/step - loss: 0.2552 - val_loss: 0.2730\n",
      "Epoch 18/40\n",
      "500/500 [==============================] - 81s 162ms/step - loss: 0.2536 - val_loss: 0.2811\n",
      "Epoch 19/40\n",
      "500/500 [==============================] - 81s 162ms/step - loss: 0.2505 - val_loss: 0.2826\n",
      "Epoch 20/40\n",
      "500/500 [==============================] - 81s 162ms/step - loss: 0.2505 - val_loss: 0.2910\n",
      "Epoch 21/40\n",
      "500/500 [==============================] - 81s 162ms/step - loss: 0.2498 - val_loss: 0.2976\n",
      "Epoch 22/40\n",
      "500/500 [==============================] - 81s 162ms/step - loss: 0.2470 - val_loss: 0.2847\n",
      "Epoch 23/40\n",
      "500/500 [==============================] - 81s 162ms/step - loss: 0.2443 - val_loss: 0.2941\n",
      "Epoch 24/40\n",
      "500/500 [==============================] - 81s 161ms/step - loss: 0.2445 - val_loss: 0.2831\n",
      "Epoch 25/40\n",
      "500/500 [==============================] - 81s 163ms/step - loss: 0.2430 - val_loss: 0.2944\n",
      "Epoch 26/40\n",
      "500/500 [==============================] - 83s 165ms/step - loss: 0.2405 - val_loss: 0.2976\n",
      "Epoch 27/40\n",
      "500/500 [==============================] - 83s 167ms/step - loss: 0.2380 - val_loss: 0.2910\n",
      "Epoch 28/40\n",
      "500/500 [==============================] - 83s 166ms/step - loss: 0.2391 - val_loss: 0.2970\n",
      "Epoch 29/40\n",
      "500/500 [==============================] - 84s 168ms/step - loss: 0.2366 - val_loss: 0.2907\n",
      "Epoch 30/40\n",
      "500/500 [==============================] - 83s 166ms/step - loss: 0.2350 - val_loss: 0.2956\n",
      "Epoch 31/40\n",
      "500/500 [==============================] - 84s 168ms/step - loss: 0.2344 - val_loss: 0.3068\n",
      "Epoch 32/40\n",
      "500/500 [==============================] - 84s 168ms/step - loss: 0.2342 - val_loss: 0.2934\n",
      "Epoch 33/40\n",
      "500/500 [==============================] - 83s 166ms/step - loss: 0.2328 - val_loss: 0.3146\n",
      "Epoch 34/40\n",
      "500/500 [==============================] - 84s 169ms/step - loss: 0.2318 - val_loss: 0.3012\n",
      "Epoch 35/40\n",
      "500/500 [==============================] - 83s 166ms/step - loss: 0.2301 - val_loss: 0.3057\n",
      "Epoch 36/40\n",
      "500/500 [==============================] - 82s 163ms/step - loss: 0.2294 - val_loss: 0.3098\n",
      "Epoch 37/40\n",
      "500/500 [==============================] - 82s 164ms/step - loss: 0.2287 - val_loss: 0.3015\n",
      "Epoch 38/40\n",
      "500/500 [==============================] - 81s 162ms/step - loss: 0.2256 - val_loss: 0.3057\n",
      "Epoch 39/40\n",
      "500/500 [==============================] - 84s 168ms/step - loss: 0.2261 - val_loss: 0.3080\n",
      "Epoch 40/40\n",
      "500/500 [==============================] - 85s 169ms/step - loss: 0.2257 - val_loss: 0.3119\n"
     ]
    }
   ],
   "source": [
    "# Training and evaluating a dropout-regularized GRU-based model\n",
    "\n",
    "from keras.models import Sequential\n",
    "from keras import layers\n",
    "from keras.optimizers import RMSprop\n",
    "\n",
    "model = Sequential()\n",
    "model.add(layers.GRU(32,\n",
    "                    dropout=0.2,\n",
    "                    recurrent_dropout=0.2,\n",
    "                    input_shape=(None, float_data.shape[-1])))\n",
    "model.add(layers.Dense(1))\n",
    "\n",
    "model.compile(optimizer=RMSprop(), loss='mae')\n",
    "history = model.fit_generator(train_gen,\n",
    "                            steps_per_epoch=500,\n",
    "                            epochs=40,\n",
    "                            validation_data=val_gen,\n",
    "                            validation_steps=1000)"
   ]
  },
  {
   "cell_type": "markdown",
   "metadata": {},
   "source": [
    "Figure below shows the results. You’re no longer overfitting during the first 10-11 epochs but your best scores aren’t too different they were previously."
   ]
  },
  {
   "cell_type": "code",
   "execution_count": 102,
   "metadata": {
    "ExecuteTime": {
     "end_time": "2018-11-28T15:38:55.070986Z",
     "start_time": "2018-11-28T15:38:54.959837Z"
    }
   },
   "outputs": [
    {
     "data": {
      "image/png": "[encoded data removed]",
      "text/plain": [
       "<Figure size 432x288 with 1 Axes>"
      ]
     },
     "metadata": {
      "needs_background": "light"
     },
     "output_type": "display_data"
    }
   ],
   "source": [
    "import matplotlib.pyplot as plt\n",
    "\n",
    "loss = history.history['loss']\n",
    "val_loss = history.history['val_loss']\n",
    "\n",
    "epochs = range(1, len(loss) + 1)\n",
    "\n",
    "plt.figure()\n",
    "\n",
    "plt.plot(epochs, loss, 'bo', label='Training loss')\n",
    "plt.plot(epochs, val_loss, 'b', label='Validation loss')\n",
    "plt.title('Training and validation loss')\n",
    "plt.legend()\n",
    "\n",
    "plt.show()"
   ]
  },
  {
   "cell_type": "markdown",
   "metadata": {},
   "source": [
    "### Step 7. Stacking recurrent layers\n",
    "\n",
    "Because you’re no longer overfitting but seem to have hit a performance bottleneck, you should consider increasing the capacity of the network. Recall the description of the universal machine-learning workflow: it’s generally a good idea to increase the capacity of your network until overfitting becomes the primary obstacle (assuming you’re already taking basic steps to mitigate overfitting, such as using dropout). As long as you aren’t overfitting too badly, you’re likely under capacity.    \n",
    "\n",
    "Increasing network capacity is typically done by increasing the number of units in the layers or adding more layers. Recurrent layer stacking is a classic way to build more-powerful recurrent networks: for instance, what currently powers the Google to translate algorithm is a stack of seven large LSTM layers—that’s huge.   \n",
    "\n",
    "To stack recurrent layers on top of each other in Keras, all intermediate layers should return their full sequence of outputs (a 3D tensor) rather than their output at the last timestep. This is done by specifying return_sequences=True."
   ]
  },
  {
   "cell_type": "code",
   "execution_count": 70,
   "metadata": {},
   "outputs": [],
   "source": [
    "from keras.models import Sequential\n",
    "from keras import layers\n",
    "from keras.optimizers import RMSprop\n",
    "\n",
    "model = Sequential()\n",
    "model.add(layers.GRU(32,\n",
    "                    dropout=0.1,\n",
    "                    recurrent_dropout=0.5,\n",
    "                    return_sequences=True,\n",
    "                    input_shape=(None, float_data.shape[-1])))\n",
    "model.add(layers.GRU(64, activation='relu',\n",
    "                    dropout=0.1,\n",
    "                    recurrent_dropout=0.5))\n",
    "model.add(layers.Dense(1))"
   ]
  },
  {
   "cell_type": "code",
   "execution_count": 71,
   "metadata": {},
   "outputs": [
    {
     "name": "stdout",
     "output_type": "stream",
     "text": [
      "Model: \"sequential_8\"\n",
      "_________________________________________________________________\n",
      "Layer (type)                 Output Shape              Param #   \n",
      "=================================================================\n",
      "gru_4 (GRU)                  (None, None, 32)          4608      \n",
      "_________________________________________________________________\n",
      "gru_5 (GRU)                  (None, 64)                18816     \n",
      "_________________________________________________________________\n",
      "dense_10 (Dense)             (None, 1)                 65        \n",
      "=================================================================\n",
      "Total params: 23,489\n",
      "Trainable params: 23,489\n",
      "Non-trainable params: 0\n",
      "_________________________________________________________________\n"
     ]
    }
   ],
   "source": [
    "model.summary()"
   ]
  },
  {
   "cell_type": "code",
   "execution_count": 72,
   "metadata": {
    "ExecuteTime": {
     "end_time": "2018-11-28T18:08:10.347994Z",
     "start_time": "2018-11-28T15:55:32.698683Z"
    }
   },
   "outputs": [
    {
     "name": "stdout",
     "output_type": "stream",
     "text": [
      "Epoch 1/20\n",
      "500/500 [==============================] - 181s 361ms/step - loss: 0.3178 - val_loss: 0.2765\n",
      "Epoch 2/20\n",
      "500/500 [==============================] - 178s 357ms/step - loss: 0.3014 - val_loss: 0.2703\n",
      "Epoch 3/20\n",
      "500/500 [==============================] - 179s 357ms/step - loss: 0.2950 - val_loss: 0.2768\n",
      "Epoch 4/20\n",
      "500/500 [==============================] - 178s 357ms/step - loss: 0.2892 - val_loss: 0.2680\n",
      "Epoch 5/20\n",
      "500/500 [==============================] - 178s 356ms/step - loss: 0.2801 - val_loss: 0.2702\n",
      "Epoch 6/20\n",
      "500/500 [==============================] - 178s 356ms/step - loss: 0.2756 - val_loss: 0.2894\n",
      "Epoch 7/20\n",
      "500/500 [==============================] - 178s 356ms/step - loss: 0.2700 - val_loss: 0.2839\n",
      "Epoch 8/20\n",
      "500/500 [==============================] - 178s 356ms/step - loss: 0.2655 - val_loss: 0.2714\n",
      "Epoch 9/20\n",
      "500/500 [==============================] - 178s 355ms/step - loss: 0.2612 - val_loss: 0.2820\n",
      "Epoch 10/20\n",
      "500/500 [==============================] - 178s 355ms/step - loss: 0.2559 - val_loss: 0.2819\n",
      "Epoch 11/20\n",
      "500/500 [==============================] - 177s 355ms/step - loss: 0.2514 - val_loss: 0.2824\n",
      "Epoch 12/20\n",
      "500/500 [==============================] - 177s 355ms/step - loss: 0.2497 - val_loss: 0.2764\n",
      "Epoch 13/20\n",
      "500/500 [==============================] - 177s 355ms/step - loss: 0.2459 - val_loss: 0.2886\n",
      "Epoch 14/20\n",
      "500/500 [==============================] - 177s 354ms/step - loss: 0.2407 - val_loss: 0.2831\n",
      "Epoch 15/20\n",
      "500/500 [==============================] - 178s 355ms/step - loss: 0.2382 - val_loss: 0.2929\n",
      "Epoch 16/20\n",
      "500/500 [==============================] - 178s 355ms/step - loss: 0.2340 - val_loss: 0.3031\n",
      "Epoch 17/20\n",
      "500/500 [==============================] - 178s 355ms/step - loss: 0.2307 - val_loss: 0.3005\n",
      "Epoch 18/20\n",
      "500/500 [==============================] - 177s 355ms/step - loss: 0.2279 - val_loss: 0.3082\n",
      "Epoch 19/20\n",
      "500/500 [==============================] - 177s 355ms/step - loss: 0.2240 - val_loss: 0.3164\n",
      "Epoch 20/20\n",
      "500/500 [==============================] - 178s 356ms/step - loss: 0.2212 - val_loss: 0.3193\n"
     ]
    }
   ],
   "source": [
    "from keras.models import Sequential\n",
    "from keras import layers\n",
    "from keras.optimizers import RMSprop\n",
    "\n",
    "model = Sequential()\n",
    "model.add(layers.GRU(32,\n",
    "                    dropout=0.1,\n",
    "                    recurrent_dropout=0.5,\n",
    "                    return_sequences=True,\n",
    "                    input_shape=(None, float_data.shape[-1])))\n",
    "model.add(layers.GRU(64, activation='relu',\n",
    "                    dropout=0.1,\n",
    "                    recurrent_dropout=0.5))\n",
    "model.add(layers.Dense(1))\n",
    "model.compile(optimizer=RMSprop(), loss='mae')\n",
    "history = model.fit_generator(train_gen,\n",
    "                    steps_per_epoch=500,\n",
    "                    epochs=20,\n",
    "                    validation_data=val_gen,\n",
    "                    validation_steps=1000)"
   ]
  },
  {
   "cell_type": "markdown",
   "metadata": {},
   "source": [
    "Figure below shows the results. You can see that the added layer does improve the results a bit, though not significantly. You can draw two conclusions:   \n",
    "\n",
    " Because you’re still not overfitting too badly, you could safely increase the size of your layers in a quest for validation-loss improvement. This has a non-negligible computational cost, though.   \n",
    "\n",
    " Adding a layer didn’t help by a significant factor, so you may be seeing diminishing returns from increasing network capacity at this point.    "
   ]
  },
  {
   "cell_type": "code",
   "execution_count": 73,
   "metadata": {
    "ExecuteTime": {
     "end_time": "2018-11-28T18:08:10.468130Z",
     "start_time": "2018-11-28T18:08:10.352142Z"
    }
   },
   "outputs": [
    {
     "data": {
      "image/png": "[encoded data removed]",
      "text/plain": [
       "<Figure size 432x288 with 1 Axes>"
      ]
     },
     "metadata": {
      "needs_background": "light"
     },
     "output_type": "display_data"
    }
   ],
   "source": [
    "import matplotlib.pyplot as plt\n",
    "\n",
    "loss = history.history['loss']\n",
    "val_loss = history.history['val_loss']\n",
    "\n",
    "epochs = range(1, len(loss) + 1)\n",
    "\n",
    "plt.figure()\n",
    "\n",
    "plt.plot(epochs, loss, 'bo', label='Training loss')\n",
    "plt.plot(epochs, val_loss, 'b', label='Validation loss')\n",
    "plt.title('Training and validation loss')\n",
    "plt.legend()\n",
    "\n",
    "plt.show()"
   ]
  },
  {
   "cell_type": "markdown",
   "metadata": {},
   "source": [
    "### Step 8. Never Stop Dreaming! Going even further!\n",
    "\n",
    "There are many other things you could try, in order to improve performance on the temperature-forecasting problem:\n",
    "\n",
    " Adjust the number of units in each recurrent layer in the stacked setup. The current choices are largely arbitrary and thus probably suboptimal.    \n",
    "  \n",
    " Adjust the learning rate used by the RMSprop optimizer.    \n",
    "  \n",
    " Try using LSTM layer then a GRU layer then an LSTM layer again?    \n",
    "  \n",
    " Try using a bigger densely connected regressor on top of the recurrent layers: that is, a bigger Dense layer or even a stack of Dense layers.    \n",
    "  \n",
    " Don’t forget to eventually run the best-performing models (in terms of validation MAE) on the test set! Otherwise, you’ll develop architectures that are overfitting to the validation set. \n",
    "\n",
    "\n",
    "Deep learning right now is more an art than a science. We can provide guidelines that suggest what is likely to work or not work on a given problem, but, ultimately, every problem is unique; you’ll have to evaluate different strategies empirically. There is currently no theory that will tell you in advance precisely what you should do to optimally solve a problem. You must iterate."
   ]
  },
  {
   "cell_type": "markdown",
   "metadata": {},
   "source": [
    "### Main Lessons\n",
    "\n",
    "Here’s what you should take away:\n",
    "\n",
    " When approaching a new problem, it’s good to first establish common-sense baselines for your metric of choice. If you don’t have a baseline to beat, you can’t tell whether you’re making real progress.   \n",
    "\n",
    " Try simple models before expensive ones, to justify the additional expense. Sometimes a simple model will turn out to be your best option.    \n",
    "\n",
    " When you have data where temporal ordering matters, recurrent networks are a great fit and easily outperform models that first flatten the temporal data.    \n",
    "\n",
    " To use dropout with recurrent networks, you should use a time-constant dropout mask and recurrent dropout mask. These are built into Keras recurrent layers, so all you have to do is use the dropout and recurrent_dropout arguments of recurrent layers.      \n",
    "\n",
    " Stacked RNNs provide more representational power than a single RNN layer. They’re also much more expensive and thus not always worth it. Although they offer clear gains on complex problems (such as machine translation), they may not always be relevant to smaller, simpler problems.  \n",
    "\n"
   ]
  },
  {
   "cell_type": "markdown",
   "metadata": {},
   "source": [
    "## Appendix 1. Checkpoint for validation\n",
    "\n",
    "https://machinelearningmastery.com/check-point-deep-learning-models-keras/\n",
    "\n",
    "A good use of checkpointing is to output the model weights each time an improvement is observed during training.\n",
    "\n",
    "The example below creates a small neural network for the Pima Indians onset of diabetes binary classification problem. The example assume that the pima-indians-diabetes.csv file is in your working directory. You can download this dataset from the UCI machine learning repository (update: download from here). The example uses 33% of the data for validation.\n",
    "\n",
    "Checkpointing is setup to save the network weights only when there is an improvement in classification accuracy on the validation dataset (monitor=’val_acc’ and mode=’max’). \n",
    "\n",
    "**The weights are stored in a file that includes the score in the filename (weights-improvement-{val_acc=.2f}.hdf5).**"
   ]
  },
  {
   "cell_type": "code",
   "execution_count": 74,
   "metadata": {
    "ExecuteTime": {
     "end_time": "2018-11-28T23:13:35.700049Z",
     "start_time": "2018-11-28T23:12:52.195282Z"
    }
   },
   "outputs": [
    {
     "name": "stdout",
     "output_type": "stream",
     "text": [
      "\n",
      "Epoch 00001: val_accuracy improved from -inf to 0.67323, saving model to weights-improvement-01-0.67.hdf5\n",
      "\n",
      "Epoch 00002: val_accuracy did not improve from 0.67323\n",
      "\n",
      "Epoch 00003: val_accuracy did not improve from 0.67323\n",
      "\n",
      "Epoch 00004: val_accuracy did not improve from 0.67323\n",
      "\n",
      "Epoch 00005: val_accuracy improved from 0.67323 to 0.67717, saving model to weights-improvement-05-0.68.hdf5\n",
      "\n",
      "Epoch 00006: val_accuracy improved from 0.67717 to 0.68110, saving model to weights-improvement-06-0.68.hdf5\n",
      "\n",
      "Epoch 00007: val_accuracy improved from 0.68110 to 0.69685, saving model to weights-improvement-07-0.70.hdf5\n",
      "\n",
      "Epoch 00008: val_accuracy improved from 0.69685 to 0.70079, saving model to weights-improvement-08-0.70.hdf5\n",
      "\n",
      "Epoch 00009: val_accuracy did not improve from 0.70079\n",
      "\n",
      "Epoch 00010: val_accuracy did not improve from 0.70079\n",
      "\n",
      "Epoch 00011: val_accuracy did not improve from 0.70079\n",
      "\n",
      "Epoch 00012: val_accuracy did not improve from 0.70079\n",
      "\n",
      "Epoch 00013: val_accuracy did not improve from 0.70079\n",
      "\n",
      "Epoch 00014: val_accuracy did not improve from 0.70079\n",
      "\n",
      "Epoch 00015: val_accuracy did not improve from 0.70079\n",
      "\n",
      "Epoch 00016: val_accuracy improved from 0.70079 to 0.70472, saving model to weights-improvement-16-0.70.hdf5\n",
      "\n",
      "Epoch 00017: val_accuracy did not improve from 0.70472\n",
      "\n",
      "Epoch 00018: val_accuracy did not improve from 0.70472\n",
      "\n",
      "Epoch 00019: val_accuracy improved from 0.70472 to 0.70866, saving model to weights-improvement-19-0.71.hdf5\n",
      "\n",
      "Epoch 00020: val_accuracy did not improve from 0.70866\n"
     ]
    },
    {
     "data": {
      "text/plain": [
       "<tensorflow.python.keras.callbacks.History at 0x7fd0e127fc40>"
      ]
     },
     "execution_count": 74,
     "metadata": {},
     "output_type": "execute_result"
    }
   ],
   "source": [
    "# Checkpoint the weights when validation accuracy improves\n",
    "from keras.models import Sequential\n",
    "from keras.layers import Dense\n",
    "from keras.callbacks import ModelCheckpoint\n",
    "import matplotlib.pyplot as plt\n",
    "import numpy\n",
    "\n",
    "# fix random seed for reproducibility\n",
    "seed = 7\n",
    "numpy.random.seed(seed)\n",
    "\n",
    "# load pima indians dataset\n",
    "dataset = numpy.loadtxt(\"pima-indians-diabetes.data.csv\", delimiter=\",\")\n",
    "\n",
    "# split into input (X) and output (Y) variables\n",
    "X = dataset[:,0:8]\n",
    "Y = dataset[:,8]\n",
    "\n",
    "# create model\n",
    "model = Sequential()\n",
    "model.add(Dense(12, input_dim=8, kernel_initializer='uniform', activation='relu'))\n",
    "model.add(Dense(8, kernel_initializer='uniform', activation='relu'))\n",
    "model.add(Dense(1, kernel_initializer='uniform', activation='sigmoid'))\n",
    "# Compile model\n",
    "model.compile(loss='binary_crossentropy', optimizer='adam', metrics=['accuracy'])\n",
    "# checkpoint\n",
    "\n",
    "filepath=\"weights-improvement-{epoch:02d}-{val_accuracy:.2f}.hdf5\" #Save the Improve model here\n",
    "checkpoint = ModelCheckpoint(filepath, monitor='val_accuracy', verbose=1, save_best_only=True, mode='max')\n",
    "callbacks_list = [checkpoint]\n",
    "\n",
    "# Fit the model\n",
    "model.fit(X, Y, validation_split=0.33, epochs=20, batch_size=10, callbacks=callbacks_list, verbose=0)"
   ]
  },
  {
   "cell_type": "markdown",
   "metadata": {},
   "source": [
    "### Checkpoint Best Neural Network Model Only\n",
    "\n",
    "A simpler check-point strategy is to save the model weights to the same file, if and only if the validation accuracy improves. This can be done easily using the same code from above and changing the output filename to be fixed (not include score or epoch information).\n",
    "\n",
    "In this case, model weights are written to the file “weights.best.hdf5” only if the classification accuracy of the model on the validation dataset improves over the best seen so far."
   ]
  },
  {
   "cell_type": "code",
   "execution_count": 75,
   "metadata": {
    "ExecuteTime": {
     "end_time": "2018-11-28T23:19:05.940105Z",
     "start_time": "2018-11-28T23:18:21.759063Z"
    }
   },
   "outputs": [
    {
     "name": "stdout",
     "output_type": "stream",
     "text": [
      "\n",
      "Epoch 00001: val_accuracy improved from -inf to 0.67323, saving model to weights.best.hdf5\n",
      "\n",
      "Epoch 00002: val_accuracy did not improve from 0.67323\n",
      "\n",
      "Epoch 00003: val_accuracy did not improve from 0.67323\n",
      "\n",
      "Epoch 00004: val_accuracy improved from 0.67323 to 0.68898, saving model to weights.best.hdf5\n",
      "\n",
      "Epoch 00005: val_accuracy did not improve from 0.68898\n",
      "\n",
      "Epoch 00006: val_accuracy did not improve from 0.68898\n",
      "\n",
      "Epoch 00007: val_accuracy did not improve from 0.68898\n",
      "\n",
      "Epoch 00008: val_accuracy did not improve from 0.68898\n",
      "\n",
      "Epoch 00009: val_accuracy did not improve from 0.68898\n",
      "\n",
      "Epoch 00010: val_accuracy improved from 0.68898 to 0.69291, saving model to weights.best.hdf5\n",
      "\n",
      "Epoch 00011: val_accuracy did not improve from 0.69291\n",
      "\n",
      "Epoch 00012: val_accuracy did not improve from 0.69291\n",
      "\n",
      "Epoch 00013: val_accuracy did not improve from 0.69291\n",
      "\n",
      "Epoch 00014: val_accuracy did not improve from 0.69291\n",
      "\n",
      "Epoch 00015: val_accuracy did not improve from 0.69291\n",
      "\n",
      "Epoch 00016: val_accuracy did not improve from 0.69291\n",
      "\n",
      "Epoch 00017: val_accuracy did not improve from 0.69291\n",
      "\n",
      "Epoch 00018: val_accuracy did not improve from 0.69291\n",
      "\n",
      "Epoch 00019: val_accuracy did not improve from 0.69291\n",
      "\n",
      "Epoch 00020: val_accuracy did not improve from 0.69291\n"
     ]
    },
    {
     "data": {
      "text/plain": [
       "<tensorflow.python.keras.callbacks.History at 0x7fd1b450ebe0>"
      ]
     },
     "execution_count": 75,
     "metadata": {},
     "output_type": "execute_result"
    }
   ],
   "source": [
    "# Checkpoint the weights for best model on validation accuracy\n",
    "from keras.models import Sequential\n",
    "from keras.layers import Dense\n",
    "from keras.callbacks import ModelCheckpoint\n",
    "import matplotlib.pyplot as plt\n",
    "import numpy\n",
    "\n",
    "# fix random seed for reproducibility\n",
    "seed = 7\n",
    "numpy.random.seed(seed)\n",
    "\n",
    "# load pima indians dataset\n",
    "dataset = numpy.loadtxt(\"pima-indians-diabetes.data.csv\", delimiter=\",\")\n",
    "# split into input (X) and output (Y) variables\n",
    "X = dataset[:,0:8]\n",
    "Y = dataset[:,8]\n",
    "\n",
    "# create model\n",
    "model = Sequential()\n",
    "model.add(Dense(12, input_dim=8, kernel_initializer='uniform', activation='relu'))\n",
    "model.add(Dense(8, kernel_initializer='uniform', activation='relu'))\n",
    "model.add(Dense(1, kernel_initializer='uniform', activation='sigmoid'))\n",
    "\n",
    "# Compile model\n",
    "model.compile(loss='binary_crossentropy', optimizer='adam', metrics=['accuracy'])\n",
    "\n",
    "# checkpoint\n",
    "filepath=\"weights.best.hdf5\"\n",
    "checkpoint = ModelCheckpoint(filepath, monitor='val_accuracy', verbose=1, save_best_only=True, mode='max')\n",
    "callbacks_list = [checkpoint]\n",
    "# Fit the model\n",
    "model.fit(X, Y, validation_split=0.33, epochs=20, batch_size=10, callbacks=callbacks_list, verbose=0)"
   ]
  },
  {
   "cell_type": "markdown",
   "metadata": {},
   "source": [
    "You should see the weight file in your local directory: \"weights.best.hdf5\""
   ]
  },
  {
   "cell_type": "markdown",
   "metadata": {},
   "source": [
    "### Loading a Check-Pointed Neural Network Model\n",
    "\n",
    "Now that you have seen how to checkpoint your deep learning models during training, you need to review how to load and use a checkpointed model.The checkpoint only includes the model weights. It assumes you know the network structure. \n",
    "\n",
    "In the example below, the model structure is known and the best weights are loaded from the previous experiment, stored in the working directory in the weights.best.hdf5 file.\n",
    "\n",
    "The model is then used to make predictions on the entire dataset."
   ]
  },
  {
   "cell_type": "code",
   "execution_count": 76,
   "metadata": {
    "ExecuteTime": {
     "end_time": "2018-11-28T23:21:14.094115Z",
     "start_time": "2018-11-28T23:21:12.717240Z"
    }
   },
   "outputs": [
    {
     "name": "stdout",
     "output_type": "stream",
     "text": [
      "Created model and loaded weights from file\n",
      "accuracy: 68.23%\n"
     ]
    }
   ],
   "source": [
    "# How to load and use weights from a checkpoint\n",
    "\n",
    "from keras.models import Sequential\n",
    "from keras.layers import Dense\n",
    "from keras.callbacks import ModelCheckpoint\n",
    "import matplotlib.pyplot as plt\n",
    "import numpy\n",
    "\n",
    "# fix random seed for reproducibility\n",
    "seed = 7\n",
    "numpy.random.seed(seed)\n",
    "\n",
    "# create model\n",
    "model = Sequential()\n",
    "model.add(Dense(12, input_dim=8, kernel_initializer='uniform', activation='relu'))\n",
    "model.add(Dense(8, kernel_initializer='uniform', activation='relu'))\n",
    "model.add(Dense(1, kernel_initializer='uniform', activation='sigmoid'))\n",
    "\n",
    "# load weights\n",
    "model.load_weights(\"weights.best.hdf5\")\n",
    "# Compile model (required to make predictions)\n",
    "model.compile(loss='binary_crossentropy', optimizer='adam', metrics=['accuracy'])\n",
    "print(\"Created model and loaded weights from file\")\n",
    "\n",
    "# load pima indians dataset\n",
    "dataset = numpy.loadtxt(\"pima-indians-diabetes.data.csv\", delimiter=\",\")\n",
    "\n",
    "# split into input (X) and output (Y) variables\n",
    "X = dataset[:,0:8]\n",
    "Y = dataset[:,8]\n",
    "\n",
    "# estimate accuracy on whole dataset using loaded weights\n",
    "scores = model.evaluate(X, Y, verbose=0)\n",
    "print(\"%s: %.2f%%\" % (model.metrics_names[1], scores[1]*100))"
   ]
  },
  {
   "cell_type": "code",
   "execution_count": null,
   "metadata": {},
   "outputs": [],
   "source": []
  },
  {
   "cell_type": "markdown",
   "metadata": {},
   "source": [
    "### Let's Visualize the results\n",
    "First, let's consider the dropout-regularized GRU-based model"
   ]
  },
  {
   "cell_type": "code",
   "execution_count": 77,
   "metadata": {},
   "outputs": [],
   "source": [
    "# Training and evaluating a dropout-regularized GRU-based model\n",
    "\n",
    "from keras.models import Sequential\n",
    "from keras import layers\n",
    "from keras.optimizers import RMSprop\n",
    "\n",
    "model = Sequential()\n",
    "model.add(layers.GRU(32,\n",
    "                    dropout=0.2,\n",
    "                    recurrent_dropout=0.1,\n",
    "                    input_shape=(None, float_data.shape[-1])))\n",
    "model.add(layers.Dense(1))"
   ]
  },
  {
   "cell_type": "code",
   "execution_count": 78,
   "metadata": {},
   "outputs": [
    {
     "name": "stdout",
     "output_type": "stream",
     "text": [
      "Model: \"sequential_13\"\n",
      "_________________________________________________________________\n",
      "Layer (type)                 Output Shape              Param #   \n",
      "=================================================================\n",
      "gru_8 (GRU)                  (None, 32)                4608      \n",
      "_________________________________________________________________\n",
      "dense_21 (Dense)             (None, 1)                 33        \n",
      "=================================================================\n",
      "Total params: 4,641\n",
      "Trainable params: 4,641\n",
      "Non-trainable params: 0\n",
      "_________________________________________________________________\n"
     ]
    }
   ],
   "source": [
    "model.summary()"
   ]
  },
  {
   "cell_type": "code",
   "execution_count": 79,
   "metadata": {
    "ExecuteTime": {
     "end_time": "2018-11-29T01:28:43.060808Z",
     "start_time": "2018-11-29T01:15:22.555742Z"
    }
   },
   "outputs": [
    {
     "name": "stdout",
     "output_type": "stream",
     "text": [
      "Epoch 1/4\n",
      "500/500 [==============================] - 79s 158ms/step - loss: 0.3302 - val_loss: 0.2745\n",
      "Epoch 2/4\n",
      "500/500 [==============================] - 79s 158ms/step - loss: 0.3045 - val_loss: 0.2759\n",
      "Epoch 3/4\n",
      "500/500 [==============================] - 79s 158ms/step - loss: 0.2980 - val_loss: 0.2759\n",
      "Epoch 4/4\n",
      "500/500 [==============================] - 79s 158ms/step - loss: 0.2943 - val_loss: 0.2678\n"
     ]
    }
   ],
   "source": [
    "# Training and evaluating a dropout-regularized GRU-based model\n",
    "\n",
    "from keras.models import Sequential\n",
    "from keras import layers\n",
    "from keras.optimizers import RMSprop\n",
    "\n",
    "model = Sequential()\n",
    "model.add(layers.GRU(32,\n",
    "                    dropout=0.2,\n",
    "                    recurrent_dropout=0.1,\n",
    "                    input_shape=(None, float_data.shape[-1])))\n",
    "model.add(layers.Dense(1))\n",
    "\n",
    "model.compile(optimizer=RMSprop(), loss='mae')\n",
    "history = model.fit_generator(train_gen,\n",
    "                            steps_per_epoch=500,\n",
    "                            epochs=4,\n",
    "                            validation_data=val_gen,\n",
    "                            validation_steps=1000)"
   ]
  },
  {
   "cell_type": "markdown",
   "metadata": {},
   "source": [
    "For purpose of speed let's look at just the first 1000 training, validation and test data"
   ]
  },
  {
   "cell_type": "code",
   "execution_count": 80,
   "metadata": {
    "ExecuteTime": {
     "end_time": "2018-11-29T03:33:07.064020Z",
     "start_time": "2018-11-29T03:32:48.211133Z"
    }
   },
   "outputs": [],
   "source": [
    "traing = []\n",
    "for i in range(1000):\n",
    "    traing.append(next(train_gen))\n",
    "\n",
    "vg = []\n",
    "for i in range(1000):\n",
    "    vg.append(next(val_gen))\n",
    "    \n",
    "testg = []\n",
    "for i in range(1000):\n",
    "    testg.append(next(test_gen))"
   ]
  },
  {
   "cell_type": "markdown",
   "metadata": {},
   "source": [
    "### Familiarizing with inputs, outputs of the NN"
   ]
  },
  {
   "cell_type": "code",
   "execution_count": 81,
   "metadata": {
    "ExecuteTime": {
     "end_time": "2018-11-29T03:08:22.938738Z",
     "start_time": "2018-11-29T03:08:22.932888Z"
    }
   },
   "outputs": [
    {
     "data": {
      "text/plain": [
       "(128, 240, 14)"
      ]
     },
     "execution_count": 81,
     "metadata": {},
     "output_type": "execute_result"
    }
   ],
   "source": [
    "vg[0][0].shape #inputs sample_number or batch_size, input_timedelay, number_variables"
   ]
  },
  {
   "cell_type": "code",
   "execution_count": 82,
   "metadata": {},
   "outputs": [
    {
     "data": {
      "text/plain": [
       "(128, 240, 14)"
      ]
     },
     "execution_count": 82,
     "metadata": {},
     "output_type": "execute_result"
    }
   ],
   "source": [
    "vg[999][0].shape #v[validation steps][input or target]"
   ]
  },
  {
   "cell_type": "code",
   "execution_count": 83,
   "metadata": {
    "ExecuteTime": {
     "end_time": "2018-11-29T03:09:59.370976Z",
     "start_time": "2018-11-29T03:09:59.364089Z"
    }
   },
   "outputs": [
    {
     "data": {
      "text/plain": [
       "(128,)"
      ]
     },
     "execution_count": 83,
     "metadata": {},
     "output_type": "execute_result"
    }
   ],
   "source": [
    "vg[999][1].shape #target"
   ]
  },
  {
   "cell_type": "code",
   "execution_count": 84,
   "metadata": {
    "ExecuteTime": {
     "end_time": "2018-11-29T03:37:42.331818Z",
     "start_time": "2018-11-29T03:37:42.326315Z"
    }
   },
   "outputs": [
    {
     "data": {
      "text/plain": [
       "(420551, 14)"
      ]
     },
     "execution_count": 84,
     "metadata": {},
     "output_type": "execute_result"
    }
   ],
   "source": [
    "float_data.shape  ## total lines with 14 parameters"
   ]
  },
  {
   "cell_type": "markdown",
   "metadata": {},
   "source": [
    "### Predict ~ 2 days"
   ]
  },
  {
   "cell_type": "code",
   "execution_count": 85,
   "metadata": {
    "ExecuteTime": {
     "end_time": "2018-11-29T03:20:10.670467Z",
     "start_time": "2018-11-29T03:20:10.199154Z"
    }
   },
   "outputs": [],
   "source": [
    "pred1 = model.predict(vg[0][0]) #predict first 1280 minutes or 21.33 days \n",
    "pred2= model.predict(vg[1][0]) #predict inputs of next 1280 mins\n",
    "pred3= model.predict(vg[2][0]) #predict inputs of next 1280* 3\n",
    "pred4= model.predict(vg[3][0]) #predict inputs of next 1280* 4\n",
    "pred5= model.predict(vg[4][0]) #predict inputs of next 1280* 5\n",
    "pred6= model.predict(vg[5][0]) #predict inputs of next 1280* 6\n",
    "pred10= model.predict(vg[9][0]) #predict inputs of next 1280* 9\n",
    "pred1000= model.predict(vg[999][0]) #predict inputs of next 1280* 1000"
   ]
  },
  {
   "cell_type": "code",
   "execution_count": 86,
   "metadata": {},
   "outputs": [
    {
     "data": {
      "text/plain": [
       "[<matplotlib.lines.Line2D at 0x7fd0e7fc4370>]"
      ]
     },
     "execution_count": 86,
     "metadata": {},
     "output_type": "execute_result"
    },
    {
     "data": {
      "image/png": "[encoded data removed]",
      "text/plain": [
       "<Figure size 432x288 with 1 Axes>"
      ]
     },
     "metadata": {
      "needs_background": "light"
     },
     "output_type": "display_data"
    }
   ],
   "source": [
    "plt.plot(pred2)\n",
    "\n",
    "plt.plot(pred10)"
   ]
  },
  {
   "cell_type": "code",
   "execution_count": 87,
   "metadata": {
    "ExecuteTime": {
     "end_time": "2018-11-29T03:20:38.710335Z",
     "start_time": "2018-11-29T03:20:38.596597Z"
    }
   },
   "outputs": [
    {
     "data": {
      "text/plain": [
       "[<matplotlib.lines.Line2D at 0x7fd178b278e0>]"
      ]
     },
     "execution_count": 87,
     "metadata": {},
     "output_type": "execute_result"
    },
    {
     "data": {
      "image/png": "[encoded data removed]",
      "text/plain": [
       "<Figure size 432x288 with 1 Axes>"
      ]
     },
     "metadata": {
      "needs_background": "light"
     },
     "output_type": "display_data"
    }
   ],
   "source": [
    "plt.plot(np.append(pred1, pred2))\n",
    "plt.plot(np.append(vg[0][1], vg[1][1]))"
   ]
  },
  {
   "cell_type": "markdown",
   "metadata": {},
   "source": [
    "### Predict ~9 days"
   ]
  },
  {
   "cell_type": "code",
   "execution_count": 88,
   "metadata": {
    "ExecuteTime": {
     "end_time": "2018-11-29T03:22:59.999560Z",
     "start_time": "2018-11-29T03:22:57.685691Z"
    }
   },
   "outputs": [],
   "source": [
    "preds = np.array([])\n",
    "targets = np.array([])\n",
    "for v in vg[:10]:\n",
    "    preds = np.append(preds, model.predict(v[0]))\n",
    "    targets = np.append(targets, v[1])"
   ]
  },
  {
   "cell_type": "code",
   "execution_count": 89,
   "metadata": {
    "ExecuteTime": {
     "end_time": "2018-11-29T04:08:59.084505Z",
     "start_time": "2018-11-29T04:08:53.790911Z"
    }
   },
   "outputs": [],
   "source": [
    "preds_train = np.array([])\n",
    "targets_train = np.array([])\n",
    "for v in traing[:10]:\n",
    "    preds_train = np.append(preds_train, model.predict(v[0]))\n",
    "    targets_train = np.append(targets_train, v[1])\n",
    "    \n",
    "preds_test = np.array([])\n",
    "targets_test = np.array([])\n",
    "for v in testg[:10]:\n",
    "    preds_test = np.append(preds_test, model.predict(v[0]))\n",
    "    targets_test = np.append(targets_test, v[1])"
   ]
  },
  {
   "cell_type": "code",
   "execution_count": 90,
   "metadata": {
    "ExecuteTime": {
     "end_time": "2018-11-29T03:33:49.055440Z",
     "start_time": "2018-11-29T03:33:48.938231Z"
    }
   },
   "outputs": [
    {
     "data": {
      "text/plain": [
       "[<matplotlib.lines.Line2D at 0x7fd0e20d55e0>]"
      ]
     },
     "execution_count": 90,
     "metadata": {},
     "output_type": "execute_result"
    },
    {
     "data": {
      "image/png": "[encoded data removed]",
      "text/plain": [
       "<Figure size 432x288 with 1 Axes>"
      ]
     },
     "metadata": {
      "needs_background": "light"
     },
     "output_type": "display_data"
    }
   ],
   "source": [
    "plt.plot(preds)\n",
    "plt.plot(targets)"
   ]
  },
  {
   "cell_type": "code",
   "execution_count": 91,
   "metadata": {
    "ExecuteTime": {
     "end_time": "2018-11-29T04:09:09.656892Z",
     "start_time": "2018-11-29T04:09:09.538232Z"
    }
   },
   "outputs": [
    {
     "data": {
      "text/plain": [
       "[<matplotlib.lines.Line2D at 0x7fd0e20d9df0>]"
      ]
     },
     "execution_count": 91,
     "metadata": {},
     "output_type": "execute_result"
    },
    {
     "data": {
      "image/png": "[encoded data removed]",
      "text/plain": [
       "<Figure size 432x288 with 1 Axes>"
      ]
     },
     "metadata": {
      "needs_background": "light"
     },
     "output_type": "display_data"
    }
   ],
   "source": [
    "plt.plot(preds_test)\n",
    "plt.plot(targets_test)"
   ]
  },
  {
   "cell_type": "code",
   "execution_count": null,
   "metadata": {},
   "outputs": [],
   "source": []
  },
  {
   "cell_type": "code",
   "execution_count": null,
   "metadata": {},
   "outputs": [],
   "source": []
  }
 ],
 "metadata": {
  "kernelspec": {
   "display_name": "Python 3",
   "language": "python",
   "name": "python3"
  },
  "language_info": {
   "codemirror_mode": {
    "name": "ipython",
    "version": 3
   },
   "file_extension": ".py",
   "mimetype": "text/x-python",
   "name": "python",
   "nbconvert_exporter": "python",
   "pygments_lexer": "ipython3",
   "version": "3.8.3"
  }
 },
 "nbformat": 4,
 "nbformat_minor": 2
}
