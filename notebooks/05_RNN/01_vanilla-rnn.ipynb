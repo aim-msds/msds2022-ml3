{
 "cells": [
  {
   "cell_type": "markdown",
   "id": "092f6dd3-620d-477e-a539-c904fff0eeaa",
   "metadata": {},
   "source": [
    "# A Vanilla RNN Implementation with `tf.tensor`\n",
    "\n",
    "*Prepared by Sebastian C. Ibañez*"
   ]
  },
  {
   "cell_type": "code",
   "execution_count": 1,
   "id": "6c4b8c9c-e333-49c8-bcc2-a61a94ed39e8",
   "metadata": {
    "execution": {
     "iopub.execute_input": "2022-01-24T04:51:44.491667Z",
     "iopub.status.busy": "2022-01-24T04:51:44.491667Z",
     "iopub.status.idle": "2022-01-24T04:51:47.655299Z",
     "shell.execute_reply": "2022-01-24T04:51:47.655299Z",
     "shell.execute_reply.started": "2022-01-24T04:51:44.491667Z"
    },
    "tags": []
   },
   "outputs": [],
   "source": [
    "import numpy as np\n",
    "import tensorflow as tf"
   ]
  },
  {
   "cell_type": "code",
   "execution_count": 2,
   "id": "2ee0fbc3-f906-4a41-86b9-064cf1ae74a8",
   "metadata": {
    "execution": {
     "iopub.execute_input": "2022-01-24T04:51:47.656300Z",
     "iopub.status.busy": "2022-01-24T04:51:47.656300Z",
     "iopub.status.idle": "2022-01-24T04:51:47.671314Z",
     "shell.execute_reply": "2022-01-24T04:51:47.671314Z",
     "shell.execute_reply.started": "2022-01-24T04:51:47.656300Z"
    },
    "tags": []
   },
   "outputs": [
    {
     "name": "stdout",
     "output_type": "stream",
     "text": [
      "Sequence = [1 2 3 4 5 6]\n"
     ]
    }
   ],
   "source": [
    "np.random.seed(1)\n",
    "\n",
    "# Create sequential data\n",
    "T = 6 # Sequence length\n",
    "d = 1 # Number of features\n",
    "\n",
    "data = np.arange(T) + 1\n",
    "\n",
    "print(f'Sequence = {data}')"
   ]
  },
  {
   "cell_type": "markdown",
   "id": "be132594-8cef-4682-9d87-efa9f8a60a5c",
   "metadata": {},
   "source": [
    "First, let's convert the data into a format that Tensorflow can work with."
   ]
  },
  {
   "cell_type": "code",
   "execution_count": 3,
   "id": "ee05692b-55e2-4a7f-9c76-277abfccbbe3",
   "metadata": {
    "execution": {
     "iopub.execute_input": "2022-01-24T04:51:47.672315Z",
     "iopub.status.busy": "2022-01-24T04:51:47.672315Z",
     "iopub.status.idle": "2022-01-24T04:51:49.480955Z",
     "shell.execute_reply": "2022-01-24T04:51:49.480955Z",
     "shell.execute_reply.started": "2022-01-24T04:51:47.672315Z"
    },
    "tags": []
   },
   "outputs": [
    {
     "data": {
      "text/plain": [
       "<tf.Tensor: shape=(1, 6, 1), dtype=float32, numpy=\n",
       "array([[[1.],\n",
       "        [2.],\n",
       "        [3.],\n",
       "        [4.],\n",
       "        [5.],\n",
       "        [6.]]], dtype=float32)>"
      ]
     },
     "execution_count": 3,
     "metadata": {},
     "output_type": "execute_result"
    }
   ],
   "source": [
    "# Convert to tf.tensor\n",
    "batch_size = 1\n",
    "X = tf.convert_to_tensor(data, dtype=tf.float32) # dtype should be a tf.float (NOT a np.float)\n",
    "X = tf.reshape(X, (batch_size, T, d)) # shape=(batch, timesteps, feature)\n",
    "X"
   ]
  },
  {
   "cell_type": "markdown",
   "id": "de7c4de7-8eb3-4956-9d29-36b637824037",
   "metadata": {},
   "source": [
    "Next, let's initialize the hidden state."
   ]
  },
  {
   "cell_type": "code",
   "execution_count": 4,
   "id": "3a7ea29e-b48c-41b8-9548-0f441cbdfc01",
   "metadata": {
    "execution": {
     "iopub.execute_input": "2022-01-24T04:51:49.481955Z",
     "iopub.status.busy": "2022-01-24T04:51:49.480955Z",
     "iopub.status.idle": "2022-01-24T04:51:49.496969Z",
     "shell.execute_reply": "2022-01-24T04:51:49.496969Z",
     "shell.execute_reply.started": "2022-01-24T04:51:49.481955Z"
    },
    "tags": []
   },
   "outputs": [
    {
     "data": {
      "text/plain": [
       "<tf.Tensor: shape=(1, 4), dtype=float32, numpy=array([[0., 0., 0., 0.]], dtype=float32)>"
      ]
     },
     "execution_count": 4,
     "metadata": {},
     "output_type": "execute_result"
    }
   ],
   "source": [
    "# Create initial hidden state\n",
    "hidden_units = 4\n",
    "h0 = tf.zeros((batch_size, hidden_units)) # shape=(batch, hidden units)\n",
    "h0"
   ]
  },
  {
   "cell_type": "markdown",
   "id": "2b71ae6c-2934-4ece-8d03-36afc6fa2a60",
   "metadata": {},
   "source": [
    "Now let's initialize the weights of the RNN."
   ]
  },
  {
   "cell_type": "code",
   "execution_count": 5,
   "id": "19f31d6f-9a73-4bd3-bcd1-a2aece34c2f6",
   "metadata": {
    "execution": {
     "iopub.execute_input": "2022-01-24T04:51:49.497970Z",
     "iopub.status.busy": "2022-01-24T04:51:49.497970Z",
     "iopub.status.idle": "2022-01-24T04:51:49.512984Z",
     "shell.execute_reply": "2022-01-24T04:51:49.512984Z",
     "shell.execute_reply.started": "2022-01-24T04:51:49.497970Z"
    },
    "tags": []
   },
   "outputs": [
    {
     "name": "stdout",
     "output_type": "stream",
     "text": [
      "tf.Tensor([[-1.1012203   1.5457517   0.383644   -0.87965786]], shape=(1, 4), dtype=float32)\n",
      "tf.Tensor(\n",
      "[[ 0.40308788 -1.0880209  -0.06309535  1.3365567 ]\n",
      " [ 0.7117601  -0.4892865  -0.7642213  -1.0372486 ]\n",
      " [-1.2519338   0.02122428 -0.5513758  -1.7431698 ]\n",
      " [-0.33536094 -1.0426675   1.0091382   1.2362539 ]], shape=(4, 4), dtype=float32)\n",
      "tf.Tensor([0. 0. 0. 0.], shape=(4,), dtype=float32)\n"
     ]
    }
   ],
   "source": [
    "# Initialize random weights\n",
    "tf.random.set_seed(1) # Must be run in the same cell\n",
    "W_xh = tf.random.normal((batch_size, hidden_units), 0, 1) # shape=(batch, hidden units)\n",
    "W_hh = tf.random.normal((hidden_units, hidden_units), 0, 1) # shape=(hidden units,  hidden units)\n",
    "b_h = tf.zeros((hidden_units)) # shape=(hidden units)\n",
    "print(W_xh)\n",
    "print(W_hh)\n",
    "print(b_h)"
   ]
  },
  {
   "cell_type": "markdown",
   "id": "d25c2d16-d492-482c-b9e7-2a7ee72b4389",
   "metadata": {},
   "source": [
    "Now for forward prop!"
   ]
  },
  {
   "cell_type": "code",
   "execution_count": 6,
   "id": "c64b7f52-d13d-4eb9-8649-221fb44162c3",
   "metadata": {
    "execution": {
     "iopub.execute_input": "2022-01-24T04:51:49.513984Z",
     "iopub.status.busy": "2022-01-24T04:51:49.512984Z",
     "iopub.status.idle": "2022-01-24T04:51:51.240550Z",
     "shell.execute_reply": "2022-01-24T04:51:51.240550Z",
     "shell.execute_reply.started": "2022-01-24T04:51:49.513984Z"
    },
    "tags": []
   },
   "outputs": [
    {
     "name": "stdout",
     "output_type": "stream",
     "text": [
      "h0 = [[0. 0. 0. 0.]]\n",
      "h1 = [[-0.80105966  0.9131062   0.36578208 -0.7063606 ]]\n",
      "h2 = [[-0.9702719  0.9996024 -0.6609227 -0.9999491]]\n",
      "h3 = [[-0.9489414   0.9999923  -0.19376709 -0.99991894]]\n",
      "h4 = [[-0.99817336  0.99999964 -0.07197513 -0.9999971 ]]\n",
      "h5 = [[-0.9998569   1.          0.24250329 -0.99999964]]\n",
      "h6 = [[-0.99999285  1.          0.42822266 -1.        ]]\n"
     ]
    }
   ],
   "source": [
    "# Forward prop (w/ tanh activation)\n",
    "h = h0\n",
    "print(f'h0 = {h}')\n",
    "for t in range(T):\n",
    "    x = X[:, t, :]\n",
    "    h = tf.math.tanh(tf.matmul(x, W_xh) + tf.matmul(h, W_hh) + b_h)\n",
    "    print(f'h{t+1} = {h}')"
   ]
  },
  {
   "cell_type": "markdown",
   "id": "26a70c41-a47b-4b82-b03f-6a608b01da12",
   "metadata": {},
   "source": [
    "Here's a more efficient implementation of the forward prop using only 1 matrix multiplication."
   ]
  },
  {
   "cell_type": "code",
   "execution_count": 7,
   "id": "1716c90f-3dd8-4604-9748-a7bd762691cf",
   "metadata": {
    "execution": {
     "iopub.execute_input": "2022-01-24T04:51:51.241552Z",
     "iopub.status.busy": "2022-01-24T04:51:51.241552Z",
     "iopub.status.idle": "2022-01-24T04:51:51.256564Z",
     "shell.execute_reply": "2022-01-24T04:51:51.256564Z",
     "shell.execute_reply.started": "2022-01-24T04:51:51.241552Z"
    },
    "tags": []
   },
   "outputs": [
    {
     "name": "stdout",
     "output_type": "stream",
     "text": [
      "h0 = [[0. 0. 0. 0.]]\n",
      "h1 = [[-0.80105966  0.9131062   0.36578208 -0.7063606 ]]\n",
      "h2 = [[-0.9702719   0.9996024  -0.66092277 -0.9999491 ]]\n",
      "h3 = [[-0.94894147  0.99999225 -0.19376715 -0.99991894]]\n",
      "h4 = [[-0.9981734   0.99999964 -0.07197513 -0.9999971 ]]\n",
      "h5 = [[-0.9998569   1.          0.24250317 -0.99999976]]\n",
      "h6 = [[-0.9999928  1.         0.4282226 -1.       ]]\n"
     ]
    }
   ],
   "source": [
    "# Forward prop (more efficient)\n",
    "h = h0\n",
    "print(f'h0 = {h}')\n",
    "for t in range(T):\n",
    "    x = X[:, t, :]\n",
    "    h = tf.math.tanh(tf.matmul(tf.concat((x, h), axis=1), tf.concat((W_xh, W_hh), axis=0)) + b_h) # More efficient\n",
    "    print(f'h{t+1} = {h}')"
   ]
  },
  {
   "cell_type": "markdown",
   "id": "5b935d7c-b596-4518-9987-c78efc80e76b",
   "metadata": {},
   "source": [
    "Finally, we can verify that our model specification is correct using `tf.keras`."
   ]
  },
  {
   "cell_type": "code",
   "execution_count": 8,
   "id": "ad71bb0f-862b-4d57-88dc-ae60dd60d5b1",
   "metadata": {
    "execution": {
     "iopub.execute_input": "2022-01-24T04:51:51.257566Z",
     "iopub.status.busy": "2022-01-24T04:51:51.257566Z",
     "iopub.status.idle": "2022-01-24T04:51:51.623898Z",
     "shell.execute_reply": "2022-01-24T04:51:51.623898Z",
     "shell.execute_reply.started": "2022-01-24T04:51:51.257566Z"
    },
    "tags": []
   },
   "outputs": [
    {
     "name": "stdout",
     "output_type": "stream",
     "text": [
      "tf.Tensor(\n",
      "[[[-0.80105966  0.9131062   0.36578208 -0.7063606 ]\n",
      "  [-0.9702719   0.9996024  -0.6609227  -0.9999491 ]\n",
      "  [-0.9489414   0.9999923  -0.19376709 -0.99991894]\n",
      "  [-0.99817336  0.99999964 -0.07197513 -0.9999971 ]\n",
      "  [-0.9998569   1.          0.24250329 -0.99999964]\n",
      "  [-0.99999285  1.          0.42822266 -1.        ]]], shape=(1, 6, 4), dtype=float32)\n",
      "tf.Tensor([[-0.99999285  1.          0.42822266 -1.        ]], shape=(1, 4), dtype=float32)\n"
     ]
    }
   ],
   "source": [
    "simple_rnn = tf.keras.layers.SimpleRNN(4, return_sequences=True, return_state=True)\n",
    "simple_rnn(X) # Need to pass sample data to the layer in order to create the actual weight tensors\n",
    "simple_rnn.set_weights([W_xh, W_hh, b_h]) # Set weights manually\n",
    "\n",
    "output, final_state = simple_rnn(X)\n",
    "\n",
    "print(output)\n",
    "print(final_state)"
   ]
  },
  {
   "cell_type": "markdown",
   "id": "0f79a71f-5af8-42cc-b226-64fc05effd0e",
   "metadata": {},
   "source": [
    "To actually train this RNN, we'd need to specificy a loss function, calculate gradients, and update the weights (just like in MDS, when we trained a linear regression)."
   ]
  },
  {
   "cell_type": "markdown",
   "id": "b9655a9d-4aba-4024-a306-a9a0cf02a068",
   "metadata": {},
   "source": [
    "## References\n",
    "\n",
    "---\n",
    "\n",
    "[1] Zhang, A., Lipton, Z. C., Li, M., & Smola, A. J. (2021). [Dive into deep learning](https://d2l.ai/index.html). arXiv preprint arXiv:2106.11342."
   ]
  }
 ],
 "metadata": {
  "kernelspec": {
   "display_name": "Python [conda env:tf-2.6]",
   "language": "python",
   "name": "conda-env-tf-2.6-py"
  },
  "language_info": {
   "codemirror_mode": {
    "name": "ipython",
    "version": 3
   },
   "file_extension": ".py",
   "mimetype": "text/x-python",
   "name": "python",
   "nbconvert_exporter": "python",
   "pygments_lexer": "ipython3",
   "version": "3.9.7"
  }
 },
 "nbformat": 4,
 "nbformat_minor": 5
}
