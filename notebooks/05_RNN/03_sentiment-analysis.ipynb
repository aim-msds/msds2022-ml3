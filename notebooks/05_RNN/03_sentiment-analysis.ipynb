{
 "cells": [
  {
   "cell_type": "markdown",
   "id": "092f6dd3-620d-477e-a539-c904fff0eeaa",
   "metadata": {},
   "source": [
    "# Sentiment Analysis\n",
    "\n",
    "*Prepared by Sebastian C. Ibañez*\n",
    "\n",
    "--- \n",
    "\n",
    "<a href=\"https://colab.research.google.com/github/aim-msds/msds2022-ml3/blob/main/notebooks/05_RNN/03_sentiment-analysis.ipynb\"><img src=\"https://colab.research.google.com/assets/colab-badge.svg\" style=\"float: left;\"></a><br>\n",
    "\n",
    "In this notebook, our goal is to create a sentiment classifier using an LSTM."
   ]
  },
  {
   "cell_type": "code",
   "execution_count": 1,
   "id": "6c4b8c9c-e333-49c8-bcc2-a61a94ed39e8",
   "metadata": {
    "execution": {
     "iopub.execute_input": "2022-01-30T12:23:04.336277Z",
     "iopub.status.busy": "2022-01-30T12:23:04.336277Z",
     "iopub.status.idle": "2022-01-30T12:23:05.828630Z",
     "shell.execute_reply": "2022-01-30T12:23:05.828630Z",
     "shell.execute_reply.started": "2022-01-30T12:23:04.336277Z"
    },
    "tags": []
   },
   "outputs": [],
   "source": [
    "import numpy as np\n",
    "import matplotlib.pyplot as plt\n",
    "\n",
    "import tensorflow as tf\n",
    "\n",
    "import os\n",
    "import re\n",
    "import string"
   ]
  },
  {
   "cell_type": "markdown",
   "id": "de6bd50f-b4f5-4405-ae58-bf49a5ccb0a6",
   "metadata": {},
   "source": [
    "## Loading the Data"
   ]
  },
  {
   "cell_type": "code",
   "execution_count": 2,
   "id": "ff138046-e8fc-4d9b-ad85-334d6e193bd2",
   "metadata": {
    "execution": {
     "iopub.execute_input": "2022-01-30T12:23:05.829632Z",
     "iopub.status.busy": "2022-01-30T12:23:05.829632Z",
     "iopub.status.idle": "2022-01-30T12:23:05.844645Z",
     "shell.execute_reply": "2022-01-30T12:23:05.844645Z",
     "shell.execute_reply.started": "2022-01-30T12:23:05.829632Z"
    },
    "tags": []
   },
   "outputs": [
    {
     "data": {
      "text/plain": [
       "['imdb.vocab', 'imdbEr.txt', 'README', 'test', 'train']"
      ]
     },
     "execution_count": 2,
     "metadata": {},
     "output_type": "execute_result"
    }
   ],
   "source": [
    "dataset_dir = 'data/aclImdb'\n",
    "os.listdir(dataset_dir)"
   ]
  },
  {
   "cell_type": "code",
   "execution_count": 3,
   "id": "36fedbfc-d96a-41b6-919f-4c880c3b0cae",
   "metadata": {
    "execution": {
     "iopub.execute_input": "2022-01-30T12:23:05.845646Z",
     "iopub.status.busy": "2022-01-30T12:23:05.845646Z",
     "iopub.status.idle": "2022-01-30T12:23:05.876674Z",
     "shell.execute_reply": "2022-01-30T12:23:05.876674Z",
     "shell.execute_reply.started": "2022-01-30T12:23:05.845646Z"
    },
    "tags": []
   },
   "outputs": [
    {
     "name": "stdout",
     "output_type": "stream",
     "text": [
      "Sample: ['the', 'and', 'a', 'of', 'to', 'is', 'it', 'in', 'i', 'this']\n",
      "Number of unique tokens: 89527\n"
     ]
    }
   ],
   "source": [
    "# Check the vocab\n",
    "vocab = open('data/aclImdb/imdb.vocab', 'rb').read().decode(encoding='utf-8', errors='ignore').split('\\n')\n",
    "vocab_size = len(vocab)\n",
    "\n",
    "print(f'Sample: {vocab[:10]}')\n",
    "print(f'Number of unique tokens: {vocab_size}')"
   ]
  },
  {
   "cell_type": "code",
   "execution_count": 4,
   "id": "a3048db0-77ec-4ccc-8298-27db525ce9c2",
   "metadata": {
    "execution": {
     "iopub.execute_input": "2022-01-30T12:23:05.876674Z",
     "iopub.status.busy": "2022-01-30T12:23:05.876674Z",
     "iopub.status.idle": "2022-01-30T12:23:05.892688Z",
     "shell.execute_reply": "2022-01-30T12:23:05.892688Z",
     "shell.execute_reply.started": "2022-01-30T12:23:05.876674Z"
    },
    "tags": []
   },
   "outputs": [
    {
     "name": "stdout",
     "output_type": "stream",
     "text": [
      "['labeledBow.feat', 'neg', 'pos', 'unsupBow.feat', 'urls_neg.txt', 'urls_pos.txt', 'urls_unsup.txt']\n",
      "['labeledBow.feat', 'neg', 'pos', 'urls_neg.txt', 'urls_pos.txt']\n"
     ]
    }
   ],
   "source": [
    "train_dir = os.path.join(dataset_dir, 'train')\n",
    "test_dir = os.path.join(dataset_dir, 'test')\n",
    "\n",
    "print(os.listdir(train_dir))\n",
    "print(os.listdir(test_dir))\n",
    "\n",
    "# Delete unsup folder"
   ]
  },
  {
   "cell_type": "code",
   "execution_count": 5,
   "id": "51293eb6-93ff-4529-8194-582e6caa081d",
   "metadata": {
    "execution": {
     "iopub.execute_input": "2022-01-30T12:23:05.893690Z",
     "iopub.status.busy": "2022-01-30T12:23:05.893690Z",
     "iopub.status.idle": "2022-01-30T12:23:05.908704Z",
     "shell.execute_reply": "2022-01-30T12:23:05.908704Z",
     "shell.execute_reply.started": "2022-01-30T12:23:05.893690Z"
    },
    "tags": []
   },
   "outputs": [
    {
     "name": "stdout",
     "output_type": "stream",
     "text": [
      "Rachel Griffiths writes and directs this award winning short film. A heartwarming story about coping with grief and cherishing the memory of those we've loved and lost. Although, only 15 minutes long, Griffiths manages to capture so much emotion and truth onto film in the short space of time. Bud Tingwell gives a touching performance as Will, a widower struggling to cope with his wife's death. Will is confronted by the harsh reality of loneliness and helplessness as he proceeds to take care of Ruth's pet cow, Tulip. The film displays the grief and responsibility one feels for those they have loved and lost. Good cinematography, great direction, and superbly acted. It will bring tears to all those who have lost a loved one, and survived.\n"
     ]
    }
   ],
   "source": [
    "sample_file = os.path.join(train_dir, 'pos/1181_9.txt')\n",
    "with open(sample_file) as f:\n",
    "    print(f.read())"
   ]
  },
  {
   "cell_type": "code",
   "execution_count": 6,
   "id": "50d8f500-d88c-49e9-8a7f-d462bb2c52b9",
   "metadata": {
    "execution": {
     "iopub.execute_input": "2022-01-30T12:23:05.909705Z",
     "iopub.status.busy": "2022-01-30T12:23:05.909705Z",
     "iopub.status.idle": "2022-01-30T12:23:07.854138Z",
     "shell.execute_reply": "2022-01-30T12:23:07.854138Z",
     "shell.execute_reply.started": "2022-01-30T12:23:05.909705Z"
    },
    "tags": []
   },
   "outputs": [
    {
     "name": "stdout",
     "output_type": "stream",
     "text": [
      "Found 25000 files belonging to 2 classes.\n",
      "Using 20000 files for training.\n"
     ]
    }
   ],
   "source": [
    "batch_size = 64 # choose smaller batch size if you are getting OOM errors\n",
    "seed = 12 # makes sure that theres no leakage between train and val\n",
    "\n",
    "# Iterable for training batches\n",
    "raw_train_ds = tf.keras.utils.text_dataset_from_directory(\n",
    "    directory=train_dir, \n",
    "    batch_size=batch_size, \n",
    "    validation_split=0.2, \n",
    "    subset='training', \n",
    "    seed=seed)"
   ]
  },
  {
   "cell_type": "markdown",
   "id": "cbaaf121-17b2-426d-aa17-e9cfc5775522",
   "metadata": {},
   "source": [
    "Note that `tf.keras.utils.text_dataset_from_directory` requires the directory structure to be as follows,\n",
    "\n",
    "```\n",
    "main_directory/\n",
    "...class_a/\n",
    "......a_text_1.txt\n",
    "......a_text_2.txt\n",
    "...class_b/\n",
    "......b_text_1.txt\n",
    "......b_text_2.txt\n",
    "```"
   ]
  },
  {
   "cell_type": "code",
   "execution_count": 7,
   "id": "63e3fb82-56b4-41ae-bbd1-13c3582a7991",
   "metadata": {
    "execution": {
     "iopub.execute_input": "2022-01-30T12:23:07.855139Z",
     "iopub.status.busy": "2022-01-30T12:23:07.855139Z",
     "iopub.status.idle": "2022-01-30T12:23:07.933210Z",
     "shell.execute_reply": "2022-01-30T12:23:07.933210Z",
     "shell.execute_reply.started": "2022-01-30T12:23:07.855139Z"
    },
    "tags": []
   },
   "outputs": [
    {
     "name": "stdout",
     "output_type": "stream",
     "text": [
      "Label 0 corresponds to neg\n",
      "Label 1 corresponds to pos\n",
      "---\n",
      "Review b'Oh my, I think this may be the single cheesiest movie I\\'ve ever seen. I\\'m serious, this is one of the ultimate b-movies. The first proof is that it isn\\'t a $5 DVD. Oh no, that\\'s too mainstream for this. I got this on VHS, from a bin full of ex-rental videos at my local video store.<br /><br />If I may quote the blurb: \"In 17th Century Japan, there lived a samurai who would set the standard for the ages. His name was Mayeda. He is sent on an epic journey across the world to acquire 5,000 muscats from the King of Spain. Whilst at sea a violent storm swallows their precious gold intended to buy the weapons and almost takes their lives. Mayeda must battle all odds to survive and the secure the fate of his beloved Japan.\" It then goes on to say \"A multi million dollar action adventure epic set across three continents\"<br /><br />I must have seen a different movie. This was no epic, and it certainly wasn\\'t a multi million dollar anything. No, \\'Shogun Mayeda\\' is really just the crazy adventures of the Engrish-speaking Mayeda (Sho Kosugi). He isn\\'t even a Shogun really, but thats not important. What is important, is that he does a really cool impression of John Cleese\\'s repeated charging of the one castle in \\'Monty Python and the Holy Grail\\', and his ability to go from serious scenes to showing off his samurai mind powers. Awesome.<br /><br />The greatest thing about this movie is Sho Kosugi\\'s Engrish accent. The movie may lack nearly everything that makes a good movie, but makes up for it with some of the cheesiest lines ever, delivered by the coolest Engrish accent ever. And honestly, do you really want anything else? You could fast forward \\'Shogun Mayeda\\' to the end, and replay Kosugi\\'s final line over and over. The tape will probably wear out before you get tired of that one line. Awesome.<br /><br />2/10 - So very very cheesy.'\n",
      "Label 0\n",
      "---\n",
      "Review b\"I admit I had some trepidation when I first saw the previews for this film. Was VH-1 treading on hollow ground here? I mean, Harris and Quinn don't really look or even sound like John or Paul. But I have to admit, this film really surprised me. It's far from the exploitation film I expected. Instead, it's a character study, a low-key, whimsical, and ultimately bittersweet look at friendship, and the ultimate lesson we all learn: it's hard, if not impossible, to capture what we once had, and what has passed us by.\"\n",
      "Label 1\n",
      "---\n",
      "Review b\"the only thing that frequently pops into my head while i'm writing this review is,i'll never get that hour and a half back!!! to indicate that i'm not just blowing air, i'll compare the movie to the other movies of the cube trilogy(cube and hypercube)!cube wasn't great but it was original and that made up for some technical flaws!hypercube as a sequel lost the advantage of originality but it came out looking pretty sharp and i even liked it beter than cube(the story was better)! but cube zero in comparison to it's predecessors really isn't worth sh*t!a complete lack of good fx, a very f*ck*d up script and just plain old bad acting don't combine well! example:all of the time during the movie i was thinking it would be incredibly stupid if ... should happen and then it would happen, so it's not very original neither! my advice: don't lose that hour and a half i lost!!!!!!!! oh and i hope this movie crashes and burns!!!!!!!\"\n",
      "Label 0\n",
      "---\n"
     ]
    }
   ],
   "source": [
    "# Which label is which?\n",
    "print(\"Label 0 corresponds to\", raw_train_ds.class_names[0])\n",
    "print(\"Label 1 corresponds to\", raw_train_ds.class_names[1])\n",
    "print('---')\n",
    "\n",
    "# Take 1 batch\n",
    "for text_batch, label_batch in raw_train_ds.take(1):\n",
    "    # Print first 3 elements in batch\n",
    "    for i in range(3):\n",
    "        print(\"Review\", text_batch.numpy()[i])\n",
    "        print(\"Label\", label_batch.numpy()[i])\n",
    "        print('---')"
   ]
  },
  {
   "cell_type": "code",
   "execution_count": 8,
   "id": "7a91925e-5f49-4c7a-9322-89d3fa45ad6e",
   "metadata": {
    "execution": {
     "iopub.execute_input": "2022-01-30T12:23:07.934211Z",
     "iopub.status.busy": "2022-01-30T12:23:07.934211Z",
     "iopub.status.idle": "2022-01-30T12:23:09.319689Z",
     "shell.execute_reply": "2022-01-30T12:23:09.319689Z",
     "shell.execute_reply.started": "2022-01-30T12:23:07.934211Z"
    },
    "tags": []
   },
   "outputs": [
    {
     "name": "stdout",
     "output_type": "stream",
     "text": [
      "Found 25000 files belonging to 2 classes.\n",
      "Using 5000 files for validation.\n",
      "Found 25000 files belonging to 2 classes.\n"
     ]
    }
   ],
   "source": [
    "# Iterable for val batches\n",
    "raw_val_ds = tf.keras.utils.text_dataset_from_directory(\n",
    "    directory=train_dir, \n",
    "    batch_size=batch_size, \n",
    "    validation_split=0.2, \n",
    "    subset='validation', \n",
    "    seed=seed)\n",
    "\n",
    "# Iterable for test batches\n",
    "raw_test_ds = tf.keras.utils.text_dataset_from_directory(\n",
    "    directory=test_dir,\n",
    "    batch_size=batch_size)"
   ]
  },
  {
   "cell_type": "markdown",
   "id": "2e9ec6ed-6a3b-409a-933c-b09cf97f4900",
   "metadata": {},
   "source": [
    "## Tokenization and Preprocessing"
   ]
  },
  {
   "cell_type": "code",
   "execution_count": 9,
   "id": "82464cac-0f26-4663-9bfc-33e2acd4a0ce",
   "metadata": {
    "execution": {
     "iopub.execute_input": "2022-01-30T12:23:09.320690Z",
     "iopub.status.busy": "2022-01-30T12:23:09.320690Z",
     "iopub.status.idle": "2022-01-30T12:23:09.335704Z",
     "shell.execute_reply": "2022-01-30T12:23:09.335704Z",
     "shell.execute_reply.started": "2022-01-30T12:23:09.320690Z"
    },
    "tags": []
   },
   "outputs": [],
   "source": [
    "# We need to make a custom rule to remove HTML tags\n",
    "def custom_standardization(input_data):\n",
    "    lowercase = tf.strings.lower(input_data) # make lower case\n",
    "    stripped_html = tf.strings.regex_replace(lowercase, '<br />', ' ') # remove HTML tag\n",
    "    output_data = tf.strings.regex_replace(stripped_html, '[%s]' % re.escape(string.punctuation), '') # remove punctuations\n",
    "    return output_data"
   ]
  },
  {
   "cell_type": "code",
   "execution_count": 10,
   "id": "7eb40521-5e82-493f-a99e-61d559eebc32",
   "metadata": {
    "execution": {
     "iopub.execute_input": "2022-01-30T12:23:09.336704Z",
     "iopub.status.busy": "2022-01-30T12:23:09.336704Z",
     "iopub.status.idle": "2022-01-30T12:23:12.223875Z",
     "shell.execute_reply": "2022-01-30T12:23:12.223875Z",
     "shell.execute_reply.started": "2022-01-30T12:23:09.336704Z"
    },
    "tags": []
   },
   "outputs": [],
   "source": [
    "# Hyperparams\n",
    "max_tokens = 10000 # this can be smaller than the actual vocab size for faster processing\n",
    "max_length = 250 # max sequence length, will either pad or truncate sentences\n",
    "\n",
    "# Create a TextVectorization layer to do the pre-processing\n",
    "vectorize_layer = tf.keras.layers.TextVectorization(\n",
    "    standardize=custom_standardization,\n",
    "    max_tokens=max_tokens,\n",
    "    output_sequence_length=max_length\n",
    ")\n",
    "\n",
    "train_text = raw_train_ds.map(lambda x, y: x) # get the text\n",
    "vectorize_layer.adapt(train_text) # \"fit\" the layer"
   ]
  },
  {
   "cell_type": "code",
   "execution_count": 11,
   "id": "94a3f754-cb33-4ce6-b763-dab44561bfd3",
   "metadata": {
    "execution": {
     "iopub.execute_input": "2022-01-30T12:23:12.224875Z",
     "iopub.status.busy": "2022-01-30T12:23:12.224875Z",
     "iopub.status.idle": "2022-01-30T12:23:12.255904Z",
     "shell.execute_reply": "2022-01-30T12:23:12.255904Z",
     "shell.execute_reply.started": "2022-01-30T12:23:12.224875Z"
    },
    "tags": []
   },
   "outputs": [
    {
     "data": {
      "text/plain": [
       "array(['', '[UNK]', 'the', 'and', 'a', 'of', 'to', 'is', 'in', 'it', 'i',\n",
       "       'this', 'that', 'was', 'as', 'for', 'with', 'movie', 'but', 'film'],\n",
       "      dtype='<U17')"
      ]
     },
     "execution_count": 11,
     "metadata": {},
     "output_type": "execute_result"
    }
   ],
   "source": [
    "vocab = np.array(vectorize_layer.get_vocabulary())\n",
    "vocab[:20]"
   ]
  },
  {
   "cell_type": "code",
   "execution_count": 12,
   "id": "84f749e1-95c8-43f3-9389-829b3c3a9ffa",
   "metadata": {
    "execution": {
     "iopub.execute_input": "2022-01-30T12:23:12.257906Z",
     "iopub.status.busy": "2022-01-30T12:23:12.257906Z",
     "iopub.status.idle": "2022-01-30T12:23:12.335976Z",
     "shell.execute_reply": "2022-01-30T12:23:12.335976Z",
     "shell.execute_reply.started": "2022-01-30T12:23:12.257906Z"
    },
    "tags": []
   },
   "outputs": [
    {
     "name": "stdout",
     "output_type": "stream",
     "text": [
      "Review tf.Tensor(b'This film is advertised as a clever romantic comedy. It is neither clever nor romantic and it is definitely not an effective comedy. The fortunes of the well meaning yet pathetic character, \"Tom\", oscillate from one extremely embarrassing disaster to another. The only saving graces are the competent performance by Toni Collete and the frequency with which we glimpse Paltrow\\'s pleasant face. Overall, to be avoided!', shape=(), dtype=string)\n",
      "Label neg\n",
      "Vectorized review (<tf.Tensor: shape=(1, 250), dtype=int64, numpy=\n",
      "array([[  11,   19,    7, 5884,   14,    4, 1040,  736,  217,    9,    7,\n",
      "        1042, 1040,  869,  736,    3,    9,    7,  390,   21,   33, 1106,\n",
      "         217,    2,    1,    5,    2,   73, 1230,  241, 1176,  106,  820,\n",
      "           1,   35,   28,  569, 2180, 1671,    6,  154,    2,   60, 1877,\n",
      "        8883,   23,    2, 3279,  226,   32, 6541,    1,    3,    2,    1,\n",
      "          16,   61,   70, 3183,    1, 2058,  402,  429,    6,   27, 4069,\n",
      "           0,    0,    0,    0,    0,    0,    0,    0,    0,    0,    0,\n",
      "           0,    0,    0,    0,    0,    0,    0,    0,    0,    0,    0,\n",
      "           0,    0,    0,    0,    0,    0,    0,    0,    0,    0,    0,\n",
      "           0,    0,    0,    0,    0,    0,    0,    0,    0,    0,    0,\n",
      "           0,    0,    0,    0,    0,    0,    0,    0,    0,    0,    0,\n",
      "           0,    0,    0,    0,    0,    0,    0,    0,    0,    0,    0,\n",
      "           0,    0,    0,    0,    0,    0,    0,    0,    0,    0,    0,\n",
      "           0,    0,    0,    0,    0,    0,    0,    0,    0,    0,    0,\n",
      "           0,    0,    0,    0,    0,    0,    0,    0,    0,    0,    0,\n",
      "           0,    0,    0,    0,    0,    0,    0,    0,    0,    0,    0,\n",
      "           0,    0,    0,    0,    0,    0,    0,    0,    0,    0,    0,\n",
      "           0,    0,    0,    0,    0,    0,    0,    0,    0,    0,    0,\n",
      "           0,    0,    0,    0,    0,    0,    0,    0,    0,    0,    0,\n",
      "           0,    0,    0,    0,    0,    0,    0,    0,    0,    0,    0,\n",
      "           0,    0,    0,    0,    0,    0,    0,    0,    0,    0,    0,\n",
      "           0,    0,    0,    0,    0,    0,    0,    0,    0,    0,    0,\n",
      "           0,    0,    0,    0,    0,    0,    0,    0]], dtype=int64)>, <tf.Tensor: shape=(), dtype=int32, numpy=0>)\n"
     ]
    }
   ],
   "source": [
    "# vectorize text using the custom layer\n",
    "def vectorize_text(text, label):\n",
    "    text = tf.expand_dims(text, -1) # reshape to (batch, sequence, features)\n",
    "    return vectorize_layer(text), label\n",
    "\n",
    "# retrieve a batch from the dataset\n",
    "text_batch, label_batch = next(iter(raw_train_ds))\n",
    "first_review, first_label = text_batch[0], label_batch[0]\n",
    "print(\"Review\", first_review)\n",
    "print(\"Label\", raw_train_ds.class_names[first_label])\n",
    "print(\"Vectorized review\", vectorize_text(first_review, first_label))"
   ]
  },
  {
   "cell_type": "code",
   "execution_count": 13,
   "id": "af3ade24-978b-4469-877e-398739c3ee9f",
   "metadata": {
    "execution": {
     "iopub.execute_input": "2022-01-30T12:23:12.336977Z",
     "iopub.status.busy": "2022-01-30T12:23:12.335976Z",
     "iopub.status.idle": "2022-01-30T12:23:12.368005Z",
     "shell.execute_reply": "2022-01-30T12:23:12.368005Z",
     "shell.execute_reply.started": "2022-01-30T12:23:12.336977Z"
    },
    "tags": []
   },
   "outputs": [
    {
     "name": "stdout",
     "output_type": "stream",
     "text": [
      "123 --->  your\n",
      "500 --->  game\n",
      "Vocabulary size: 10000\n"
     ]
    }
   ],
   "source": [
    "# reverse lookup example\n",
    "print(\"123 ---> \",vectorize_layer.get_vocabulary()[123])\n",
    "print(\"500 ---> \",vectorize_layer.get_vocabulary()[500])\n",
    "print('Vocabulary size: {}'.format(len(vectorize_layer.get_vocabulary())))"
   ]
  },
  {
   "cell_type": "code",
   "execution_count": 14,
   "id": "6d59fe1e-23ce-4632-b90a-4d5735eb14cf",
   "metadata": {
    "execution": {
     "iopub.execute_input": "2022-01-30T12:23:12.369006Z",
     "iopub.status.busy": "2022-01-30T12:23:12.368005Z",
     "iopub.status.idle": "2022-01-30T12:23:12.447077Z",
     "shell.execute_reply": "2022-01-30T12:23:12.447077Z",
     "shell.execute_reply.started": "2022-01-30T12:23:12.369006Z"
    },
    "tags": []
   },
   "outputs": [],
   "source": [
    "# vectorize the train, val, and test data\n",
    "train_ds = raw_train_ds.map(vectorize_text)\n",
    "val_ds = raw_val_ds.map(vectorize_text)\n",
    "test_ds = raw_test_ds.map(vectorize_text)"
   ]
  },
  {
   "cell_type": "markdown",
   "id": "a54ef5d1-d866-47ca-b173-7aeaf478d402",
   "metadata": {},
   "source": [
    "## Autotuning for I/O Performance\n",
    "\n",
    "Read more about it [here](https://www.tensorflow.org/guide/data_performance)."
   ]
  },
  {
   "cell_type": "code",
   "execution_count": 15,
   "id": "b9b9023b-8b97-4ab3-b840-de190a3dbb86",
   "metadata": {
    "execution": {
     "iopub.execute_input": "2022-01-30T12:23:12.448078Z",
     "iopub.status.busy": "2022-01-30T12:23:12.448078Z",
     "iopub.status.idle": "2022-01-30T12:23:12.463092Z",
     "shell.execute_reply": "2022-01-30T12:23:12.463092Z",
     "shell.execute_reply.started": "2022-01-30T12:23:12.448078Z"
    },
    "tags": []
   },
   "outputs": [],
   "source": [
    "# Tuning caching and stuff of dataset, especially useful if the dataset is big and has to be constantly read from disk\n",
    "AUTOTUNE = tf.data.AUTOTUNE\n",
    "\n",
    "train_ds = train_ds.cache().prefetch(buffer_size=AUTOTUNE)\n",
    "val_ds = val_ds.cache().prefetch(buffer_size=AUTOTUNE)\n",
    "test_ds = test_ds.cache().prefetch(buffer_size=AUTOTUNE)"
   ]
  },
  {
   "cell_type": "markdown",
   "id": "b7d8ed45-ddb8-4344-b970-d3672518691d",
   "metadata": {},
   "source": [
    "## Model Building"
   ]
  },
  {
   "cell_type": "code",
   "execution_count": 16,
   "id": "d2c63499-c60d-410a-b652-d68d6365a57d",
   "metadata": {
    "execution": {
     "iopub.execute_input": "2022-01-30T12:23:12.464093Z",
     "iopub.status.busy": "2022-01-30T12:23:12.464093Z",
     "iopub.status.idle": "2022-01-30T12:23:12.926551Z",
     "shell.execute_reply": "2022-01-30T12:23:12.926551Z",
     "shell.execute_reply.started": "2022-01-30T12:23:12.464093Z"
    },
    "tags": []
   },
   "outputs": [
    {
     "name": "stdout",
     "output_type": "stream",
     "text": [
      "Model: \"sequential\"\n",
      "_________________________________________________________________\n",
      "Layer (type)                 Output Shape              Param #   \n",
      "=================================================================\n",
      "embedding (Embedding)        (None, None, 16)          160000    \n",
      "_________________________________________________________________\n",
      "lstm (LSTM)                  (None, 16)                2112      \n",
      "_________________________________________________________________\n",
      "dense (Dense)                (None, 1)                 17        \n",
      "=================================================================\n",
      "Total params: 162,129\n",
      "Trainable params: 162,129\n",
      "Non-trainable params: 0\n",
      "_________________________________________________________________\n"
     ]
    }
   ],
   "source": [
    "# Hyperparams\n",
    "embedding_dim = 16\n",
    "hidden_units = 16\n",
    "\n",
    "model = tf.keras.Sequential([\n",
    "    tf.keras.layers.Embedding(max_tokens,\n",
    "                              embedding_dim,\n",
    "                              mask_zero=True), # IMPORTANT: tells sequence processing layers (like the LSTM below) to ignore padding!\n",
    "    tf.keras.layers.LSTM(hidden_units, return_sequences=False),\n",
    "    #tf.keras.layers.Dense(16, activation='relu'),\n",
    "    tf.keras.layers.Dense(1)\n",
    "])\n",
    "\n",
    "model.summary()"
   ]
  },
  {
   "cell_type": "code",
   "execution_count": 17,
   "id": "c965ba19-fd02-4045-9099-6a69bfa0fe65",
   "metadata": {
    "execution": {
     "iopub.execute_input": "2022-01-30T12:23:12.927552Z",
     "iopub.status.busy": "2022-01-30T12:23:12.927552Z",
     "iopub.status.idle": "2022-01-30T12:23:12.942565Z",
     "shell.execute_reply": "2022-01-30T12:23:12.942565Z",
     "shell.execute_reply.started": "2022-01-30T12:23:12.927552Z"
    },
    "tags": []
   },
   "outputs": [],
   "source": [
    "# Loss, optimizer, and metric\n",
    "model.compile(loss=tf.keras.losses.BinaryCrossentropy(from_logits=True), # no softmax/sigmoid at the end\n",
    "              optimizer=tf.keras.optimizers.Adam(learning_rate=0.001), # learning rate is something that should definitely be tuned!!!\n",
    "              metrics=['acc'])"
   ]
  },
  {
   "cell_type": "code",
   "execution_count": 18,
   "id": "708fed02-a1cc-42e3-859f-7184112aa310",
   "metadata": {
    "execution": {
     "iopub.execute_input": "2022-01-30T12:23:12.943566Z",
     "iopub.status.busy": "2022-01-30T12:23:12.943566Z",
     "iopub.status.idle": "2022-01-30T12:23:12.958580Z",
     "shell.execute_reply": "2022-01-30T12:23:12.958580Z",
     "shell.execute_reply.started": "2022-01-30T12:23:12.943566Z"
    },
    "tags": []
   },
   "outputs": [],
   "source": [
    "# Model checkpoint\n",
    "checkpoint_filepath = 'training_checkpoints/'\n",
    "\n",
    "model_checkpoint_callback = tf.keras.callbacks.ModelCheckpoint(\n",
    "    filepath=checkpoint_filepath,\n",
    "    save_weights_only=True,\n",
    "    monitor='val_acc',\n",
    "    mode='max',\n",
    "    save_best_only=True,\n",
    "    verbose=False)"
   ]
  },
  {
   "cell_type": "code",
   "execution_count": 19,
   "id": "0961be56-8ef6-4bb7-b5d0-e25126d0b7f3",
   "metadata": {
    "execution": {
     "iopub.execute_input": "2022-01-30T12:23:12.959580Z",
     "iopub.status.busy": "2022-01-30T12:23:12.959580Z",
     "iopub.status.idle": "2022-01-30T12:23:55.738494Z",
     "shell.execute_reply": "2022-01-30T12:23:55.738494Z",
     "shell.execute_reply.started": "2022-01-30T12:23:12.959580Z"
    },
    "scrolled": true,
    "tags": []
   },
   "outputs": [
    {
     "name": "stdout",
     "output_type": "stream",
     "text": [
      "Epoch 1/10\n",
      "313/313 [==============================] - 8s 17ms/step - loss: 0.5498 - acc: 0.6447 - val_loss: 0.4012 - val_acc: 0.8076\n",
      "Epoch 2/10\n",
      "313/313 [==============================] - 4s 12ms/step - loss: 0.3000 - acc: 0.8786 - val_loss: 0.3341 - val_acc: 0.8482\n",
      "Epoch 3/10\n",
      "313/313 [==============================] - 4s 12ms/step - loss: 0.2193 - acc: 0.9173 - val_loss: 0.3432 - val_acc: 0.8590\n",
      "Epoch 4/10\n",
      "313/313 [==============================] - 4s 12ms/step - loss: 0.1826 - acc: 0.9342 - val_loss: 0.3680 - val_acc: 0.8640\n",
      "Epoch 5/10\n",
      "313/313 [==============================] - 4s 12ms/step - loss: 0.1781 - acc: 0.9362 - val_loss: 0.4075 - val_acc: 0.8650\n",
      "Epoch 6/10\n",
      "313/313 [==============================] - 4s 12ms/step - loss: 0.1720 - acc: 0.9369 - val_loss: 0.3971 - val_acc: 0.8544\n",
      "Epoch 7/10\n",
      "313/313 [==============================] - 4s 12ms/step - loss: 0.1298 - acc: 0.9536 - val_loss: 0.4487 - val_acc: 0.8558\n",
      "Epoch 8/10\n",
      "313/313 [==============================] - 4s 12ms/step - loss: 0.1054 - acc: 0.9654 - val_loss: 0.5149 - val_acc: 0.8484\n",
      "Epoch 9/10\n",
      "313/313 [==============================] - 4s 12ms/step - loss: 0.1018 - acc: 0.9660 - val_loss: 0.4897 - val_acc: 0.8454\n",
      "Epoch 10/10\n",
      "313/313 [==============================] - 4s 12ms/step - loss: 0.0991 - acc: 0.9668 - val_loss: 0.5400 - val_acc: 0.8354\n"
     ]
    }
   ],
   "source": [
    "# train the model\n",
    "epochs = 10\n",
    "\n",
    "history = model.fit(\n",
    "    train_ds,\n",
    "    validation_data=val_ds,\n",
    "    epochs=epochs,\n",
    "    callbacks=[model_checkpoint_callback]) # can also try swapping out for early stopping"
   ]
  },
  {
   "cell_type": "code",
   "execution_count": 20,
   "id": "f1df1130-c341-4d8c-93d5-d9fc6358a88e",
   "metadata": {
    "execution": {
     "iopub.execute_input": "2022-01-30T12:23:55.739496Z",
     "iopub.status.busy": "2022-01-30T12:23:55.739496Z",
     "iopub.status.idle": "2022-01-30T12:23:55.898640Z",
     "shell.execute_reply": "2022-01-30T12:23:55.898640Z",
     "shell.execute_reply.started": "2022-01-30T12:23:55.739496Z"
    },
    "tags": []
   },
   "outputs": [
    {
     "data": {
      "image/png": "[encoded data removed]",
      "text/plain": [
       "<Figure size 1080x360 with 2 Axes>"
      ]
     },
     "metadata": {
      "needs_background": "light"
     },
     "output_type": "display_data"
    }
   ],
   "source": [
    "history_dict = history.history\n",
    "history_dict.keys()\n",
    "\n",
    "def plot_results(history):\n",
    "    fig, (ax1, ax2) = plt.subplots(1, 2, figsize=(15,5))\n",
    "    \n",
    "    # plot loss\n",
    "    loss = history.history['loss']\n",
    "    val_loss = history.history['val_loss']\n",
    "    epochs = range(1, len(loss) + 1)\n",
    "\n",
    "    ax2.plot(epochs, loss, 'ro', label='Training loss')\n",
    "    ax2.plot(epochs, val_loss, 'r', label='Validation loss')\n",
    "    ax2.set_title('Training and validation loss')\n",
    "    ax2.set_xlabel('Epochs')\n",
    "    ax2.legend()\n",
    "    \n",
    "    # plot accuracy \n",
    "    acc = history.history['acc']\n",
    "    val_acc = history.history['val_acc']\n",
    "\n",
    "    ax1.plot(epochs, acc, 'ko', label='Training acc')\n",
    "    ax1.plot(epochs, val_acc, 'k', label='Validation acc')\n",
    "    ax1.set_title('Training and validation accuracy')\n",
    "    ax1.set_xlabel('Epochs')\n",
    "    ax1.legend()\n",
    "\n",
    "plot_results(history)"
   ]
  },
  {
   "cell_type": "code",
   "execution_count": 21,
   "id": "52b7975a-dd32-44eb-9dce-31e4da13bfee",
   "metadata": {
    "execution": {
     "iopub.execute_input": "2022-01-30T12:23:55.899641Z",
     "iopub.status.busy": "2022-01-30T12:23:55.899641Z",
     "iopub.status.idle": "2022-01-30T12:23:58.918216Z",
     "shell.execute_reply": "2022-01-30T12:23:58.918216Z",
     "shell.execute_reply.started": "2022-01-30T12:23:55.899641Z"
    },
    "tags": []
   },
   "outputs": [
    {
     "name": "stdout",
     "output_type": "stream",
     "text": [
      "391/391 [==============================] - 3s 7ms/step - loss: 0.4351 - acc: 0.8498\n",
      "Loss:  0.43509846925735474\n",
      "Accuracy:  0.8497999906539917\n"
     ]
    }
   ],
   "source": [
    "# load best weights\n",
    "model.load_weights(checkpoint_filepath)\n",
    "\n",
    "loss, accuracy = model.evaluate(test_ds)\n",
    "\n",
    "print(\"Loss: \", loss)\n",
    "print(\"Accuracy: \", accuracy)"
   ]
  },
  {
   "cell_type": "markdown",
   "id": "5957652c-c543-4558-b605-478c031f66a6",
   "metadata": {},
   "source": [
    "## Add `TextVectorization` Layer to the Model"
   ]
  },
  {
   "cell_type": "code",
   "execution_count": 22,
   "id": "9cfb4955-ee50-49d5-87af-14dcbc04352c",
   "metadata": {
    "execution": {
     "iopub.execute_input": "2022-01-30T12:23:58.919217Z",
     "iopub.status.busy": "2022-01-30T12:23:58.918216Z",
     "iopub.status.idle": "2022-01-30T12:24:04.646171Z",
     "shell.execute_reply": "2022-01-30T12:24:04.646171Z",
     "shell.execute_reply.started": "2022-01-30T12:23:58.919217Z"
    },
    "tags": []
   },
   "outputs": [
    {
     "name": "stdout",
     "output_type": "stream",
     "text": [
      "391/391 [==============================] - 5s 11ms/step - loss: 0.4351 - acc: 0.8500\n",
      "0.8499600291252136\n"
     ]
    }
   ],
   "source": [
    "final_model = tf.keras.Sequential([\n",
    "    vectorize_layer,\n",
    "    model,\n",
    "    tf.keras.layers.Activation('sigmoid')\n",
    "])\n",
    "\n",
    "final_model.compile(loss=tf.keras.losses.BinaryCrossentropy(from_logits=False), # we added a sigmoid at the end\n",
    "                    optimizer='adam',\n",
    "                    metrics=['acc'])\n",
    "\n",
    "loss, accuracy = final_model.evaluate(raw_test_ds) # now we can pass the \"raw\" test dataset\n",
    "print(accuracy)"
   ]
  },
  {
   "cell_type": "markdown",
   "id": "49f4df60-866e-4b7f-b516-ff9de838c205",
   "metadata": {},
   "source": [
    "## Inference on New Data"
   ]
  },
  {
   "cell_type": "code",
   "execution_count": 23,
   "id": "af7f92dd-896c-4cf5-9901-9109e9dd711e",
   "metadata": {
    "execution": {
     "iopub.execute_input": "2022-01-30T12:24:04.647173Z",
     "iopub.status.busy": "2022-01-30T12:24:04.647173Z",
     "iopub.status.idle": "2022-01-30T12:24:05.347104Z",
     "shell.execute_reply": "2022-01-30T12:24:05.347104Z",
     "shell.execute_reply.started": "2022-01-30T12:24:04.647173Z"
    },
    "tags": []
   },
   "outputs": [
    {
     "name": "stdout",
     "output_type": "stream",
     "text": [
      "The movie was great. --> [0.7565752]\n",
      "The movie was good. --> [0.6183945]\n",
      "The movie was ok. --> [0.3494641]\n",
      "The movie was bad. --> [0.22280394]\n",
      "The movie was terrible. --> [0.18135598]\n",
      "thisisgibberishlol --> [0.514967]\n"
     ]
    }
   ],
   "source": [
    "sample = [\n",
    "    'The movie was great.',\n",
    "    'The movie was good.',\n",
    "    'The movie was ok.',\n",
    "    'The movie was bad.',\n",
    "    'The movie was terrible.',\n",
    "    'thisisgibberishlol'\n",
    "]\n",
    "\n",
    "for sample, pred in zip(sample, final_model.predict(sample)):\n",
    "    print(f'{sample} --> {pred}')"
   ]
  },
  {
   "cell_type": "markdown",
   "id": "b9655a9d-4aba-4024-a306-a9a0cf02a068",
   "metadata": {},
   "source": [
    "## References\n",
    "\n",
    "---\n",
    "\n",
    "[1] https://www.tensorflow.org/tutorials/keras/text_classification\n",
    "\n",
    "[2] https://www.tensorflow.org/text/tutorials/text_classification_rnn"
   ]
  },
  {
   "cell_type": "code",
   "execution_count": null,
   "id": "b7abc128-e1e1-446a-a01a-24b7cc9a9a32",
   "metadata": {},
   "outputs": [],
   "source": []
  }
 ],
 "metadata": {
  "kernelspec": {
   "display_name": "Python [conda env:tf-2.6]",
   "language": "python",
   "name": "conda-env-tf-2.6-py"
  },
  "language_info": {
   "codemirror_mode": {
    "name": "ipython",
    "version": 3
   },
   "file_extension": ".py",
   "mimetype": "text/x-python",
   "name": "python",
   "nbconvert_exporter": "python",
   "pygments_lexer": "ipython3",
   "version": "3.9.7"
  }
 },
 "nbformat": 4,
 "nbformat_minor": 5
}
