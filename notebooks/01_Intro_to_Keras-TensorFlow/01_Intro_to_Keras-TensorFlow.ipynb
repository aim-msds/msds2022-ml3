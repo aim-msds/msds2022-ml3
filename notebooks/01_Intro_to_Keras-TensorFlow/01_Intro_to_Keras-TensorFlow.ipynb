{
 "cells": [
  {
   "cell_type": "code",
   "execution_count": 1,
   "id": "8429b84a",
   "metadata": {
    "ExecuteTime": {
     "end_time": "2022-01-14T10:39:03.064326Z",
     "start_time": "2022-01-14T10:38:40.369900Z"
    }
   },
   "outputs": [],
   "source": [
    "import tensorflow as tf"
   ]
  },
  {
   "cell_type": "markdown",
   "id": "4f65057d",
   "metadata": {},
   "source": [
    "# Introduction to Keras-TensorFlow"
   ]
  },
  {
   "cell_type": "markdown",
   "id": "65ebf4f1",
   "metadata": {},
   "source": [
    "## First steps with TensorFlow"
   ]
  },
  {
   "cell_type": "markdown",
   "id": "a871556c",
   "metadata": {},
   "source": [
    "### Constant tensors and variables"
   ]
  },
  {
   "cell_type": "markdown",
   "id": "05e37d1c",
   "metadata": {},
   "source": [
    "#### Ones and zeros"
   ]
  },
  {
   "cell_type": "code",
   "execution_count": 2,
   "id": "e479b20e",
   "metadata": {
    "ExecuteTime": {
     "end_time": "2022-01-14T10:39:06.372041Z",
     "start_time": "2022-01-14T10:39:03.066874Z"
    }
   },
   "outputs": [
    {
     "name": "stdout",
     "output_type": "stream",
     "text": [
      "tf.Tensor(\n",
      "[[1.]\n",
      " [1.]], shape=(2, 1), dtype=float32)\n"
     ]
    }
   ],
   "source": [
    "x = tf.ones(shape=(2, 1))\n",
    "print(x)"
   ]
  },
  {
   "cell_type": "code",
   "execution_count": 3,
   "id": "10ee8ced",
   "metadata": {
    "ExecuteTime": {
     "end_time": "2022-01-14T10:39:06.387040Z",
     "start_time": "2022-01-14T10:39:06.376040Z"
    }
   },
   "outputs": [
    {
     "name": "stdout",
     "output_type": "stream",
     "text": [
      "tf.Tensor(\n",
      "[[0.]\n",
      " [0.]], shape=(2, 1), dtype=float32)\n"
     ]
    }
   ],
   "source": [
    "x = tf.zeros(shape=(2, 1))\n",
    "print(x)"
   ]
  },
  {
   "cell_type": "markdown",
   "id": "11c6cd4f",
   "metadata": {},
   "source": [
    "#### Random tensors"
   ]
  },
  {
   "cell_type": "code",
   "execution_count": 4,
   "id": "8eaed138",
   "metadata": {
    "ExecuteTime": {
     "end_time": "2022-01-14T10:39:06.418041Z",
     "start_time": "2022-01-14T10:39:06.393042Z"
    }
   },
   "outputs": [
    {
     "name": "stdout",
     "output_type": "stream",
     "text": [
      "tf.Tensor(\n",
      "[[-0.3384881 ]\n",
      " [ 1.7182436 ]\n",
      " [ 0.36790192]], shape=(3, 1), dtype=float32)\n"
     ]
    }
   ],
   "source": [
    "x = tf.random.normal(shape=(3, 1), mean=0., stddev=1.)\n",
    "print(x)"
   ]
  },
  {
   "cell_type": "code",
   "execution_count": 5,
   "id": "105c9f6a",
   "metadata": {
    "ExecuteTime": {
     "end_time": "2022-01-14T10:39:06.434041Z",
     "start_time": "2022-01-14T10:39:06.422043Z"
    }
   },
   "outputs": [
    {
     "name": "stdout",
     "output_type": "stream",
     "text": [
      "tf.Tensor(\n",
      "[[0.79206264]\n",
      " [0.33412766]\n",
      " [0.02529824]], shape=(3, 1), dtype=float32)\n"
     ]
    }
   ],
   "source": [
    "x = tf.random.uniform(shape=(3, 1), minval=0., maxval=1.)\n",
    "print(x)"
   ]
  },
  {
   "cell_type": "code",
   "execution_count": 6,
   "id": "d55bd088",
   "metadata": {
    "ExecuteTime": {
     "end_time": "2022-01-14T10:39:10.011439Z",
     "start_time": "2022-01-14T10:39:06.438043Z"
    }
   },
   "outputs": [
    {
     "ename": "TypeError",
     "evalue": "'tensorflow.python.framework.ops.EagerTensor' object does not support item assignment",
     "output_type": "error",
     "traceback": [
      "\u001b[1;31m---------------------------------------------------------------------------\u001b[0m",
      "\u001b[1;31mTypeError\u001b[0m                                 Traceback (most recent call last)",
      "\u001b[1;32mC:\\Users\\COMPUT~1\\AppData\\Local\\Temp/ipykernel_17552/2129814250.py\u001b[0m in \u001b[0;36m<module>\u001b[1;34m\u001b[0m\n\u001b[1;32m----> 1\u001b[1;33m \u001b[0mx\u001b[0m\u001b[1;33m[\u001b[0m\u001b[1;36m0\u001b[0m\u001b[1;33m]\u001b[0m \u001b[1;33m=\u001b[0m \u001b[1;36m1\u001b[0m\u001b[1;33m\u001b[0m\u001b[1;33m\u001b[0m\u001b[0m\n\u001b[0m",
      "\u001b[1;31mTypeError\u001b[0m: 'tensorflow.python.framework.ops.EagerTensor' object does not support item assignment"
     ]
    }
   ],
   "source": [
    "x[0] = 1"
   ]
  },
  {
   "cell_type": "code",
   "execution_count": 7,
   "id": "f2e0a8d9",
   "metadata": {
    "ExecuteTime": {
     "end_time": "2022-01-14T10:39:15.149083Z",
     "start_time": "2022-01-14T10:39:15.126120Z"
    }
   },
   "outputs": [
    {
     "name": "stdout",
     "output_type": "stream",
     "text": [
      "<tf.Variable 'Variable:0' shape=(3, 1) dtype=float32, numpy=\n",
      "array([[-1.0441976],\n",
      "       [-1.0795966],\n",
      "       [-1.463908 ]], dtype=float32)>\n"
     ]
    }
   ],
   "source": [
    "v = tf.Variable(initial_value=tf.random.normal(shape=(3, 1)))\n",
    "print(v)"
   ]
  },
  {
   "cell_type": "code",
   "execution_count": 8,
   "id": "54b08b99",
   "metadata": {
    "ExecuteTime": {
     "end_time": "2022-01-14T10:39:15.720032Z",
     "start_time": "2022-01-14T10:39:15.702716Z"
    }
   },
   "outputs": [
    {
     "data": {
      "text/plain": [
       "<tf.Variable 'UnreadVariable' shape=(3, 1) dtype=float32, numpy=\n",
       "array([[1.],\n",
       "       [1.],\n",
       "       [1.]], dtype=float32)>"
      ]
     },
     "execution_count": 8,
     "metadata": {},
     "output_type": "execute_result"
    }
   ],
   "source": [
    "v.assign(tf.ones((3, 1)))"
   ]
  },
  {
   "cell_type": "code",
   "execution_count": 9,
   "id": "154ee8d8",
   "metadata": {
    "ExecuteTime": {
     "end_time": "2022-01-14T10:39:16.105222Z",
     "start_time": "2022-01-14T10:39:16.077872Z"
    }
   },
   "outputs": [
    {
     "data": {
      "text/plain": [
       "<tf.Variable 'UnreadVariable' shape=(3, 1) dtype=float32, numpy=\n",
       "array([[3.],\n",
       "       [1.],\n",
       "       [1.]], dtype=float32)>"
      ]
     },
     "execution_count": 9,
     "metadata": {},
     "output_type": "execute_result"
    }
   ],
   "source": [
    "v[0, 0].assign(3.)"
   ]
  },
  {
   "cell_type": "code",
   "execution_count": 10,
   "id": "2b951cbf",
   "metadata": {
    "ExecuteTime": {
     "end_time": "2022-01-14T10:39:16.457097Z",
     "start_time": "2022-01-14T10:39:16.437733Z"
    }
   },
   "outputs": [
    {
     "data": {
      "text/plain": [
       "<tf.Variable 'UnreadVariable' shape=(3, 1) dtype=float32, numpy=\n",
       "array([[4.],\n",
       "       [2.],\n",
       "       [2.]], dtype=float32)>"
      ]
     },
     "execution_count": 10,
     "metadata": {},
     "output_type": "execute_result"
    }
   ],
   "source": [
    "v.assign_add(tf.ones((3, 1)))"
   ]
  },
  {
   "cell_type": "markdown",
   "id": "ebcb88f7",
   "metadata": {},
   "source": [
    "### Tensor operations"
   ]
  },
  {
   "cell_type": "markdown",
   "id": "a9220646",
   "metadata": {},
   "source": [
    "#### Basic math operations"
   ]
  },
  {
   "cell_type": "code",
   "execution_count": 11,
   "id": "6abaf9b3",
   "metadata": {
    "ExecuteTime": {
     "end_time": "2022-01-14T10:39:19.844355Z",
     "start_time": "2022-01-14T10:39:17.830217Z"
    }
   },
   "outputs": [],
   "source": [
    "a = tf.ones((2, 2))\n",
    "b = tf.square(a)\n",
    "c = tf.sqrt(a)\n",
    "d = b + c\n",
    "e = tf.matmul(a, b)\n",
    "e *= d"
   ]
  },
  {
   "cell_type": "code",
   "execution_count": 12,
   "id": "cfffade2",
   "metadata": {
    "ExecuteTime": {
     "end_time": "2022-01-14T10:39:19.860356Z",
     "start_time": "2022-01-14T10:39:19.847356Z"
    }
   },
   "outputs": [
    {
     "data": {
      "text/plain": [
       "<tf.Tensor: shape=(2, 2), dtype=float32, numpy=\n",
       "array([[4., 4.],\n",
       "       [4., 4.]], dtype=float32)>"
      ]
     },
     "execution_count": 12,
     "metadata": {},
     "output_type": "execute_result"
    }
   ],
   "source": [
    "e"
   ]
  },
  {
   "cell_type": "markdown",
   "id": "1e5f8c70",
   "metadata": {},
   "source": [
    "#### Taking the gradient using `GradientTape`"
   ]
  },
  {
   "cell_type": "markdown",
   "id": "c88a5133",
   "metadata": {},
   "source": [
    "##### Computing the gradient with variable inputs"
   ]
  },
  {
   "cell_type": "code",
   "execution_count": 13,
   "id": "015b04ee",
   "metadata": {
    "ExecuteTime": {
     "end_time": "2022-01-14T10:39:22.494549Z",
     "start_time": "2022-01-14T10:39:22.479548Z"
    }
   },
   "outputs": [],
   "source": [
    "input_var = tf.Variable(initial_value=3.)\n",
    "with tf.GradientTape() as tape:\n",
    "    result = tf.square(input_var)\n",
    "gradient = tape.gradient(result, input_var)"
   ]
  },
  {
   "cell_type": "code",
   "execution_count": 14,
   "id": "6fdda807",
   "metadata": {
    "ExecuteTime": {
     "end_time": "2022-01-14T10:39:22.929873Z",
     "start_time": "2022-01-14T10:39:22.910871Z"
    }
   },
   "outputs": [
    {
     "data": {
      "text/plain": [
       "<tf.Tensor: shape=(), dtype=float32, numpy=6.0>"
      ]
     },
     "execution_count": 14,
     "metadata": {},
     "output_type": "execute_result"
    }
   ],
   "source": [
    "gradient"
   ]
  },
  {
   "cell_type": "markdown",
   "id": "bd6cde7a",
   "metadata": {},
   "source": [
    "##### Computing the gradient with constant tensor inputs"
   ]
  },
  {
   "cell_type": "code",
   "execution_count": 15,
   "id": "5eaf69de",
   "metadata": {
    "ExecuteTime": {
     "end_time": "2022-01-14T10:39:23.678830Z",
     "start_time": "2022-01-14T10:39:23.669830Z"
    }
   },
   "outputs": [],
   "source": [
    "input_const = tf.constant(3.)\n",
    "with tf.GradientTape() as tape:\n",
    "    tape.watch(input_const)\n",
    "    result = tf.square(input_const)\n",
    "gradient = tape.gradient(result, input_const)"
   ]
  },
  {
   "cell_type": "code",
   "execution_count": 16,
   "id": "f8502e84",
   "metadata": {
    "ExecuteTime": {
     "end_time": "2022-01-14T10:39:24.267778Z",
     "start_time": "2022-01-14T10:39:24.254781Z"
    }
   },
   "outputs": [
    {
     "data": {
      "text/plain": [
       "<tf.Tensor: shape=(), dtype=float32, numpy=6.0>"
      ]
     },
     "execution_count": 16,
     "metadata": {},
     "output_type": "execute_result"
    }
   ],
   "source": [
    "gradient"
   ]
  },
  {
   "cell_type": "markdown",
   "id": "0d6ca9bc",
   "metadata": {},
   "source": [
    "##### Nested gradient tapes to compute second-order gradients"
   ]
  },
  {
   "cell_type": "code",
   "execution_count": 17,
   "id": "482cc9f0",
   "metadata": {
    "ExecuteTime": {
     "end_time": "2022-01-14T10:39:25.254216Z",
     "start_time": "2022-01-14T10:39:25.246212Z"
    }
   },
   "outputs": [],
   "source": [
    "time = tf.Variable(1.)\n",
    "with tf.GradientTape() as outer_tape:\n",
    "    with tf.GradientTape() as inner_tape:\n",
    "        position =  4.9 * time ** 2\n",
    "    speed = inner_tape.gradient(position, time)\n",
    "acceleration = outer_tape.gradient(speed, time)"
   ]
  },
  {
   "cell_type": "code",
   "execution_count": 18,
   "id": "35eff129",
   "metadata": {
    "ExecuteTime": {
     "end_time": "2022-01-14T10:39:25.656205Z",
     "start_time": "2022-01-14T10:39:25.646205Z"
    }
   },
   "outputs": [
    {
     "data": {
      "text/plain": [
       "<tf.Tensor: shape=(), dtype=float32, numpy=9.8>"
      ]
     },
     "execution_count": 18,
     "metadata": {},
     "output_type": "execute_result"
    }
   ],
   "source": [
    "acceleration"
   ]
  },
  {
   "cell_type": "markdown",
   "id": "12e58ba1",
   "metadata": {},
   "source": [
    "### Example 1: A linear classifier in pure TensorFlow"
   ]
  },
  {
   "cell_type": "code",
   "execution_count": 19,
   "id": "0aa9f84d",
   "metadata": {
    "ExecuteTime": {
     "end_time": "2022-01-14T10:39:27.570328Z",
     "start_time": "2022-01-14T10:39:26.677415Z"
    }
   },
   "outputs": [],
   "source": [
    "import numpy as np\n",
    "import matplotlib.pyplot as plt"
   ]
  },
  {
   "cell_type": "markdown",
   "id": "e1438a1c",
   "metadata": {},
   "source": [
    "#### Generating dummy datasets"
   ]
  },
  {
   "cell_type": "code",
   "execution_count": 20,
   "id": "e3421f45",
   "metadata": {
    "ExecuteTime": {
     "end_time": "2022-01-14T10:39:29.088903Z",
     "start_time": "2022-01-14T10:39:29.054904Z"
    }
   },
   "outputs": [],
   "source": [
    "# Set the numebr of class\n",
    "num_samples_per_class = 1000\n",
    "\n",
    "# Set the negative samples\n",
    "negative_samples = np.random.multivariate_normal(\n",
    "    mean=[0, 3],\n",
    "    cov=[[1, 0.5],[0.5, 1]],\n",
    "    size=num_samples_per_class)\n",
    "\n",
    "# Set the positive samples\n",
    "positive_samples = np.random.multivariate_normal(\n",
    "    mean=[3, 0],\n",
    "    cov=[[1, 0.5],[0.5, 1]],\n",
    "    size=num_samples_per_class)\n",
    "\n",
    "# Set the inputs and the targets\n",
    "inputs = np.vstack((negative_samples, positive_samples)).astype(np.float32)\n",
    "targets = np.vstack((np.zeros((num_samples_per_class, 1), dtype=\"float32\"),\n",
    "                     np.ones((num_samples_per_class, 1), dtype=\"float32\")))"
   ]
  },
  {
   "cell_type": "code",
   "execution_count": 21,
   "id": "f912df7c",
   "metadata": {
    "ExecuteTime": {
     "end_time": "2022-01-14T10:39:29.746497Z",
     "start_time": "2022-01-14T10:39:29.534502Z"
    }
   },
   "outputs": [
    {
     "data": {
      "image/png": "[encoded data removed]",
      "text/plain": [
       "<Figure size 432x288 with 1 Axes>"
      ]
     },
     "metadata": {
      "needs_background": "light"
     },
     "output_type": "display_data"
    }
   ],
   "source": [
    "plt.scatter(inputs[:, 0], inputs[:, 1], c=targets[:, 0])\n",
    "plt.show()"
   ]
  },
  {
   "cell_type": "markdown",
   "id": "14ebc2ed",
   "metadata": {},
   "source": [
    "Solve the problem using a linear classifier defined by:\n",
    "\n",
    "$$\n",
    "y = Wx + b\n",
    "$$"
   ]
  },
  {
   "cell_type": "code",
   "execution_count": 23,
   "id": "02e0fff1",
   "metadata": {
    "ExecuteTime": {
     "end_time": "2022-01-14T10:39:33.159697Z",
     "start_time": "2022-01-14T10:39:32.994693Z"
    }
   },
   "outputs": [
    {
     "name": "stdout",
     "output_type": "stream",
     "text": [
      "Loss at step 0: 6.2053\n",
      "Loss at step 1: 0.7613\n",
      "Loss at step 2: 0.2269\n",
      "Loss at step 3: 0.1544\n",
      "Loss at step 4: 0.1370\n",
      "Loss at step 5: 0.1267\n",
      "Loss at step 6: 0.1180\n",
      "Loss at step 7: 0.1101\n",
      "Loss at step 8: 0.1029\n",
      "Loss at step 9: 0.0963\n",
      "Loss at step 10: 0.0903\n",
      "Loss at step 11: 0.0848\n",
      "Loss at step 12: 0.0797\n",
      "Loss at step 13: 0.0751\n",
      "Loss at step 14: 0.0709\n",
      "Loss at step 15: 0.0671\n",
      "Loss at step 16: 0.0636\n",
      "Loss at step 17: 0.0604\n",
      "Loss at step 18: 0.0574\n",
      "Loss at step 19: 0.0547\n",
      "Loss at step 20: 0.0523\n",
      "Loss at step 21: 0.0500\n",
      "Loss at step 22: 0.0480\n",
      "Loss at step 23: 0.0461\n",
      "Loss at step 24: 0.0444\n",
      "Loss at step 25: 0.0428\n",
      "Loss at step 26: 0.0414\n",
      "Loss at step 27: 0.0401\n",
      "Loss at step 28: 0.0389\n",
      "Loss at step 29: 0.0378\n",
      "Loss at step 30: 0.0368\n",
      "Loss at step 31: 0.0358\n",
      "Loss at step 32: 0.0350\n",
      "Loss at step 33: 0.0342\n",
      "Loss at step 34: 0.0335\n",
      "Loss at step 35: 0.0329\n",
      "Loss at step 36: 0.0323\n",
      "Loss at step 37: 0.0318\n",
      "Loss at step 38: 0.0313\n",
      "Loss at step 39: 0.0308\n"
     ]
    }
   ],
   "source": [
    "# Define the input and output dimensions\n",
    "input_dim = 2\n",
    "output_dim = 1\n",
    "\n",
    "# Initialize weights and biases\n",
    "W = tf.Variable(initial_value=tf.random.uniform(shape=(input_dim, output_dim)))\n",
    "b = tf.Variable(initial_value=tf.zeros(shape=(output_dim,)))\n",
    "\n",
    "# Define the model; this is essentially the forward-propagation\n",
    "def model(inputs):\n",
    "    return tf.matmul(inputs, W) + b\n",
    "\n",
    "# Define the loss function\n",
    "def square_loss(targets, predictions):\n",
    "    per_sample_losses = tf.square(targets - predictions)\n",
    "\n",
    "    return tf.reduce_mean(per_sample_losses)\n",
    "\n",
    "# Define the training step\n",
    "def training_step(inputs, targets, learning_rate=0.1):\n",
    "    with tf.GradientTape() as tape:\n",
    "        predictions = model(inputs)\n",
    "        loss = square_loss(predictions, targets)\n",
    "    grad_loss_wrt_W, grad_loss_wrt_b = tape.gradient(loss, [W, b])\n",
    "    W.assign_sub(grad_loss_wrt_W * learning_rate)\n",
    "    b.assign_sub(grad_loss_wrt_b * learning_rate)\n",
    "\n",
    "    return loss\n",
    "\n",
    "# Perform batch training\n",
    "for step in range(40):\n",
    "    loss = training_step(inputs, targets)\n",
    "    print(f\"Loss at step {step}: {loss:.4f}\")"
   ]
  },
  {
   "cell_type": "code",
   "execution_count": 24,
   "id": "44764bf0",
   "metadata": {
    "ExecuteTime": {
     "end_time": "2022-01-14T10:39:36.351989Z",
     "start_time": "2022-01-14T10:39:36.215987Z"
    }
   },
   "outputs": [
    {
     "data": {
      "image/png": "[encoded data removed]",
      "text/plain": [
       "<Figure size 432x288 with 1 Axes>"
      ]
     },
     "metadata": {
      "needs_background": "light"
     },
     "output_type": "display_data"
    }
   ],
   "source": [
    "# Generate predictions\n",
    "predictions = model(inputs)\n",
    "plt.scatter(inputs[:, 0], inputs[:, 1], c=predictions[:, 0] > 0.5)\n",
    "plt.show()"
   ]
  },
  {
   "cell_type": "code",
   "execution_count": 25,
   "id": "84d2a4a7",
   "metadata": {
    "ExecuteTime": {
     "end_time": "2022-01-14T10:39:36.695989Z",
     "start_time": "2022-01-14T10:39:36.557992Z"
    }
   },
   "outputs": [
    {
     "data": {
      "image/png": "[encoded data removed]",
      "text/plain": [
       "<Figure size 432x288 with 1 Axes>"
      ]
     },
     "metadata": {
      "needs_background": "light"
     },
     "output_type": "display_data"
    }
   ],
   "source": [
    "# Generate decision boundary line\n",
    "x = np.linspace(-1, 4, 100)\n",
    "y = - W[0] /  W[1] * x + (0.5 - b) / W[1]\n",
    "\n",
    "plt.plot(x, y, \"-r\")\n",
    "plt.scatter(inputs[:, 0], inputs[:, 1], c=predictions[:, 0] > 0.5);"
   ]
  },
  {
   "cell_type": "markdown",
   "id": "9a661338",
   "metadata": {},
   "source": [
    "## Keras API"
   ]
  },
  {
   "cell_type": "markdown",
   "id": "18f56bfb",
   "metadata": {},
   "source": [
    "There are three APIs for building models in Keras:\n",
    "\n",
    "1. The **Sequential model**, the most approachable API - which basically constructs a Python list containing the different layers that you want to use.\n",
    "2. The **Functional API**, which focuses on grpah-like model architectures. It represents a nice mid-point between useability and flexibility, and as such, its the most commonly used model-building API.\n",
    "3. **Model subclassing**, a low-level option where you write everything yourself from scratch."
   ]
  },
  {
   "cell_type": "markdown",
   "id": "33efa9ea",
   "metadata": {},
   "source": [
    "### MNIST Dataset"
   ]
  },
  {
   "cell_type": "code",
   "execution_count": 26,
   "id": "e267e9ce",
   "metadata": {
    "ExecuteTime": {
     "end_time": "2022-01-14T10:40:05.451402Z",
     "start_time": "2022-01-14T10:40:02.274751Z"
    }
   },
   "outputs": [
    {
     "name": "stdout",
     "output_type": "stream",
     "text": [
      "Downloading data from https://storage.googleapis.com/tensorflow/tf-keras-datasets/mnist.npz\n",
      "11493376/11490434 [==============================] - 1s 0us/step\n",
      "11501568/11490434 [==============================] - 1s 0us/step\n"
     ]
    }
   ],
   "source": [
    "from tensorflow.keras.datasets import mnist\n",
    "\n",
    "(train_images, train_labels), (test_images, test_labels) = mnist.load_data()"
   ]
  },
  {
   "cell_type": "code",
   "execution_count": 27,
   "id": "efe940c0",
   "metadata": {
    "ExecuteTime": {
     "end_time": "2022-01-14T10:40:05.766404Z",
     "start_time": "2022-01-14T10:40:05.454403Z"
    }
   },
   "outputs": [],
   "source": [
    "train_images = train_images.reshape((60000, 28 * 28))\n",
    "train_images = train_images.astype(\"float32\") / 255\n",
    "test_images = test_images.reshape((10000, 28 * 28))\n",
    "test_images = test_images.astype(\"float32\") / 255"
   ]
  },
  {
   "cell_type": "code",
   "execution_count": 28,
   "id": "858f2446",
   "metadata": {
    "ExecuteTime": {
     "end_time": "2022-01-14T10:40:06.414531Z",
     "start_time": "2022-01-14T10:40:06.394532Z"
    }
   },
   "outputs": [
    {
     "data": {
      "text/plain": [
       "(60000, 784)"
      ]
     },
     "execution_count": 28,
     "metadata": {},
     "output_type": "execute_result"
    }
   ],
   "source": [
    "train_images.shape"
   ]
  },
  {
   "cell_type": "code",
   "execution_count": 29,
   "id": "28928639",
   "metadata": {
    "ExecuteTime": {
     "end_time": "2022-01-14T10:40:07.648393Z",
     "start_time": "2022-01-14T10:40:07.504215Z"
    }
   },
   "outputs": [
    {
     "name": "stdout",
     "output_type": "stream",
     "text": [
      "Image label: 4\n"
     ]
    },
    {
     "data": {
      "image/png": "[encoded data removed]",
      "text/plain": [
       "<Figure size 432x288 with 1 Axes>"
      ]
     },
     "metadata": {
      "needs_background": "light"
     },
     "output_type": "display_data"
    }
   ],
   "source": [
    "sample_number = 2\n",
    "\n",
    "plt.imshow(train_images[sample_number].reshape(28, 28, 1), cmap='gray')\n",
    "print(f\"Image label: {train_labels[sample_number]}\")"
   ]
  },
  {
   "cell_type": "markdown",
   "id": "5c0eaf96",
   "metadata": {},
   "source": [
    "### Sequential model"
   ]
  },
  {
   "cell_type": "code",
   "execution_count": 30,
   "id": "7ff0759d",
   "metadata": {
    "ExecuteTime": {
     "end_time": "2022-01-14T10:40:09.601074Z",
     "start_time": "2022-01-14T10:40:09.511206Z"
    }
   },
   "outputs": [],
   "source": [
    "from tensorflow import keras\n",
    "from tensorflow.keras import layers\n",
    "\n",
    "# Define using layers API\n",
    "model = keras.Sequential([\n",
    "    layers.Dense(512, activation=\"relu\"),\n",
    "    layers.Dense(10, activation=\"softmax\")\n",
    "])"
   ]
  },
  {
   "cell_type": "code",
   "execution_count": 31,
   "id": "96ded766",
   "metadata": {
    "ExecuteTime": {
     "end_time": "2022-01-14T10:40:10.800698Z",
     "start_time": "2022-01-14T10:40:10.776203Z"
    }
   },
   "outputs": [],
   "source": [
    "model.compile(optimizer=\"rmsprop\",\n",
    "              loss=\"sparse_categorical_crossentropy\",\n",
    "              metrics=[\"accuracy\"])"
   ]
  },
  {
   "cell_type": "code",
   "execution_count": 32,
   "id": "8dcca5cb",
   "metadata": {
    "ExecuteTime": {
     "end_time": "2022-01-14T10:40:20.432905Z",
     "start_time": "2022-01-14T10:40:11.182383Z"
    }
   },
   "outputs": [
    {
     "name": "stdout",
     "output_type": "stream",
     "text": [
      "Epoch 1/5\n",
      "469/469 [==============================] - 2s 3ms/step - loss: 0.2568 - accuracy: 0.9255\n",
      "Epoch 2/5\n",
      "469/469 [==============================] - 2s 3ms/step - loss: 0.1037 - accuracy: 0.9695\n",
      "Epoch 3/5\n",
      "469/469 [==============================] - 1s 3ms/step - loss: 0.0680 - accuracy: 0.9802\n",
      "Epoch 4/5\n",
      "469/469 [==============================] - 1s 3ms/step - loss: 0.0495 - accuracy: 0.9852\n",
      "Epoch 5/5\n",
      "469/469 [==============================] - 1s 3ms/step - loss: 0.0372 - accuracy: 0.9888\n"
     ]
    },
    {
     "data": {
      "text/plain": [
       "<keras.callbacks.History at 0x230d1d19370>"
      ]
     },
     "execution_count": 32,
     "metadata": {},
     "output_type": "execute_result"
    }
   ],
   "source": [
    "model.fit(train_images, train_labels, epochs=5, batch_size=128)"
   ]
  },
  {
   "cell_type": "code",
   "execution_count": 33,
   "id": "2e3f280c",
   "metadata": {
    "ExecuteTime": {
     "end_time": "2022-01-14T10:40:22.440188Z",
     "start_time": "2022-01-14T10:40:22.239158Z"
    }
   },
   "outputs": [
    {
     "name": "stdout",
     "output_type": "stream",
     "text": [
      "Predicted: 7\n",
      "Actual: 7\n"
     ]
    },
    {
     "data": {
      "image/png": "[encoded data removed]",
      "text/plain": [
       "<Figure size 432x288 with 1 Axes>"
      ]
     },
     "metadata": {
      "needs_background": "light"
     },
     "output_type": "display_data"
    }
   ],
   "source": [
    "# Select the first 10 images\n",
    "test_digits = test_images[0:10]\n",
    "\n",
    "# Get the model predictions\n",
    "predictions = model.predict(test_digits)\n",
    "\n",
    "# Look at a specific sample number\n",
    "sample_number = 0\n",
    "\n",
    "prediction = np.argmax(predictions[sample_number])\n",
    "actual = test_labels[sample_number]\n",
    "\n",
    "plt.imshow(test_images[sample_number].reshape(28, 28, 1), cmap='gray')\n",
    "print(f\"Predicted: {prediction}\\nActual: {actual}\")"
   ]
  },
  {
   "cell_type": "code",
   "execution_count": 34,
   "id": "0ffca904",
   "metadata": {
    "ExecuteTime": {
     "end_time": "2022-01-14T10:40:24.174330Z",
     "start_time": "2022-01-14T10:40:23.462840Z"
    }
   },
   "outputs": [
    {
     "name": "stdout",
     "output_type": "stream",
     "text": [
      "313/313 [==============================] - 1s 2ms/step - loss: 0.0704 - accuracy: 0.9796\n",
      "Test accuracy: 0.980\n"
     ]
    }
   ],
   "source": [
    "test_loss, test_acc = model.evaluate(test_images, test_labels)\n",
    "print(f\"Test accuracy: {test_acc:.3f}\")"
   ]
  },
  {
   "cell_type": "markdown",
   "id": "4477df6c",
   "metadata": {},
   "source": [
    "### Functional API"
   ]
  },
  {
   "cell_type": "code",
   "execution_count": 35,
   "id": "34182e8d",
   "metadata": {
    "ExecuteTime": {
     "end_time": "2022-01-14T10:40:25.533451Z",
     "start_time": "2022-01-14T10:40:25.510450Z"
    }
   },
   "outputs": [],
   "source": [
    "inputs = keras.Input(shape=(28 * 28,))\n",
    "\n",
    "x = layers.Dense(512, activation=\"relu\")(inputs)\n",
    "outputs = layers.Dense(10, activation=\"softmax\")(x)\n",
    "\n",
    "model = keras.Model(inputs=inputs, outputs=outputs)"
   ]
  },
  {
   "cell_type": "code",
   "execution_count": 36,
   "id": "ba85f235",
   "metadata": {
    "ExecuteTime": {
     "end_time": "2022-01-14T10:40:26.092438Z",
     "start_time": "2022-01-14T10:40:26.078442Z"
    }
   },
   "outputs": [
    {
     "name": "stdout",
     "output_type": "stream",
     "text": [
      "Model: \"model\"\n",
      "_________________________________________________________________\n",
      "Layer (type)                 Output Shape              Param #   \n",
      "=================================================================\n",
      "input_1 (InputLayer)         [(None, 784)]             0         \n",
      "_________________________________________________________________\n",
      "dense_2 (Dense)              (None, 512)               401920    \n",
      "_________________________________________________________________\n",
      "dense_3 (Dense)              (None, 10)                5130      \n",
      "=================================================================\n",
      "Total params: 407,050\n",
      "Trainable params: 407,050\n",
      "Non-trainable params: 0\n",
      "_________________________________________________________________\n"
     ]
    }
   ],
   "source": [
    "model.summary()"
   ]
  },
  {
   "cell_type": "code",
   "execution_count": 37,
   "id": "519f6106",
   "metadata": {
    "ExecuteTime": {
     "end_time": "2022-01-14T10:40:27.070934Z",
     "start_time": "2022-01-14T10:40:27.061933Z"
    }
   },
   "outputs": [],
   "source": [
    "model.compile(optimizer=\"rmsprop\",\n",
    "              loss=\"sparse_categorical_crossentropy\",\n",
    "              metrics=[\"accuracy\"])"
   ]
  },
  {
   "cell_type": "code",
   "execution_count": 38,
   "id": "6f4b4d51",
   "metadata": {
    "ExecuteTime": {
     "end_time": "2022-01-14T10:40:34.782270Z",
     "start_time": "2022-01-14T10:40:27.598144Z"
    }
   },
   "outputs": [
    {
     "name": "stdout",
     "output_type": "stream",
     "text": [
      "Epoch 1/5\n",
      "469/469 [==============================] - 2s 3ms/step - loss: 0.2547 - accuracy: 0.9252\n",
      "Epoch 2/5\n",
      "469/469 [==============================] - 1s 3ms/step - loss: 0.1031 - accuracy: 0.9691\n",
      "Epoch 3/5\n",
      "469/469 [==============================] - 1s 3ms/step - loss: 0.0681 - accuracy: 0.9797\n",
      "Epoch 4/5\n",
      "469/469 [==============================] - 1s 3ms/step - loss: 0.0501 - accuracy: 0.9844\n",
      "Epoch 5/5\n",
      "469/469 [==============================] - 1s 3ms/step - loss: 0.0375 - accuracy: 0.9891\n"
     ]
    }
   ],
   "source": [
    "history = model.fit(train_images, train_labels, epochs=5, batch_size=128)"
   ]
  },
  {
   "cell_type": "code",
   "execution_count": 39,
   "id": "7a5a7442",
   "metadata": {
    "ExecuteTime": {
     "end_time": "2022-01-14T10:40:36.153570Z",
     "start_time": "2022-01-14T10:40:35.430105Z"
    }
   },
   "outputs": [
    {
     "name": "stdout",
     "output_type": "stream",
     "text": [
      "313/313 [==============================] - 1s 2ms/step - loss: 0.0635 - accuracy: 0.9804\n",
      "Test accuracy: 0.980\n"
     ]
    }
   ],
   "source": [
    "test_loss, test_acc = model.evaluate(test_images, test_labels)\n",
    "print(f\"Test accuracy: {test_acc:.3f}\")"
   ]
  },
  {
   "cell_type": "code",
   "execution_count": 42,
   "id": "8a122468",
   "metadata": {
    "ExecuteTime": {
     "end_time": "2022-01-14T10:41:23.404498Z",
     "start_time": "2022-01-14T10:41:23.136184Z"
    }
   },
   "outputs": [
    {
     "data": {
      "image/png": "[encoded data removed]",
      "text/plain": [
       "<Figure size 1152x432 with 2 Axes>"
      ]
     },
     "metadata": {
      "needs_background": "light"
     },
     "output_type": "display_data"
    }
   ],
   "source": [
    "accuracy = history.history['accuracy']\n",
    "epochs = range(1, len(accuracy) + 1)\n",
    "\n",
    "fig, axes = plt.subplots(1, 2, figsize=(16, 6))\n",
    "axes[0].plot(epochs, history.history['accuracy'], 'o-')\n",
    "axes[1].plot(epochs, history.history['loss'], 'o-')\n",
    "\n",
    "# Some axes labeling and prettification\n",
    "axes[0].set_title(\"Accuracy\", fontsize=14, weight='bold')\n",
    "axes[1].set_title(\"Loss\", fontsize=14, weight='bold')"
   ]
  }
 ],
 "metadata": {
  "kernelspec": {
   "display_name": "Python 3 (ipykernel)",
   "language": "python",
   "name": "python3"
  },
  "language_info": {
   "codemirror_mode": {
    "name": "ipython",
    "version": 3
   },
   "file_extension": ".py",
   "mimetype": "text/x-python",
   "name": "python",
   "nbconvert_exporter": "python",
   "pygments_lexer": "ipython3",
   "version": "3.9.6"
  }
 },
 "nbformat": 4,
 "nbformat_minor": 5
}
